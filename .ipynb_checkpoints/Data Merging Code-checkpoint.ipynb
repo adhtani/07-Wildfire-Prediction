{
 "cells": [
  {
   "cell_type": "markdown",
   "metadata": {},
   "source": [
    "# Data Merging"
   ]
  },
  {
   "cell_type": "code",
   "execution_count": 1,
   "metadata": {},
   "outputs": [],
   "source": [
    "import datetime as dt\n",
    "from pathlib import Path\n",
    "import math\n",
    "import os\n",
    "import sqlite3\n",
    "import json\n",
    "import geopandas as gpd\n",
    "import pygeos\n",
    "import pyproj    \n",
    "import shapely\n",
    "import shapely.ops as ops\n",
    "from shapely.geometry import Point, Polygon\n",
    "from shapely.geometry.polygon import Polygon\n",
    "from functools import partial\n",
    "\n",
    "import pandas as pd\n",
    "import numpy as np\n",
    "import seaborn as sns\n",
    "import matplotlib.pyplot as plt\n",
    "%matplotlib inline \n",
    "\n",
    "from sklearn.model_selection import train_test_split\n",
    "\n",
    "\n",
    "from sklearn import svm\n",
    "from sklearn.svm import SVC\n",
    "from sklearn.ensemble import RandomForestClassifier\n",
    "from sklearn.naive_bayes import GaussianNB\n",
    "from sklearn.metrics import accuracy_score, classification_report, confusion_matrix\n",
    "\n",
    "from sklearn.feature_selection import SelectKBest\n",
    "from sklearn.feature_selection import chi2, f_classif, mutual_info_classif\n",
    "from functools import partial\n",
    "\n",
    "\n",
    "from sklearn.preprocessing import StandardScaler\n",
    "\n",
    "import warnings\n",
    "warnings.filterwarnings('ignore')"
   ]
  },
  {
   "cell_type": "markdown",
   "metadata": {},
   "source": [
    "### Dataset 1"
   ]
  },
  {
   "cell_type": "code",
   "execution_count": 250,
   "metadata": {},
   "outputs": [
    {
     "name": "stdout",
     "output_type": "stream",
     "text": [
      "+init=epsg:3310 +type=crs\n",
      "+init=epsg:3310 +type=crs\n",
      "+init=epsg:3310 +type=crs\n",
      "+init=epsg:4326 +type=crs\n"
     ]
    }
   ],
   "source": [
    "print(geo_daily_df.crs)\n",
    "print(geo_nasa_df.crs)\n",
    "print(geo_fires_df.crs)\n",
    "print(geo_soil_df.crs)"
   ]
  },
  {
   "cell_type": "markdown",
   "metadata": {},
   "source": [
    "#### First combine all weather and Soil data with nasa dataset"
   ]
  },
  {
   "cell_type": "code",
   "execution_count": 251,
   "metadata": {},
   "outputs": [],
   "source": [
    "def get_nearestpoint(df1, df1day, df2, df2day, days, dist):\n",
    "    \"\"\"\n",
    "        This Function merges dataframe for selected day by finding nearest points\n",
    "        for each day and creates mini dfs for each day of month\n",
    "    \"\"\"\n",
    "      \n",
    "    dfs = [] \n",
    "    for day in days:\n",
    "        df = df1[df1[df1day] == day]\n",
    "        df3 = df2[df2[df2day] == day]\n",
    "        m_df = gpd.sjoin_nearest(df, df3, how='left', distance_col=dist)\n",
    "        m_df[dist] = m_df[dist].apply(lambda x: x/1000)\n",
    "        d = pd.DataFrame(m_df)\n",
    "        dfs.append(d)\n",
    "    \n",
    "    dfs = pd.concat(dfs)\n",
    "    return dfs"
   ]
  },
  {
   "cell_type": "code",
   "execution_count": 252,
   "metadata": {},
   "outputs": [],
   "source": [
    "def merge_data(data1, df1year, df1month, df1day, data2, df2year, df2month,df2day, dist, year, months, days):\n",
    "    \"\"\"\n",
    "        This Function filters dataframe by year and months and calls for day dfs,\n",
    "        append it and then converts it into pandas df. \n",
    "    \"\"\"\n",
    "    dfs = []\n",
    "    for month in months:\n",
    "        df1 = data1[(data1[df1year] == year) & (data1[df1month] == month)]\n",
    "        df2 = data2[(data2[df2year] == year) & (data2[df2month] == month)]\n",
    "        df = get_nearestpoint(df1, df1day, df2, df2day, days, dist)\n",
    "        dfs.append(df)\n",
    "    \n",
    "    dfs = pd.concat(dfs)\n",
    "    return dfs            "
   ]
  },
  {
   "cell_type": "code",
   "execution_count": 253,
   "metadata": {},
   "outputs": [],
   "source": [
    "def get_data(df1, df1year, df1month,df1day, df2, df2year, df2month,df2day, dist):\n",
    "    \"\"\"\n",
    "        This calls for all dataframes and combine it and create one dataset for \n",
    "        nasa data and daily temperatures \n",
    "    \"\"\"\n",
    "    years = list(range(2010, 2021))\n",
    "    months = list(range(1, 13))\n",
    "    days = list(range(1, 32))\n",
    "    \n",
    "    dataframesList = []\n",
    "    for year in years:\n",
    "        data = merge_data(df1, df1year, df1month,df1day, df2, df2year, df2month,df2day, dist, year, months, days)\n",
    "        \n",
    "        dataframesList.append(data)\n",
    "    \n",
    "    df = gpd.GeoDataFrame(pd.concat(dataframesList), crs=crs)\n",
    "    try:\n",
    "        df.drop('index_right', axis=1, inplace=True)\n",
    "    except ValueError:\n",
    "        # ignore if there are no index columns\n",
    "        pass\n",
    "    \n",
    "    print(df.shape)\n",
    "    \n",
    "    return df\n",
    "    "
   ]
  },
  {
   "cell_type": "markdown",
   "metadata": {},
   "source": [
    "#### Combine California fire data with nasa DF"
   ]
  },
  {
   "cell_type": "code",
   "execution_count": 254,
   "metadata": {},
   "outputs": [
    {
     "name": "stdout",
     "output_type": "stream",
     "text": [
      "(114599, 31)\n"
     ]
    }
   ],
   "source": [
    "pixel_temp = get_data(geo_nasa_df, 'ActiveYear', 'ActiveMonth', 'ActiveDay', \n",
    "                      geo_daily_df, 'TempYear', 'TempMonth', 'TempDay', 'Station_dist')"
   ]
  },
  {
   "cell_type": "code",
   "execution_count": 255,
   "metadata": {},
   "outputs": [
    {
     "name": "stdout",
     "output_type": "stream",
     "text": [
      "(119665, 66)\n"
     ]
    }
   ],
   "source": [
    "pixel_soil = get_data(pixel_temp, 'ActiveYear', 'ActiveMonth', 'ActiveDay', \n",
    "                      geo_soil_df, 'DroughtYear', 'DroughtMonth', 'DroughtDay', 'Drought_dist')"
   ]
  },
  {
   "cell_type": "markdown",
   "metadata": {},
   "source": [
    "#### Dropping Duplicates"
   ]
  },
  {
   "cell_type": "code",
   "execution_count": 256,
   "metadata": {},
   "outputs": [],
   "source": [
    "pixel_soil = pixel_soil[~(pixel_soil.index.duplicated(keep='first'))]"
   ]
  },
  {
   "cell_type": "code",
   "execution_count": 257,
   "metadata": {},
   "outputs": [
    {
     "name": "stdout",
     "output_type": "stream",
     "text": [
      "(114599, 76)\n"
     ]
    }
   ],
   "source": [
    "pixel_fire= get_data(pixel_soil, 'ActiveYear', 'ActiveMonth', 'ActiveDay', \n",
    "                     geo_fires_df, 'FireYear','FireMonth', 'FireDay', 'fire_dist')"
   ]
  },
  {
   "cell_type": "code",
   "execution_count": 258,
   "metadata": {},
   "outputs": [],
   "source": [
    "merged_df =pixel_fire"
   ]
  },
  {
   "cell_type": "code",
   "execution_count": 259,
   "metadata": {},
   "outputs": [],
   "source": [
    "# create a set for important variables and target variables.\n",
    "# Delete repetitive dates, Station name, station codes are not needed. \n",
    "# Name of the fire is also irrelevant and acres are also not \n",
    "# needed because they are attributes that are logged after the fire events.\n",
    "merged_df = merged_df.drop(['Satellite', 'StationCode', 'StationName', 'StationLatitude', 'StationLongitude', \n",
    "                            'TempDate', 'TempYear', 'TempMonth', 'TempDay', 'fips', 'DroughtDate', \n",
    "                            'DroughtYear', 'DroughtMonth', 'DroughtDay', 'FireDate', 'FireMonth', \n",
    "                            'FireYear', 'Name', 'UniqueId'], axis = 1)"
   ]
  },
  {
   "cell_type": "markdown",
   "metadata": {},
   "source": [
    "#### Perform Spatial Analysis"
   ]
  },
  {
   "cell_type": "code",
   "execution_count": 260,
   "metadata": {},
   "outputs": [],
   "source": [
    "labeled_data = merged_df[merged_df['fire_dist'].notnull()]\n",
    "unlabeled_data = merged_df[merged_df['fire_dist'].isnull()] # taking pixels that is not mapped to any fire"
   ]
  },
  {
   "cell_type": "code",
   "execution_count": 261,
   "metadata": {},
   "outputs": [
    {
     "name": "stdout",
     "output_type": "stream",
     "text": [
      "(82493, 57)\n",
      "(32106, 57)\n"
     ]
    }
   ],
   "source": [
    "print(labeled_data.shape)\n",
    "print(unlabeled_data.shape)"
   ]
  },
  {
   "cell_type": "code",
   "execution_count": 262,
   "metadata": {},
   "outputs": [
    {
     "data": {
      "text/html": [
       "<div>\n",
       "<style scoped>\n",
       "    .dataframe tbody tr th:only-of-type {\n",
       "        vertical-align: middle;\n",
       "    }\n",
       "\n",
       "    .dataframe tbody tr th {\n",
       "        vertical-align: top;\n",
       "    }\n",
       "\n",
       "    .dataframe thead th {\n",
       "        text-align: right;\n",
       "    }\n",
       "</style>\n",
       "<table border=\"1\" class=\"dataframe\">\n",
       "  <thead>\n",
       "    <tr style=\"text-align: right;\">\n",
       "      <th></th>\n",
       "      <th>fire_dist</th>\n",
       "      <th>Station_dist</th>\n",
       "      <th>Drought_dist</th>\n",
       "    </tr>\n",
       "  </thead>\n",
       "  <tbody>\n",
       "    <tr>\n",
       "      <th>count</th>\n",
       "      <td>82493.000000</td>\n",
       "      <td>82493.000000</td>\n",
       "      <td>82493.000000</td>\n",
       "    </tr>\n",
       "    <tr>\n",
       "      <th>mean</th>\n",
       "      <td>299.182305</td>\n",
       "      <td>50.681572</td>\n",
       "      <td>310.481150</td>\n",
       "    </tr>\n",
       "    <tr>\n",
       "      <th>std</th>\n",
       "      <td>230.135528</td>\n",
       "      <td>85.893810</td>\n",
       "      <td>158.940170</td>\n",
       "    </tr>\n",
       "    <tr>\n",
       "      <th>min</th>\n",
       "      <td>0.000000</td>\n",
       "      <td>0.051470</td>\n",
       "      <td>0.260367</td>\n",
       "    </tr>\n",
       "    <tr>\n",
       "      <th>25%</th>\n",
       "      <td>122.804595</td>\n",
       "      <td>14.653380</td>\n",
       "      <td>202.725861</td>\n",
       "    </tr>\n",
       "    <tr>\n",
       "      <th>50%</th>\n",
       "      <td>237.723699</td>\n",
       "      <td>23.041096</td>\n",
       "      <td>299.132089</td>\n",
       "    </tr>\n",
       "    <tr>\n",
       "      <th>75%</th>\n",
       "      <td>430.907748</td>\n",
       "      <td>36.686614</td>\n",
       "      <td>442.452498</td>\n",
       "    </tr>\n",
       "    <tr>\n",
       "      <th>max</th>\n",
       "      <td>1259.457214</td>\n",
       "      <td>518.527597</td>\n",
       "      <td>805.499278</td>\n",
       "    </tr>\n",
       "  </tbody>\n",
       "</table>\n",
       "</div>"
      ],
      "text/plain": [
       "          fire_dist  Station_dist  Drought_dist\n",
       "count  82493.000000  82493.000000  82493.000000\n",
       "mean     299.182305     50.681572    310.481150\n",
       "std      230.135528     85.893810    158.940170\n",
       "min        0.000000      0.051470      0.260367\n",
       "25%      122.804595     14.653380    202.725861\n",
       "50%      237.723699     23.041096    299.132089\n",
       "75%      430.907748     36.686614    442.452498\n",
       "max     1259.457214    518.527597    805.499278"
      ]
     },
     "execution_count": 262,
     "metadata": {},
     "output_type": "execute_result"
    }
   ],
   "source": [
    "labeled_data[['fire_dist', 'Station_dist', 'Drought_dist']].describe()"
   ]
  },
  {
   "cell_type": "markdown",
   "metadata": {},
   "source": [
    "The maximum number of TotalAcres burned is 410202 Acres and roughly 1660 km^2, meaning the maximum distance a potential fire goes in any one direction is approximately around 830 km and min 1 km. This could've been a threshold to filter our data out for fire_dist to fire pixel if we were only trying to detect the fire pixel is true fire or not in any given day of the fire (considering fire can go on for weeks). However, the main purpose of this project is to build a model that can be used for early detection of the wildfire, so the hazard can be prevented from spreading. Not all fire pixels are true fire pixels and some times it is a false alarm. So we will filter for pixels that are within than 1 km from the true fire event, 1 km is used as a threshold because MODIS location coordinates are center of 1km fire pixel but not necessarily the actual location of the fire as one or more fires can be detected within the 1km pixel. Randomly sampled data from unlabeled data will be used as false alarms because no fire event was mapped to those dates."
   ]
  },
  {
   "cell_type": "code",
   "execution_count": 263,
   "metadata": {},
   "outputs": [],
   "source": [
    "class1 = labeled_data[labeled_data['fire_dist'] <=1]"
   ]
  },
  {
   "cell_type": "code",
   "execution_count": 264,
   "metadata": {},
   "outputs": [
    {
     "data": {
      "text/html": [
       "<div>\n",
       "<style scoped>\n",
       "    .dataframe tbody tr th:only-of-type {\n",
       "        vertical-align: middle;\n",
       "    }\n",
       "\n",
       "    .dataframe tbody tr th {\n",
       "        vertical-align: top;\n",
       "    }\n",
       "\n",
       "    .dataframe thead th {\n",
       "        text-align: right;\n",
       "    }\n",
       "</style>\n",
       "<table border=\"1\" class=\"dataframe\">\n",
       "  <thead>\n",
       "    <tr style=\"text-align: right;\">\n",
       "      <th></th>\n",
       "      <th>fire_dist</th>\n",
       "      <th>Station_dist</th>\n",
       "    </tr>\n",
       "  </thead>\n",
       "  <tbody>\n",
       "    <tr>\n",
       "      <th>count</th>\n",
       "      <td>2087.000000</td>\n",
       "      <td>2087.000000</td>\n",
       "    </tr>\n",
       "    <tr>\n",
       "      <th>mean</th>\n",
       "      <td>0.218470</td>\n",
       "      <td>20.609494</td>\n",
       "    </tr>\n",
       "    <tr>\n",
       "      <th>std</th>\n",
       "      <td>0.285376</td>\n",
       "      <td>12.244417</td>\n",
       "    </tr>\n",
       "    <tr>\n",
       "      <th>min</th>\n",
       "      <td>0.000000</td>\n",
       "      <td>0.177639</td>\n",
       "    </tr>\n",
       "    <tr>\n",
       "      <th>25%</th>\n",
       "      <td>0.000000</td>\n",
       "      <td>11.653871</td>\n",
       "    </tr>\n",
       "    <tr>\n",
       "      <th>50%</th>\n",
       "      <td>0.030367</td>\n",
       "      <td>19.253845</td>\n",
       "    </tr>\n",
       "    <tr>\n",
       "      <th>75%</th>\n",
       "      <td>0.410110</td>\n",
       "      <td>27.747893</td>\n",
       "    </tr>\n",
       "    <tr>\n",
       "      <th>max</th>\n",
       "      <td>0.999613</td>\n",
       "      <td>71.508454</td>\n",
       "    </tr>\n",
       "  </tbody>\n",
       "</table>\n",
       "</div>"
      ],
      "text/plain": [
       "         fire_dist  Station_dist\n",
       "count  2087.000000   2087.000000\n",
       "mean      0.218470     20.609494\n",
       "std       0.285376     12.244417\n",
       "min       0.000000      0.177639\n",
       "25%       0.000000     11.653871\n",
       "50%       0.030367     19.253845\n",
       "75%       0.410110     27.747893\n",
       "max       0.999613     71.508454"
      ]
     },
     "execution_count": 264,
     "metadata": {},
     "output_type": "execute_result"
    }
   ],
   "source": [
    "class1[['fire_dist', 'Station_dist']].describe()"
   ]
  },
  {
   "cell_type": "markdown",
   "metadata": {},
   "source": [
    "Station distance is sort of irrelevant as it is maximum 71 km away from the fire pixel, which is usually within county limit, and drastic weather changes are highly unlikely for such close approximation. "
   ]
  },
  {
   "cell_type": "code",
   "execution_count": 265,
   "metadata": {},
   "outputs": [],
   "source": [
    "# class2 = unlabeled_data.sample(frac=.08)\n",
    "unlabeled_fires = labeled_data[labeled_data['fire_dist'] >1]"
   ]
  },
  {
   "cell_type": "code",
   "execution_count": 957,
   "metadata": {},
   "outputs": [],
   "source": [
    "#class2 = class1.append(class2)"
   ]
  },
  {
   "cell_type": "code",
   "execution_count": 266,
   "metadata": {},
   "outputs": [
    {
     "name": "stdout",
     "output_type": "stream",
     "text": [
      "(2087, 57)\n",
      "(80406, 57)\n",
      "(32106, 57)\n"
     ]
    }
   ],
   "source": [
    "print(class1.shape)\n",
    "print(unlabeled_fires.shape)\n",
    "print(unlabeled_data.shape)"
   ]
  },
  {
   "cell_type": "markdown",
   "metadata": {},
   "source": [
    "#### Check for duplicates after merging"
   ]
  },
  {
   "cell_type": "code",
   "execution_count": 267,
   "metadata": {},
   "outputs": [
    {
     "data": {
      "text/html": [
       "<div>\n",
       "<style scoped>\n",
       "    .dataframe tbody tr th:only-of-type {\n",
       "        vertical-align: middle;\n",
       "    }\n",
       "\n",
       "    .dataframe tbody tr th {\n",
       "        vertical-align: top;\n",
       "    }\n",
       "\n",
       "    .dataframe thead th {\n",
       "        text-align: right;\n",
       "    }\n",
       "</style>\n",
       "<table border=\"1\" class=\"dataframe\">\n",
       "  <thead>\n",
       "    <tr style=\"text-align: right;\">\n",
       "      <th></th>\n",
       "      <th>NasaLatitude</th>\n",
       "      <th>NasaLongitude</th>\n",
       "      <th>Brightness</th>\n",
       "      <th>Scan</th>\n",
       "      <th>Track</th>\n",
       "      <th>ActiveDate</th>\n",
       "      <th>Confidence</th>\n",
       "      <th>BrightT31</th>\n",
       "      <th>Frp</th>\n",
       "      <th>DayNight</th>\n",
       "      <th>...</th>\n",
       "      <th>CULTIR_LAND</th>\n",
       "      <th>SQ2</th>\n",
       "      <th>SQ3</th>\n",
       "      <th>SQ4</th>\n",
       "      <th>Drought_dist</th>\n",
       "      <th>FireCause</th>\n",
       "      <th>TotalAcres</th>\n",
       "      <th>FireDay</th>\n",
       "      <th>FireSize</th>\n",
       "      <th>fire_dist</th>\n",
       "    </tr>\n",
       "  </thead>\n",
       "  <tbody>\n",
       "  </tbody>\n",
       "</table>\n",
       "<p>0 rows × 57 columns</p>\n",
       "</div>"
      ],
      "text/plain": [
       "Empty GeoDataFrame\n",
       "Columns: [NasaLatitude, NasaLongitude, Brightness, Scan, Track, ActiveDate, Confidence, BrightT31, Frp, DayNight, HotSpotType, ActiveYear, ActiveMonth, ActiveDay, ConfidenceBinned, geometry, Elevation, Precip, Max_Temp, Min_Temp, Avg_Temp, Station_dist, PRECTOT, PS, T2M_RANGE, TS, WS10M, WS10M_RANGE, lat, lon, elevation, slope1, slope2, slope3, slope4, slope6, slope8, aspectN, aspectE, aspectS, aspectW, WAT_LAND, NVG_LAND, URB_LAND, GRS_LAND, FOR_LAND, CULTRF_LAND, CULTIR_LAND, SQ2, SQ3, SQ4, Drought_dist, FireCause, TotalAcres, FireDay, FireSize, fire_dist]\n",
       "Index: []\n",
       "\n",
       "[0 rows x 57 columns]"
      ]
     },
     "execution_count": 267,
     "metadata": {},
     "output_type": "execute_result"
    }
   ],
   "source": [
    "class1[class1.index.duplicated(keep=False)]"
   ]
  },
  {
   "cell_type": "code",
   "execution_count": 268,
   "metadata": {},
   "outputs": [
    {
     "data": {
      "text/html": [
       "<div>\n",
       "<style scoped>\n",
       "    .dataframe tbody tr th:only-of-type {\n",
       "        vertical-align: middle;\n",
       "    }\n",
       "\n",
       "    .dataframe tbody tr th {\n",
       "        vertical-align: top;\n",
       "    }\n",
       "\n",
       "    .dataframe thead th {\n",
       "        text-align: right;\n",
       "    }\n",
       "</style>\n",
       "<table border=\"1\" class=\"dataframe\">\n",
       "  <thead>\n",
       "    <tr style=\"text-align: right;\">\n",
       "      <th></th>\n",
       "      <th>NasaLatitude</th>\n",
       "      <th>NasaLongitude</th>\n",
       "      <th>Brightness</th>\n",
       "      <th>Scan</th>\n",
       "      <th>Track</th>\n",
       "      <th>ActiveDate</th>\n",
       "      <th>Confidence</th>\n",
       "      <th>BrightT31</th>\n",
       "      <th>Frp</th>\n",
       "      <th>DayNight</th>\n",
       "      <th>...</th>\n",
       "      <th>CULTIR_LAND</th>\n",
       "      <th>SQ2</th>\n",
       "      <th>SQ3</th>\n",
       "      <th>SQ4</th>\n",
       "      <th>Drought_dist</th>\n",
       "      <th>FireCause</th>\n",
       "      <th>TotalAcres</th>\n",
       "      <th>FireDay</th>\n",
       "      <th>FireSize</th>\n",
       "      <th>fire_dist</th>\n",
       "    </tr>\n",
       "  </thead>\n",
       "  <tbody>\n",
       "  </tbody>\n",
       "</table>\n",
       "<p>0 rows × 57 columns</p>\n",
       "</div>"
      ],
      "text/plain": [
       "Empty GeoDataFrame\n",
       "Columns: [NasaLatitude, NasaLongitude, Brightness, Scan, Track, ActiveDate, Confidence, BrightT31, Frp, DayNight, HotSpotType, ActiveYear, ActiveMonth, ActiveDay, ConfidenceBinned, geometry, Elevation, Precip, Max_Temp, Min_Temp, Avg_Temp, Station_dist, PRECTOT, PS, T2M_RANGE, TS, WS10M, WS10M_RANGE, lat, lon, elevation, slope1, slope2, slope3, slope4, slope6, slope8, aspectN, aspectE, aspectS, aspectW, WAT_LAND, NVG_LAND, URB_LAND, GRS_LAND, FOR_LAND, CULTRF_LAND, CULTIR_LAND, SQ2, SQ3, SQ4, Drought_dist, FireCause, TotalAcres, FireDay, FireSize, fire_dist]\n",
       "Index: []\n",
       "\n",
       "[0 rows x 57 columns]"
      ]
     },
     "execution_count": 268,
     "metadata": {},
     "output_type": "execute_result"
    }
   ],
   "source": [
    "unlabeled_fires[unlabeled_fires.index.duplicated(keep=False)]"
   ]
  },
  {
   "cell_type": "code",
   "execution_count": 269,
   "metadata": {},
   "outputs": [
    {
     "data": {
      "text/html": [
       "<div>\n",
       "<style scoped>\n",
       "    .dataframe tbody tr th:only-of-type {\n",
       "        vertical-align: middle;\n",
       "    }\n",
       "\n",
       "    .dataframe tbody tr th {\n",
       "        vertical-align: top;\n",
       "    }\n",
       "\n",
       "    .dataframe thead th {\n",
       "        text-align: right;\n",
       "    }\n",
       "</style>\n",
       "<table border=\"1\" class=\"dataframe\">\n",
       "  <thead>\n",
       "    <tr style=\"text-align: right;\">\n",
       "      <th></th>\n",
       "      <th>NasaLatitude</th>\n",
       "      <th>NasaLongitude</th>\n",
       "      <th>Brightness</th>\n",
       "      <th>Scan</th>\n",
       "      <th>Track</th>\n",
       "      <th>ActiveDate</th>\n",
       "      <th>Confidence</th>\n",
       "      <th>BrightT31</th>\n",
       "      <th>Frp</th>\n",
       "      <th>DayNight</th>\n",
       "      <th>...</th>\n",
       "      <th>CULTIR_LAND</th>\n",
       "      <th>SQ2</th>\n",
       "      <th>SQ3</th>\n",
       "      <th>SQ4</th>\n",
       "      <th>Drought_dist</th>\n",
       "      <th>FireCause</th>\n",
       "      <th>TotalAcres</th>\n",
       "      <th>FireDay</th>\n",
       "      <th>FireSize</th>\n",
       "      <th>fire_dist</th>\n",
       "    </tr>\n",
       "  </thead>\n",
       "  <tbody>\n",
       "  </tbody>\n",
       "</table>\n",
       "<p>0 rows × 57 columns</p>\n",
       "</div>"
      ],
      "text/plain": [
       "Empty GeoDataFrame\n",
       "Columns: [NasaLatitude, NasaLongitude, Brightness, Scan, Track, ActiveDate, Confidence, BrightT31, Frp, DayNight, HotSpotType, ActiveYear, ActiveMonth, ActiveDay, ConfidenceBinned, geometry, Elevation, Precip, Max_Temp, Min_Temp, Avg_Temp, Station_dist, PRECTOT, PS, T2M_RANGE, TS, WS10M, WS10M_RANGE, lat, lon, elevation, slope1, slope2, slope3, slope4, slope6, slope8, aspectN, aspectE, aspectS, aspectW, WAT_LAND, NVG_LAND, URB_LAND, GRS_LAND, FOR_LAND, CULTRF_LAND, CULTIR_LAND, SQ2, SQ3, SQ4, Drought_dist, FireCause, TotalAcres, FireDay, FireSize, fire_dist]\n",
       "Index: []\n",
       "\n",
       "[0 rows x 57 columns]"
      ]
     },
     "execution_count": 269,
     "metadata": {},
     "output_type": "execute_result"
    }
   ],
   "source": [
    "unlabeled_data[unlabeled_data.index.duplicated(keep=False)]"
   ]
  },
  {
   "cell_type": "code",
   "execution_count": 270,
   "metadata": {},
   "outputs": [],
   "source": [
    "class1[\"Target\"] = 1\n",
    "unlabeled_fires[\"Target\"] = 0\n",
    "unlabeled_data[\"Target\"] = 0\n",
    "class2 = unlabeled_fires.append(unlabeled_data)"
   ]
  },
  {
   "cell_type": "code",
   "execution_count": 273,
   "metadata": {},
   "outputs": [],
   "source": [
    "fire_data = class1.append(class2)"
   ]
  },
  {
   "cell_type": "code",
   "execution_count": 274,
   "metadata": {},
   "outputs": [
    {
     "data": {
      "text/plain": [
       "(114599, 58)"
      ]
     },
     "execution_count": 274,
     "metadata": {},
     "output_type": "execute_result"
    }
   ],
   "source": [
    "fire_data.shape"
   ]
  },
  {
   "cell_type": "code",
   "execution_count": 275,
   "metadata": {},
   "outputs": [],
   "source": [
    "fire_data = fire_data.replace({'DayNight': {'D':1, 'N':0}, 'ConfidenceBinned': {'low':0, 'nominal': 1, 'high':2}})"
   ]
  },
  {
   "cell_type": "code",
   "execution_count": 276,
   "metadata": {},
   "outputs": [
    {
     "data": {
      "text/plain": [
       "(114599, 43)"
      ]
     },
     "execution_count": 276,
     "metadata": {},
     "output_type": "execute_result"
    }
   ],
   "source": [
    "features = fire_data.drop(['ActiveYear', 'ActiveMonth', 'ActiveDay','Station_dist', \n",
    "                           'lat','lon','Drought_dist', 'FireDay', 'fire_dist', 'Target', \n",
    "                           'ActiveDate', 'Confidence', 'geometry', 'FireSize', 'TotalAcres'], axis = 1)\n",
    "features.shape"
   ]
  },
  {
   "cell_type": "code",
   "execution_count": 277,
   "metadata": {},
   "outputs": [],
   "source": [
    "fire_data.to_csv('Data/clean_dataset_preliminary.csv')  "
   ]
  },
  {
   "cell_type": "markdown",
   "metadata": {},
   "source": [
    "### Final Analysis: Secondary and Optional Approach for Modeling"
   ]
  },
  {
   "cell_type": "markdown",
   "metadata": {},
   "source": [
    "For this analysis, we will be going back to data preparation part and change the data little bit. For the first approach we took out all the noise data and trained the model with fire pixels that were mapped to the true fire events within the 1 km of the fire event on the day of fire alarm and with the unlabeled fire pixels that were not mapped with the fire events. However, this approach has some biases: \n",
    "1. We do not know how much of the unlabeled data (fire pixels that was not mapped to the exact date of fire event) are true fire pixels after the start of fire.\n",
    "2. All the fire pixels that were about more than 1 km away could also be true fire events on a different day for different fire event, because fire can go on for weeks. For example, for class C fire which is less than 100 acres (0.400639 km^2) can go minimum 0.400639 km and maximum 1 km distance for fire, any fire pixels in that range of distance and duration range between the day of actual fire and the fire containment date can be considered true fire event, anything outside of that distance threshold can be a false alarm, however anything outside of duration but within the 1 km distance means it is an ongoing fire.\n",
    "    Note: The containment date signifies that control line has been completed around the fire, and any associated spot fires, which can reasonably be expected to stop the fire's spread, but the fire can continue going for months.\n",
    "\n",
    "There are few assumptions I will be making when creating a transformed dataset only for this project purpose."
   ]
  },
  {
   "cell_type": "markdown",
   "metadata": {},
   "source": [
    "### Dataset 2"
   ]
  },
  {
   "cell_type": "code",
   "execution_count": 278,
   "metadata": {},
   "outputs": [
    {
     "data": {
      "text/html": [
       "<div>\n",
       "<style scoped>\n",
       "    .dataframe tbody tr th:only-of-type {\n",
       "        vertical-align: middle;\n",
       "    }\n",
       "\n",
       "    .dataframe tbody tr th {\n",
       "        vertical-align: top;\n",
       "    }\n",
       "\n",
       "    .dataframe thead th {\n",
       "        text-align: right;\n",
       "    }\n",
       "</style>\n",
       "<table border=\"1\" class=\"dataframe\">\n",
       "  <thead>\n",
       "    <tr style=\"text-align: right;\">\n",
       "      <th></th>\n",
       "      <th>NasaLatitude</th>\n",
       "      <th>NasaLongitude</th>\n",
       "      <th>Brightness</th>\n",
       "      <th>Scan</th>\n",
       "      <th>Track</th>\n",
       "      <th>ActiveDate</th>\n",
       "      <th>Confidence</th>\n",
       "      <th>BrightT31</th>\n",
       "      <th>Frp</th>\n",
       "      <th>DayNight</th>\n",
       "      <th>...</th>\n",
       "      <th>SQ2</th>\n",
       "      <th>SQ3</th>\n",
       "      <th>SQ4</th>\n",
       "      <th>Drought_dist</th>\n",
       "      <th>FireCause</th>\n",
       "      <th>TotalAcres</th>\n",
       "      <th>FireDay</th>\n",
       "      <th>FireSize</th>\n",
       "      <th>fire_dist</th>\n",
       "      <th>Target</th>\n",
       "    </tr>\n",
       "  </thead>\n",
       "  <tbody>\n",
       "    <tr>\n",
       "      <th>39687</th>\n",
       "      <td>36.8878</td>\n",
       "      <td>-118.2121</td>\n",
       "      <td>315.9</td>\n",
       "      <td>1.3</td>\n",
       "      <td>1.1</td>\n",
       "      <td>2011-03-02</td>\n",
       "      <td>74</td>\n",
       "      <td>280.6</td>\n",
       "      <td>22.2</td>\n",
       "      <td>D</td>\n",
       "      <td>...</td>\n",
       "      <td>1</td>\n",
       "      <td>1</td>\n",
       "      <td>1</td>\n",
       "      <td>201.810651</td>\n",
       "      <td>Escaped Prescribed Burn</td>\n",
       "      <td>908.44952</td>\n",
       "      <td>2.0</td>\n",
       "      <td>E</td>\n",
       "      <td>0.000000</td>\n",
       "      <td>1</td>\n",
       "    </tr>\n",
       "    <tr>\n",
       "      <th>39705</th>\n",
       "      <td>36.8816</td>\n",
       "      <td>-118.2201</td>\n",
       "      <td>305.3</td>\n",
       "      <td>1.5</td>\n",
       "      <td>1.2</td>\n",
       "      <td>2011-03-02</td>\n",
       "      <td>50</td>\n",
       "      <td>291.6</td>\n",
       "      <td>6.2</td>\n",
       "      <td>D</td>\n",
       "      <td>...</td>\n",
       "      <td>1</td>\n",
       "      <td>1</td>\n",
       "      <td>1</td>\n",
       "      <td>201.693111</td>\n",
       "      <td>Escaped Prescribed Burn</td>\n",
       "      <td>908.44952</td>\n",
       "      <td>2.0</td>\n",
       "      <td>E</td>\n",
       "      <td>0.867453</td>\n",
       "      <td>1</td>\n",
       "    </tr>\n",
       "    <tr>\n",
       "      <th>77188</th>\n",
       "      <td>37.3252</td>\n",
       "      <td>-118.5696</td>\n",
       "      <td>330.4</td>\n",
       "      <td>3.8</td>\n",
       "      <td>1.8</td>\n",
       "      <td>2011-05-25</td>\n",
       "      <td>0</td>\n",
       "      <td>284.5</td>\n",
       "      <td>184.2</td>\n",
       "      <td>D</td>\n",
       "      <td>...</td>\n",
       "      <td>1</td>\n",
       "      <td>1</td>\n",
       "      <td>1</td>\n",
       "      <td>147.687835</td>\n",
       "      <td>Campfire</td>\n",
       "      <td>206.36874</td>\n",
       "      <td>25.0</td>\n",
       "      <td>D</td>\n",
       "      <td>0.191879</td>\n",
       "      <td>1</td>\n",
       "    </tr>\n",
       "    <tr>\n",
       "      <th>77769</th>\n",
       "      <td>35.6501</td>\n",
       "      <td>-118.3755</td>\n",
       "      <td>341.0</td>\n",
       "      <td>2.8</td>\n",
       "      <td>1.6</td>\n",
       "      <td>2011-05-27</td>\n",
       "      <td>88</td>\n",
       "      <td>296.9</td>\n",
       "      <td>165.5</td>\n",
       "      <td>D</td>\n",
       "      <td>...</td>\n",
       "      <td>1</td>\n",
       "      <td>1</td>\n",
       "      <td>1</td>\n",
       "      <td>300.238780</td>\n",
       "      <td>Miscellaneous</td>\n",
       "      <td>1121.37290</td>\n",
       "      <td>27.0</td>\n",
       "      <td>F</td>\n",
       "      <td>0.000000</td>\n",
       "      <td>1</td>\n",
       "    </tr>\n",
       "    <tr>\n",
       "      <th>77770</th>\n",
       "      <td>35.6372</td>\n",
       "      <td>-118.3795</td>\n",
       "      <td>320.3</td>\n",
       "      <td>2.8</td>\n",
       "      <td>1.6</td>\n",
       "      <td>2011-05-27</td>\n",
       "      <td>40</td>\n",
       "      <td>302.3</td>\n",
       "      <td>48.4</td>\n",
       "      <td>D</td>\n",
       "      <td>...</td>\n",
       "      <td>1</td>\n",
       "      <td>1</td>\n",
       "      <td>1</td>\n",
       "      <td>301.329821</td>\n",
       "      <td>Miscellaneous</td>\n",
       "      <td>1121.37290</td>\n",
       "      <td>27.0</td>\n",
       "      <td>F</td>\n",
       "      <td>0.000000</td>\n",
       "      <td>1</td>\n",
       "    </tr>\n",
       "  </tbody>\n",
       "</table>\n",
       "<p>5 rows × 58 columns</p>\n",
       "</div>"
      ],
      "text/plain": [
       "       NasaLatitude  NasaLongitude  Brightness  Scan  Track ActiveDate  \\\n",
       "39687       36.8878      -118.2121       315.9   1.3    1.1 2011-03-02   \n",
       "39705       36.8816      -118.2201       305.3   1.5    1.2 2011-03-02   \n",
       "77188       37.3252      -118.5696       330.4   3.8    1.8 2011-05-25   \n",
       "77769       35.6501      -118.3755       341.0   2.8    1.6 2011-05-27   \n",
       "77770       35.6372      -118.3795       320.3   2.8    1.6 2011-05-27   \n",
       "\n",
       "       Confidence  BrightT31    Frp DayNight  ...  SQ2  SQ3  SQ4  \\\n",
       "39687          74      280.6   22.2        D  ...    1    1    1   \n",
       "39705          50      291.6    6.2        D  ...    1    1    1   \n",
       "77188           0      284.5  184.2        D  ...    1    1    1   \n",
       "77769          88      296.9  165.5        D  ...    1    1    1   \n",
       "77770          40      302.3   48.4        D  ...    1    1    1   \n",
       "\n",
       "       Drought_dist                FireCause  TotalAcres  FireDay  FireSize  \\\n",
       "39687    201.810651  Escaped Prescribed Burn   908.44952      2.0         E   \n",
       "39705    201.693111  Escaped Prescribed Burn   908.44952      2.0         E   \n",
       "77188    147.687835                 Campfire   206.36874     25.0         D   \n",
       "77769    300.238780            Miscellaneous  1121.37290     27.0         F   \n",
       "77770    301.329821            Miscellaneous  1121.37290     27.0         F   \n",
       "\n",
       "       fire_dist  Target  \n",
       "39687   0.000000       1  \n",
       "39705   0.867453       1  \n",
       "77188   0.191879       1  \n",
       "77769   0.000000       1  \n",
       "77770   0.000000       1  \n",
       "\n",
       "[5 rows x 58 columns]"
      ]
     },
     "execution_count": 278,
     "metadata": {},
     "output_type": "execute_result"
    }
   ],
   "source": [
    "class1.head() ## True Fire pixels on the day of fire and with distance withing 1 km "
   ]
  },
  {
   "cell_type": "code",
   "execution_count": 279,
   "metadata": {},
   "outputs": [],
   "source": [
    "def get_firepoints(data1, df1year, df1month, df1day, data2, df2year, df2month,df2day, dist, year):\n",
    "    \"\"\"\n",
    "        This Function filters dataframe by year and months and calls for day dfs,\n",
    "        append it and then converts it into pandas df. \n",
    "    \"\"\"\n",
    "    months = list(range(1, 13))\n",
    "    dfs = []\n",
    "    for month in months:\n",
    "        df1 = data1[(data1[df1year] == year) & (data1[df1month] == month)]\n",
    "        df2 = data2[(data2[df2year] == year) & (data2[df2month] == month)]\n",
    "\n",
    "        df = gpd.sjoin_nearest(df1, df2, how='left', distance_col=dist)\n",
    "        df[dist] = df[dist].apply(lambda x: x/1000)\n",
    "        d = pd.DataFrame(df)\n",
    "        dfs.append(d)\n",
    "            \n",
    "    dfs = pd.concat(dfs)\n",
    "    return dfs  "
   ]
  },
  {
   "cell_type": "code",
   "execution_count": 280,
   "metadata": {},
   "outputs": [],
   "source": [
    "def get_fire_data(df1, df1year, df1month, df1day, df2, df2year, df2month, df2day, dist):\n",
    "    \"\"\"\n",
    "        This calls_ for all dataframes and combine it and create one dataset for \n",
    "        fire data, so we can use the combined information to find the estimated dates\n",
    "    \"\"\"\n",
    "    years = list(range(2011, 2021))\n",
    "    dataframesList = []\n",
    "    for year in years:\n",
    "        data = get_firepoints(df1, df1year, df1month, df1day, df2, df2year, df2month, df2day, dist, year)\n",
    "        dataframesList.append(data)\n",
    "    \n",
    "    df = gpd.GeoDataFrame(pd.concat(dataframesList), crs=crs)\n",
    "    try:\n",
    "        df.drop('index_right', axis=1, inplace=True)\n",
    "    except ValueError:\n",
    "        # ignore if there are no index columns\n",
    "        pass\n",
    "    \n",
    "    print(df.shape)\n",
    "    \n",
    "    return df"
   ]
  },
  {
   "cell_type": "code",
   "execution_count": 281,
   "metadata": {},
   "outputs": [
    {
     "data": {
      "text/html": [
       "<div>\n",
       "<style scoped>\n",
       "    .dataframe tbody tr th:only-of-type {\n",
       "        vertical-align: middle;\n",
       "    }\n",
       "\n",
       "    .dataframe tbody tr th {\n",
       "        vertical-align: top;\n",
       "    }\n",
       "\n",
       "    .dataframe thead th {\n",
       "        text-align: right;\n",
       "    }\n",
       "</style>\n",
       "<table border=\"1\" class=\"dataframe\">\n",
       "  <thead>\n",
       "    <tr style=\"text-align: right;\">\n",
       "      <th></th>\n",
       "      <th>NasaLatitude</th>\n",
       "      <th>NasaLongitude</th>\n",
       "      <th>Brightness</th>\n",
       "      <th>Scan</th>\n",
       "      <th>Track</th>\n",
       "      <th>ActiveDate</th>\n",
       "      <th>Satellite</th>\n",
       "      <th>Confidence</th>\n",
       "      <th>BrightT31</th>\n",
       "      <th>Frp</th>\n",
       "      <th>...</th>\n",
       "      <th>NVG_LAND</th>\n",
       "      <th>URB_LAND</th>\n",
       "      <th>GRS_LAND</th>\n",
       "      <th>FOR_LAND</th>\n",
       "      <th>CULTRF_LAND</th>\n",
       "      <th>CULTIR_LAND</th>\n",
       "      <th>SQ2</th>\n",
       "      <th>SQ3</th>\n",
       "      <th>SQ4</th>\n",
       "      <th>Drought_dist</th>\n",
       "    </tr>\n",
       "  </thead>\n",
       "  <tbody>\n",
       "    <tr>\n",
       "      <th>26628</th>\n",
       "      <td>34.6033</td>\n",
       "      <td>-118.3848</td>\n",
       "      <td>305.8</td>\n",
       "      <td>1.2</td>\n",
       "      <td>1.1</td>\n",
       "      <td>2011-01-06</td>\n",
       "      <td>Terra</td>\n",
       "      <td>54</td>\n",
       "      <td>279.1</td>\n",
       "      <td>12.8</td>\n",
       "      <td>...</td>\n",
       "      <td>19.205658</td>\n",
       "      <td>0.005869</td>\n",
       "      <td>1.820019</td>\n",
       "      <td>4.046427</td>\n",
       "      <td>0.0</td>\n",
       "      <td>74.922028</td>\n",
       "      <td>1</td>\n",
       "      <td>1</td>\n",
       "      <td>1</td>\n",
       "      <td>406.007432</td>\n",
       "    </tr>\n",
       "    <tr>\n",
       "      <th>26638</th>\n",
       "      <td>39.8467</td>\n",
       "      <td>-121.5210</td>\n",
       "      <td>308.2</td>\n",
       "      <td>1.1</td>\n",
       "      <td>1.0</td>\n",
       "      <td>2011-01-07</td>\n",
       "      <td>Terra</td>\n",
       "      <td>74</td>\n",
       "      <td>277.9</td>\n",
       "      <td>13.5</td>\n",
       "      <td>...</td>\n",
       "      <td>0.000000</td>\n",
       "      <td>0.080900</td>\n",
       "      <td>16.224855</td>\n",
       "      <td>83.694244</td>\n",
       "      <td>0.0</td>\n",
       "      <td>0.000000</td>\n",
       "      <td>2</td>\n",
       "      <td>1</td>\n",
       "      <td>1</td>\n",
       "      <td>242.245072</td>\n",
       "    </tr>\n",
       "  </tbody>\n",
       "</table>\n",
       "<p>2 rows × 66 columns</p>\n",
       "</div>"
      ],
      "text/plain": [
       "       NasaLatitude  NasaLongitude  Brightness  Scan  Track ActiveDate  \\\n",
       "26628       34.6033      -118.3848       305.8   1.2    1.1 2011-01-06   \n",
       "26638       39.8467      -121.5210       308.2   1.1    1.0 2011-01-07   \n",
       "\n",
       "      Satellite  Confidence  BrightT31   Frp  ...   NVG_LAND  URB_LAND  \\\n",
       "26628     Terra          54      279.1  12.8  ...  19.205658  0.005869   \n",
       "26638     Terra          74      277.9  13.5  ...   0.000000  0.080900   \n",
       "\n",
       "        GRS_LAND   FOR_LAND  CULTRF_LAND CULTIR_LAND SQ2 SQ3 SQ4  Drought_dist  \n",
       "26628   1.820019   4.046427          0.0   74.922028   1   1   1    406.007432  \n",
       "26638  16.224855  83.694244          0.0    0.000000   2   1   1    242.245072  \n",
       "\n",
       "[2 rows x 66 columns]"
      ]
     },
     "execution_count": 281,
     "metadata": {},
     "output_type": "execute_result"
    }
   ],
   "source": [
    "pixel_soil.head(2)"
   ]
  },
  {
   "cell_type": "code",
   "execution_count": 282,
   "metadata": {},
   "outputs": [],
   "source": [
    "geo_fires_df = geo_fires_df[geo_fires_df['TotalAcres'].notnull()]"
   ]
  },
  {
   "cell_type": "code",
   "execution_count": 283,
   "metadata": {},
   "outputs": [],
   "source": [
    "geo_fires_df['TotalAcres_sq_km'] = geo_fires_df['TotalAcres'].apply(lambda x: x*4047/1000000)"
   ]
  },
  {
   "cell_type": "code",
   "execution_count": 284,
   "metadata": {},
   "outputs": [
    {
     "name": "stdout",
     "output_type": "stream",
     "text": [
      "(3795, 11)\n"
     ]
    },
    {
     "data": {
      "text/html": [
       "<div>\n",
       "<style scoped>\n",
       "    .dataframe tbody tr th:only-of-type {\n",
       "        vertical-align: middle;\n",
       "    }\n",
       "\n",
       "    .dataframe tbody tr th {\n",
       "        vertical-align: top;\n",
       "    }\n",
       "\n",
       "    .dataframe thead th {\n",
       "        text-align: right;\n",
       "    }\n",
       "</style>\n",
       "<table border=\"1\" class=\"dataframe\">\n",
       "  <thead>\n",
       "    <tr style=\"text-align: right;\">\n",
       "      <th></th>\n",
       "      <th>FireCause</th>\n",
       "      <th>TotalAcres</th>\n",
       "      <th>geometry</th>\n",
       "      <th>FireDate</th>\n",
       "      <th>FireYear</th>\n",
       "      <th>FireMonth</th>\n",
       "      <th>FireDay</th>\n",
       "      <th>Name</th>\n",
       "      <th>UniqueId</th>\n",
       "      <th>FireSize</th>\n",
       "      <th>TotalAcres_sq_km</th>\n",
       "    </tr>\n",
       "  </thead>\n",
       "  <tbody>\n",
       "    <tr>\n",
       "      <th>0</th>\n",
       "      <td>Powerline</td>\n",
       "      <td>109.60250</td>\n",
       "      <td>MULTIPOLYGON (((-116842.172 97942.739, -116837...</td>\n",
       "      <td>2020-06-18</td>\n",
       "      <td>2020.0</td>\n",
       "      <td>6.0</td>\n",
       "      <td>18.0</td>\n",
       "      <td>nelson</td>\n",
       "      <td>0B</td>\n",
       "      <td>D</td>\n",
       "      <td>0.443561</td>\n",
       "    </tr>\n",
       "    <tr>\n",
       "      <th>1</th>\n",
       "      <td>Equipment Use</td>\n",
       "      <td>685.58502</td>\n",
       "      <td>MULTIPOLYGON (((-117329.343 90212.620, -117322...</td>\n",
       "      <td>2020-06-01</td>\n",
       "      <td>2020.0</td>\n",
       "      <td>6.0</td>\n",
       "      <td>1.0</td>\n",
       "      <td>amoruso</td>\n",
       "      <td>0B</td>\n",
       "      <td>E</td>\n",
       "      <td>2.774563</td>\n",
       "    </tr>\n",
       "  </tbody>\n",
       "</table>\n",
       "</div>"
      ],
      "text/plain": [
       "       FireCause  TotalAcres  \\\n",
       "0      Powerline   109.60250   \n",
       "1  Equipment Use   685.58502   \n",
       "\n",
       "                                            geometry   FireDate  FireYear  \\\n",
       "0  MULTIPOLYGON (((-116842.172 97942.739, -116837... 2020-06-18    2020.0   \n",
       "1  MULTIPOLYGON (((-117329.343 90212.620, -117322... 2020-06-01    2020.0   \n",
       "\n",
       "   FireMonth  FireDay     Name UniqueId FireSize  TotalAcres_sq_km  \n",
       "0        6.0     18.0   nelson       0B        D          0.443561  \n",
       "1        6.0      1.0  amoruso       0B        E          2.774563  "
      ]
     },
     "execution_count": 284,
     "metadata": {},
     "output_type": "execute_result"
    }
   ],
   "source": [
    "print(geo_fires_df.shape)\n",
    "geo_fires_df.head(2)"
   ]
  },
  {
   "cell_type": "code",
   "execution_count": 285,
   "metadata": {},
   "outputs": [
    {
     "name": "stdout",
     "output_type": "stream",
     "text": [
      "(114599, 77)\n"
     ]
    }
   ],
   "source": [
    "pixel_fire2= get_fire_data(pixel_soil, 'ActiveYear', 'ActiveMonth', 'ActiveDay', \n",
    "                           geo_fires_df, 'FireYear','FireMonth', 'FireDay', 'fire_dist')"
   ]
  },
  {
   "cell_type": "code",
   "execution_count": 286,
   "metadata": {},
   "outputs": [],
   "source": [
    "merged_df2 = pixel_fire2"
   ]
  },
  {
   "cell_type": "code",
   "execution_count": 287,
   "metadata": {},
   "outputs": [],
   "source": [
    "# create a set for important variables and target variables.\n",
    "# Delete repetitive dates, Station name, station codes are not needed. \n",
    "# Name of the fire is also irrelevant and acres are also not \n",
    "# needed because they are attributes that are logged after the fire events.\n",
    "merged_df2 = merged_df2.drop(['Satellite', 'StationCode', 'StationName', 'StationLatitude', 'StationLongitude', \n",
    "                            'TempDate', 'TempYear', 'TempMonth', 'TempDay', 'fips', 'DroughtDate', \n",
    "                            'DroughtYear', 'DroughtMonth', 'DroughtDay','UniqueId', 'FireSize'], axis = 1)"
   ]
  },
  {
   "cell_type": "code",
   "execution_count": 288,
   "metadata": {},
   "outputs": [],
   "source": [
    "mapped_fire = merged_df2[merged_df2['fire_dist'].notnull()]\n",
    "unmapped_fire = merged_df2[merged_df2['fire_dist'].isnull()] # taking pixels that is not mapped to any fire"
   ]
  },
  {
   "cell_type": "code",
   "execution_count": 289,
   "metadata": {},
   "outputs": [
    {
     "name": "stdout",
     "output_type": "stream",
     "text": [
      "(113912, 61)\n",
      "(687, 61)\n"
     ]
    }
   ],
   "source": [
    "print(mapped_fire.shape)\n",
    "print(unmapped_fire.shape)"
   ]
  },
  {
   "cell_type": "code",
   "execution_count": 290,
   "metadata": {},
   "outputs": [
    {
     "data": {
      "text/plain": [
       "count    113912.000000\n",
       "mean         79.608633\n",
       "std         127.814990\n",
       "min           0.000000\n",
       "25%           0.000000\n",
       "50%          29.523428\n",
       "75%          87.483079\n",
       "max        1151.519722\n",
       "Name: fire_dist, dtype: float64"
      ]
     },
     "execution_count": 290,
     "metadata": {},
     "output_type": "execute_result"
    }
   ],
   "source": [
    "mapped_fire['fire_dist'].describe()"
   ]
  },
  {
   "cell_type": "code",
   "execution_count": 291,
   "metadata": {},
   "outputs": [],
   "source": [
    "def get_duration(df):\n",
    "    df['Active_minus_FireDate'] = (df[\"ActiveDate\"] - df[\"FireDate\"]).dt.days\n",
    "    df['Area_diff'] = (df[\"TotalAcres_sq_km\"] - df[\"fire_dist\"])\n",
    "    df = df.sort_values('Active_minus_FireDate', ascending=True)\n",
    "    \n",
    "    return df"
   ]
  },
  {
   "cell_type": "code",
   "execution_count": 292,
   "metadata": {},
   "outputs": [],
   "source": [
    "mapped_fire = get_duration(mapped_fire)"
   ]
  },
  {
   "cell_type": "code",
   "execution_count": 293,
   "metadata": {},
   "outputs": [],
   "source": [
    "# fire distance bigger than total Acres means fire is outside of range and do not belong to the fire. \n",
    "# We used 32 km (10 miles) as a threshold for the area. Any fire outside of 5 km radius of the location is too far\n",
    "all_false = mapped_fire[(mapped_fire['TotalAcres_sq_km'] <=100) & \n",
    "                        (mapped_fire['fire_dist'] >100) & (mapped_fire['Area_diff'] <0)].sort_values('fire_dist', ascending=False)\n"
   ]
  },
  {
   "cell_type": "code",
   "execution_count": 294,
   "metadata": {},
   "outputs": [],
   "source": [
    "all_fire = mapped_fire[~((mapped_fire['TotalAcres_sq_km'] <=100) & \n",
    "                         (mapped_fire['fire_dist'] >100) & \n",
    "                         (mapped_fire['Area_diff'] <0))].sort_values('fire_dist', ascending=False)"
   ]
  },
  {
   "cell_type": "code",
   "execution_count": 295,
   "metadata": {},
   "outputs": [],
   "source": [
    "f = all_fire[(all_fire['TotalAcres_sq_km'] <200) & \n",
    "             (all_fire['fire_dist'] >200) & \n",
    "             (all_fire['Area_diff'] <0)]\n",
    "\n",
    "all_false = all_false.append(f)"
   ]
  },
  {
   "cell_type": "code",
   "execution_count": 296,
   "metadata": {},
   "outputs": [],
   "source": [
    "all_fire = all_fire[~((all_fire['TotalAcres_sq_km'] <200) & \n",
    "                      (all_fire['fire_dist'] >200) & \n",
    "                      (all_fire['Area_diff'] <0))]"
   ]
  },
  {
   "cell_type": "code",
   "execution_count": 297,
   "metadata": {
    "scrolled": false
   },
   "outputs": [],
   "source": [
    "f = all_fire[(all_fire['TotalAcres_sq_km'] <400) & \n",
    "             (all_fire['fire_dist'] >400) & \n",
    "             (all_fire['Area_diff'] <0)]\n",
    "\n",
    "all_false = all_false.append(f)"
   ]
  },
  {
   "cell_type": "code",
   "execution_count": 298,
   "metadata": {},
   "outputs": [],
   "source": [
    "all_fire = all_fire[~((all_fire['TotalAcres_sq_km'] <400) & \n",
    "                      (all_fire['fire_dist'] >400) & \n",
    "                      (all_fire['Area_diff'] <0))]"
   ]
  },
  {
   "cell_type": "code",
   "execution_count": 299,
   "metadata": {},
   "outputs": [],
   "source": [
    "f = all_fire[(all_fire['TotalAcres_sq_km'] <5) & \n",
    "             (all_fire['fire_dist'] >5.99) & \n",
    "             (all_fire['Area_diff'] <0)]\n",
    "\n",
    "all_false = all_false.append(f)"
   ]
  },
  {
   "cell_type": "code",
   "execution_count": 300,
   "metadata": {},
   "outputs": [],
   "source": [
    "all_fire = all_fire[~((all_fire['TotalAcres_sq_km'] <5) & \n",
    "                      (all_fire['fire_dist'] >5.99) & \n",
    "                      (all_fire['Area_diff'] <0))]"
   ]
  },
  {
   "cell_type": "code",
   "execution_count": 301,
   "metadata": {},
   "outputs": [],
   "source": [
    "f = all_fire[(all_fire['Area_diff'] <0)]\n",
    "all_false = all_false.append(f)\n",
    "all_false = all_false.append(unmapped_fire)"
   ]
  },
  {
   "cell_type": "code",
   "execution_count": 302,
   "metadata": {},
   "outputs": [],
   "source": [
    "all_fire = all_fire[~(all_fire['Area_diff'] <0)]"
   ]
  },
  {
   "cell_type": "markdown",
   "metadata": {},
   "source": [
    "#### Removing duplicates from all the merging"
   ]
  },
  {
   "cell_type": "code",
   "execution_count": 303,
   "metadata": {},
   "outputs": [
    {
     "data": {
      "text/plain": [
       "(67863, 63)"
      ]
     },
     "execution_count": 303,
     "metadata": {},
     "output_type": "execute_result"
    }
   ],
   "source": [
    "False_pixels = all_false[~all_false.index.duplicated(keep='first')]\n",
    "False_pixels = get_duration(False_pixels)\n",
    "False_pixels.shape"
   ]
  },
  {
   "cell_type": "code",
   "execution_count": 304,
   "metadata": {},
   "outputs": [
    {
     "data": {
      "text/plain": [
       "(46736, 63)"
      ]
     },
     "execution_count": 304,
     "metadata": {},
     "output_type": "execute_result"
    }
   ],
   "source": [
    "True_pixels = all_fire[~all_fire.index.duplicated(keep='first')]\n",
    "True_pixels = get_duration(True_pixels)\n",
    "True_pixels.shape"
   ]
  },
  {
   "cell_type": "markdown",
   "metadata": {},
   "source": [
    "#### Filtering for California Pixels only"
   ]
  },
  {
   "cell_type": "code",
   "execution_count": 305,
   "metadata": {},
   "outputs": [
    {
     "data": {
      "text/plain": [
       "(57935, 63)"
      ]
     },
     "execution_count": 305,
     "metadata": {},
     "output_type": "execute_result"
    }
   ],
   "source": [
    "x = False_pixels[~((False_pixels['NasaLongitude'] >-119.8) & (False_pixels['NasaLatitude'] >39))]\n",
    "y = x[~((x['NasaLongitude'] >-119) & (x['NasaLatitude'] >38))]\n",
    "False_pixels = y[~((y['NasaLongitude'] >-118) & (y['NasaLatitude'] >35.9))]\n",
    "False_pixels.shape"
   ]
  },
  {
   "cell_type": "code",
   "execution_count": 306,
   "metadata": {},
   "outputs": [],
   "source": [
    "geometry1 = [Point(xy) for xy in zip(False_pixels['NasaLongitude'], False_pixels['NasaLatitude'])]\n",
    "geometry1[:3]\n",
    "plot_df1 = gpd.GeoDataFrame(False_pixels, crs=crs, geometry=geometry1)"
   ]
  },
  {
   "cell_type": "code",
   "execution_count": 307,
   "metadata": {},
   "outputs": [
    {
     "data": {
      "text/plain": [
       "(45186, 63)"
      ]
     },
     "execution_count": 307,
     "metadata": {},
     "output_type": "execute_result"
    }
   ],
   "source": [
    "True_pixels = True_pixels[~((True_pixels['NasaLongitude'] >-119.8) & (True_pixels['NasaLatitude'] >39))]\n",
    "True_pixels.shape"
   ]
  },
  {
   "cell_type": "code",
   "execution_count": 308,
   "metadata": {},
   "outputs": [],
   "source": [
    "geometry2 = [Point(xy) for xy in zip(True_pixels['NasaLongitude'], True_pixels['NasaLatitude'])]\n",
    "geometry2[:3]\n",
    "plot_df2 = gpd.GeoDataFrame(True_pixels, crs=crs, geometry=geometry2)"
   ]
  },
  {
   "cell_type": "markdown",
   "metadata": {},
   "source": [
    "#### Plotting all Labeled and Unlabeled Fires"
   ]
  },
  {
   "cell_type": "code",
   "execution_count": 309,
   "metadata": {},
   "outputs": [
    {
     "data": {
      "image/png": "[encoded data removed]",
      "text/plain": [
       "<Figure size 720x720 with 1 Axes>"
      ]
     },
     "metadata": {},
     "output_type": "display_data"
    }
   ],
   "source": [
    "fig, ax = plt.subplots(figsize = (10,10))\n",
    "fig.suptitle('Mapped All Fire Pixels: labeled and unlabeled (2011-2020)', fontsize=15)\n",
    "plt.yticks([32, 34, 36, 38, 40, 42])\n",
    "plt.xticks([-124, -122, -120, -118, -116, -114])\n",
    "\n",
    "plt0 = USA[USA.STATEFP == '06'].plot(ax = ax, edgecolor=\"darkgrey\", facecolor='lightgrey')\n",
    "plt1 = plot_df1.plot(ax=ax, color=\"#FFDF0D\", label=\"False Fire Pixels\")\n",
    "plt2 = plot_df2.plot(ax=ax, color=\"#B02300\", label=\"True Fire Pixels\")\n",
    "\n",
    "handles, labels = ax.get_legend_handles_labels()\n",
    "fig.legend(handles, labels, loc=(0.65,0.8))\n",
    "plt.show()"
   ]
  },
  {
   "cell_type": "code",
   "execution_count": 310,
   "metadata": {},
   "outputs": [],
   "source": [
    "plot_gf1 = geo_fires_df.to_crs({'init': \"EPSG:4326\"})"
   ]
  },
  {
   "cell_type": "code",
   "execution_count": 311,
   "metadata": {},
   "outputs": [],
   "source": [
    "plot_df2 = plot_df2[(plot_df2['Active_minus_FireDate'] >=-1) & (plot_df2['Active_minus_FireDate'] <=1)]"
   ]
  },
  {
   "cell_type": "code",
   "execution_count": 312,
   "metadata": {
    "scrolled": false
   },
   "outputs": [
    {
     "data": {
      "image/png": "[encoded data removed]",
      "text/plain": [
       "<Figure size 720x720 with 1 Axes>"
      ]
     },
     "metadata": {},
     "output_type": "display_data"
    }
   ],
   "source": [
    "fig, ax = plt.subplots(figsize = (10,10))\n",
    "fig.suptitle('Mapped Labeled Actual Fires with Fire Pixel (2011-2020)', fontsize=15)\n",
    "plt.yticks([32, 34, 36, 38, 40, 42])\n",
    "plt.xticks([-124, -122, -120, -118, -116, -114])\n",
    "\n",
    "plt0 = USA[USA.STATEFP == '06'].plot(ax = ax, edgecolor=\"darkgrey\", facecolor='lightgrey')\n",
    "plt1 = plot_df2.plot(ax=ax, color=\"#FFDF0D\", label=\"Approx Fire Pixels\")\n",
    "plt2 = plot_gf1.plot(ax=ax, color=\"#B02300\", label =\"Actual Fire Area\")\n",
    "handles, labels = ax.get_legend_handles_labels()\n",
    "fig.legend(handles, labels, loc=(0.63,0.8))\n",
    "\n",
    "plt.show()"
   ]
  },
  {
   "cell_type": "code",
   "execution_count": 313,
   "metadata": {},
   "outputs": [],
   "source": [
    "dta0 = False_pixels.drop(['fire_dist','TotalAcres_sq_km', 'Active_minus_FireDate', 'Area_diff'], axis = 1)\n",
    "\n",
    "dta1 = True_pixels.drop(['fire_dist','TotalAcres_sq_km', 'Active_minus_FireDate', 'Area_diff'], axis = 1)"
   ]
  },
  {
   "cell_type": "code",
   "execution_count": 314,
   "metadata": {},
   "outputs": [
    {
     "name": "stdout",
     "output_type": "stream",
     "text": [
      "(57935, 59)\n",
      "(45186, 59)\n"
     ]
    }
   ],
   "source": [
    "print(dta0.shape)\n",
    "print(dta1.shape)"
   ]
  },
  {
   "cell_type": "code",
   "execution_count": 315,
   "metadata": {},
   "outputs": [],
   "source": [
    "dta1[\"Target\"] = 1\n",
    "dta0[\"Target\"] = 0"
   ]
  },
  {
   "cell_type": "code",
   "execution_count": 316,
   "metadata": {},
   "outputs": [],
   "source": [
    "new_data = dta1.append(dta0)"
   ]
  },
  {
   "cell_type": "code",
   "execution_count": 317,
   "metadata": {},
   "outputs": [],
   "source": [
    "new_data = new_data.replace({'DayNight': {'D':1, 'N':0}})\n",
    "new_data = new_data.reset_index(drop=True)"
   ]
  },
  {
   "cell_type": "code",
   "execution_count": 318,
   "metadata": {},
   "outputs": [],
   "source": [
    "new_data = new_data.sort_values(['ActiveDate'])\n",
    "\n",
    "new_data['geometry'] = list(zip(new_data['NasaLongitude'], new_data['NasaLatitude']))"
   ]
  },
  {
   "cell_type": "code",
   "execution_count": 319,
   "metadata": {},
   "outputs": [],
   "source": [
    "new_df = new_data.set_index(['ActiveDate', 'geometry'])"
   ]
  },
  {
   "cell_type": "code",
   "execution_count": 320,
   "metadata": {},
   "outputs": [],
   "source": [
    "new_df.to_csv('Data/clean_dataset1.csv')  "
   ]
  },
  {
   "cell_type": "code",
   "execution_count": null,
   "metadata": {},
   "outputs": [],
   "source": []
  }
 ],
 "metadata": {
  "kernelspec": {
   "display_name": "Python 3",
   "language": "python",
   "name": "python3"
  },
  "language_info": {
   "codemirror_mode": {
    "name": "ipython",
    "version": 3
   },
   "file_extension": ".py",
   "mimetype": "text/x-python",
   "name": "python",
   "nbconvert_exporter": "python",
   "pygments_lexer": "ipython3",
   "version": "3.6.13"
  }
 },
 "nbformat": 4,
 "nbformat_minor": 4
}
