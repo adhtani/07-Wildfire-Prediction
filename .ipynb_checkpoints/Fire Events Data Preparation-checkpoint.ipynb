{
 "cells": [
  {
   "cell_type": "markdown",
   "metadata": {},
   "source": [
    "# Fire Events Data Preparation"
   ]
  },
  {
   "cell_type": "markdown",
   "metadata": {},
   "source": [
    "Following code provides the steps that were taken to prepare the fire events data with correct dates and location. We identified 3803 wildfire events happened between 2011-2020. Out of which 779 fires were bigger than 300 acres. "
   ]
  },
  {
   "cell_type": "code",
   "execution_count": 1,
   "metadata": {},
   "outputs": [],
   "source": [
    "import datetime as dt\n",
    "from pathlib import Path\n",
    "import math\n",
    "import os\n",
    "import sqlite3\n",
    "import json\n",
    "import geopandas as gpd\n",
    "import pygeos\n",
    "import pyproj    \n",
    "import shapely\n",
    "import shapely.ops as ops\n",
    "from shapely.geometry import Point, Polygon\n",
    "from shapely.geometry.polygon import Polygon\n",
    "from functools import partial\n",
    "\n",
    "import pandas as pd\n",
    "import numpy as np\n",
    "import seaborn as sns\n",
    "import matplotlib.pyplot as plt\n",
    "%matplotlib inline \n",
    "\n",
    "from sklearn.model_selection import train_test_split\n",
    "\n",
    "\n",
    "from sklearn import svm\n",
    "from sklearn.svm import SVC\n",
    "from sklearn.ensemble import RandomForestClassifier\n",
    "from sklearn.naive_bayes import GaussianNB\n",
    "from sklearn.metrics import accuracy_score, classification_report, confusion_matrix\n",
    "\n",
    "from sklearn.feature_selection import SelectKBest\n",
    "from sklearn.feature_selection import chi2, f_classif, mutual_info_classif\n",
    "from functools import partial\n",
    "\n",
    "\n",
    "from sklearn.preprocessing import StandardScaler\n",
    "\n",
    "import warnings\n",
    "warnings.filterwarnings('ignore')"
   ]
  },
  {
   "cell_type": "markdown",
   "metadata": {},
   "source": [
    "## Data Collection of all 3 Fire events Dataset"
   ]
  },
  {
   "cell_type": "markdown",
   "metadata": {},
   "source": [
    "#### 1a.\tLoad the dataset 1: All California Fire Dataset - https://gis.data.ca.gov/"
   ]
  },
  {
   "cell_type": "code",
   "execution_count": 2,
   "metadata": {},
   "outputs": [
    {
     "data": {
      "text/html": [
       "<div>\n",
       "<style scoped>\n",
       "    .dataframe tbody tr th:only-of-type {\n",
       "        vertical-align: middle;\n",
       "    }\n",
       "\n",
       "    .dataframe tbody tr th {\n",
       "        vertical-align: top;\n",
       "    }\n",
       "\n",
       "    .dataframe thead th {\n",
       "        text-align: right;\n",
       "    }\n",
       "</style>\n",
       "<table border=\"1\" class=\"dataframe\">\n",
       "  <thead>\n",
       "    <tr style=\"text-align: right;\">\n",
       "      <th></th>\n",
       "      <th>OBJECTID</th>\n",
       "      <th>YEAR_</th>\n",
       "      <th>STATE</th>\n",
       "      <th>AGENCY</th>\n",
       "      <th>UNIT_ID</th>\n",
       "      <th>FIRE_NAME</th>\n",
       "      <th>INC_NUM</th>\n",
       "      <th>ALARM_DATE</th>\n",
       "      <th>CONT_DATE</th>\n",
       "      <th>CAUSE</th>\n",
       "      <th>COMMENTS</th>\n",
       "      <th>REPORT_AC</th>\n",
       "      <th>GIS_ACRES</th>\n",
       "      <th>C_METHOD</th>\n",
       "      <th>OBJECTIVE</th>\n",
       "      <th>FIRE_NUM</th>\n",
       "      <th>SHAPE_Length</th>\n",
       "      <th>SHAPE_Area</th>\n",
       "      <th>geometry</th>\n",
       "    </tr>\n",
       "  </thead>\n",
       "  <tbody>\n",
       "    <tr>\n",
       "      <th>0</th>\n",
       "      <td>21440</td>\n",
       "      <td>2020</td>\n",
       "      <td>CA</td>\n",
       "      <td>CDF</td>\n",
       "      <td>NEU</td>\n",
       "      <td>NELSON</td>\n",
       "      <td>00013212</td>\n",
       "      <td>2020-06-18T00:00:00+00:00</td>\n",
       "      <td>2020-06-23T00:00:00+00:00</td>\n",
       "      <td>11.0</td>\n",
       "      <td></td>\n",
       "      <td>110.0</td>\n",
       "      <td>109.60250</td>\n",
       "      <td>1.0</td>\n",
       "      <td>1.0</td>\n",
       "      <td>None</td>\n",
       "      <td>0.035733</td>\n",
       "      <td>0.000046</td>\n",
       "      <td>MULTIPOLYGON (((-121.34842 38.88999, -121.3483...</td>\n",
       "    </tr>\n",
       "    <tr>\n",
       "      <th>1</th>\n",
       "      <td>21441</td>\n",
       "      <td>2020</td>\n",
       "      <td>CA</td>\n",
       "      <td>CDF</td>\n",
       "      <td>NEU</td>\n",
       "      <td>AMORUSO</td>\n",
       "      <td>00011799</td>\n",
       "      <td>2020-06-01T00:00:00+00:00</td>\n",
       "      <td>2020-06-04T00:00:00+00:00</td>\n",
       "      <td>2.0</td>\n",
       "      <td></td>\n",
       "      <td>670.0</td>\n",
       "      <td>685.58502</td>\n",
       "      <td>1.0</td>\n",
       "      <td>1.0</td>\n",
       "      <td>None</td>\n",
       "      <td>0.101178</td>\n",
       "      <td>0.000288</td>\n",
       "      <td>MULTIPOLYGON (((-121.35276 38.82039, -121.3526...</td>\n",
       "    </tr>\n",
       "  </tbody>\n",
       "</table>\n",
       "</div>"
      ],
      "text/plain": [
       "   OBJECTID YEAR_ STATE AGENCY UNIT_ID FIRE_NAME   INC_NUM  \\\n",
       "0     21440  2020    CA    CDF     NEU    NELSON  00013212   \n",
       "1     21441  2020    CA    CDF     NEU   AMORUSO  00011799   \n",
       "\n",
       "                  ALARM_DATE                  CONT_DATE  CAUSE COMMENTS  \\\n",
       "0  2020-06-18T00:00:00+00:00  2020-06-23T00:00:00+00:00   11.0            \n",
       "1  2020-06-01T00:00:00+00:00  2020-06-04T00:00:00+00:00    2.0            \n",
       "\n",
       "   REPORT_AC  GIS_ACRES  C_METHOD  OBJECTIVE FIRE_NUM  SHAPE_Length  \\\n",
       "0      110.0  109.60250       1.0        1.0     None      0.035733   \n",
       "1      670.0  685.58502       1.0        1.0     None      0.101178   \n",
       "\n",
       "   SHAPE_Area                                           geometry  \n",
       "0    0.000046  MULTIPOLYGON (((-121.34842 38.88999, -121.3483...  \n",
       "1    0.000288  MULTIPOLYGON (((-121.35276 38.82039, -121.3526...  "
      ]
     },
     "execution_count": 2,
     "metadata": {},
     "output_type": "execute_result"
    }
   ],
   "source": [
    "ca_fires_df = gpd.read_file(\"Data/California_Fire_Perimeters_(all).geojson\")\n",
    "ca_fires_df.head(2)"
   ]
  },
  {
   "cell_type": "code",
   "execution_count": 3,
   "metadata": {},
   "outputs": [
    {
     "data": {
      "text/plain": [
       "(21318, 19)"
      ]
     },
     "execution_count": 3,
     "metadata": {},
     "output_type": "execute_result"
    }
   ],
   "source": [
    "ca_fires_df.shape"
   ]
  },
  {
   "cell_type": "code",
   "execution_count": 4,
   "metadata": {},
   "outputs": [
    {
     "data": {
      "text/plain": [
       "<Geographic 2D CRS: EPSG:4326>\n",
       "Name: WGS 84\n",
       "Axis Info [ellipsoidal]:\n",
       "- Lat[north]: Geodetic latitude (degree)\n",
       "- Lon[east]: Geodetic longitude (degree)\n",
       "Area of Use:\n",
       "- name: World.\n",
       "- bounds: (-180.0, -90.0, 180.0, 90.0)\n",
       "Datum: World Geodetic System 1984 ensemble\n",
       "- Ellipsoid: WGS 84\n",
       "- Prime Meridian: Greenwich"
      ]
     },
     "execution_count": 4,
     "metadata": {},
     "output_type": "execute_result"
    }
   ],
   "source": [
    "ca_fires_df.crs"
   ]
  },
  {
   "cell_type": "markdown",
   "metadata": {},
   "source": [
    "#### 1b.\tLoad the dataset 1: Supplementary Data for Fire Incident Location - https://data-nifc.opendata.arcgis.com/"
   ]
  },
  {
   "cell_type": "code",
   "execution_count": 5,
   "metadata": {},
   "outputs": [
    {
     "name": "stdout",
     "output_type": "stream",
     "text": [
      "(208013, 95)\n"
     ]
    },
    {
     "data": {
      "text/html": [
       "<div>\n",
       "<style scoped>\n",
       "    .dataframe tbody tr th:only-of-type {\n",
       "        vertical-align: middle;\n",
       "    }\n",
       "\n",
       "    .dataframe tbody tr th {\n",
       "        vertical-align: top;\n",
       "    }\n",
       "\n",
       "    .dataframe thead th {\n",
       "        text-align: right;\n",
       "    }\n",
       "</style>\n",
       "<table border=\"1\" class=\"dataframe\">\n",
       "  <thead>\n",
       "    <tr style=\"text-align: right;\">\n",
       "      <th></th>\n",
       "      <th>OBJECTID</th>\n",
       "      <th>ABCDMisc</th>\n",
       "      <th>ADSPermissionState</th>\n",
       "      <th>CalculatedAcres</th>\n",
       "      <th>ContainmentDateTime</th>\n",
       "      <th>ControlDateTime</th>\n",
       "      <th>DailyAcres</th>\n",
       "      <th>DiscoveryAcres</th>\n",
       "      <th>DispatchCenterID</th>\n",
       "      <th>EstimatedCostToDate</th>\n",
       "      <th>...</th>\n",
       "      <th>OrganizationalAssessment</th>\n",
       "      <th>StrategicDecisionPublishDate</th>\n",
       "      <th>CreatedOnDateTime_dt</th>\n",
       "      <th>ModifiedOnDateTime_dt</th>\n",
       "      <th>Source</th>\n",
       "      <th>GlobalID</th>\n",
       "      <th>IsCpxChild</th>\n",
       "      <th>CpxName</th>\n",
       "      <th>CpxID</th>\n",
       "      <th>geometry</th>\n",
       "    </tr>\n",
       "  </thead>\n",
       "  <tbody>\n",
       "    <tr>\n",
       "      <th>0</th>\n",
       "      <td>1</td>\n",
       "      <td>None</td>\n",
       "      <td>CERTIFIED</td>\n",
       "      <td>50.64</td>\n",
       "      <td>2020-08-06T23:13:07+00:00</td>\n",
       "      <td>2020-08-06T23:13:25+00:00</td>\n",
       "      <td>50.6</td>\n",
       "      <td>20.0</td>\n",
       "      <td>MTMCC</td>\n",
       "      <td>NaN</td>\n",
       "      <td>...</td>\n",
       "      <td>None</td>\n",
       "      <td>None</td>\n",
       "      <td>2020-08-06T19:50:29.023001+00:00</td>\n",
       "      <td>2020-08-12T20:46:01.557000+00:00</td>\n",
       "      <td>IRWIN</td>\n",
       "      <td>e5436898-ed0d-4cb1-90c0-d61915fe1f29</td>\n",
       "      <td>NaN</td>\n",
       "      <td>None</td>\n",
       "      <td>None</td>\n",
       "      <td>POINT (-104.45751 45.78504)</td>\n",
       "    </tr>\n",
       "    <tr>\n",
       "      <th>1</th>\n",
       "      <td>2</td>\n",
       "      <td>None</td>\n",
       "      <td>DEFAULT</td>\n",
       "      <td>NaN</td>\n",
       "      <td>None</td>\n",
       "      <td>None</td>\n",
       "      <td>NaN</td>\n",
       "      <td>0.1</td>\n",
       "      <td>CALACC</td>\n",
       "      <td>NaN</td>\n",
       "      <td>...</td>\n",
       "      <td>None</td>\n",
       "      <td>None</td>\n",
       "      <td>2020-02-28T20:52:36.362999+00:00</td>\n",
       "      <td>2020-02-28T20:52:36.362999+00:00</td>\n",
       "      <td>IRWIN</td>\n",
       "      <td>0e79b7fd-2882-43cf-8cfa-911bd1c8f77a</td>\n",
       "      <td>NaN</td>\n",
       "      <td>None</td>\n",
       "      <td>None</td>\n",
       "      <td>POINT (-118.18071 33.80898)</td>\n",
       "    </tr>\n",
       "  </tbody>\n",
       "</table>\n",
       "<p>2 rows × 95 columns</p>\n",
       "</div>"
      ],
      "text/plain": [
       "   OBJECTID ABCDMisc ADSPermissionState  CalculatedAcres  \\\n",
       "0         1     None          CERTIFIED            50.64   \n",
       "1         2     None            DEFAULT              NaN   \n",
       "\n",
       "         ContainmentDateTime            ControlDateTime  DailyAcres  \\\n",
       "0  2020-08-06T23:13:07+00:00  2020-08-06T23:13:25+00:00        50.6   \n",
       "1                       None                       None         NaN   \n",
       "\n",
       "   DiscoveryAcres DispatchCenterID  EstimatedCostToDate  ...  \\\n",
       "0            20.0            MTMCC                  NaN  ...   \n",
       "1             0.1           CALACC                  NaN  ...   \n",
       "\n",
       "  OrganizationalAssessment StrategicDecisionPublishDate  \\\n",
       "0                     None                         None   \n",
       "1                     None                         None   \n",
       "\n",
       "               CreatedOnDateTime_dt             ModifiedOnDateTime_dt Source  \\\n",
       "0  2020-08-06T19:50:29.023001+00:00  2020-08-12T20:46:01.557000+00:00  IRWIN   \n",
       "1  2020-02-28T20:52:36.362999+00:00  2020-02-28T20:52:36.362999+00:00  IRWIN   \n",
       "\n",
       "                               GlobalID IsCpxChild CpxName CpxID  \\\n",
       "0  e5436898-ed0d-4cb1-90c0-d61915fe1f29        NaN    None  None   \n",
       "1  0e79b7fd-2882-43cf-8cfa-911bd1c8f77a        NaN    None  None   \n",
       "\n",
       "                      geometry  \n",
       "0  POINT (-104.45751 45.78504)  \n",
       "1  POINT (-118.18071 33.80898)  \n",
       "\n",
       "[2 rows x 95 columns]"
      ]
     },
     "execution_count": 5,
     "metadata": {},
     "output_type": "execute_result"
    }
   ],
   "source": [
    "fire_location = gpd.read_file(\"Data/WFIGS_-_Wildland_Fire_Locations_Full_History.geojson\")\n",
    "print(fire_location.shape)\n",
    "fire_location.head(2)"
   ]
  },
  {
   "cell_type": "markdown",
   "metadata": {},
   "source": [
    "#### 1c.\tLoad the dataset 1: Supplementary California Fire Dataset - https://www.fire.ca.gov/"
   ]
  },
  {
   "cell_type": "code",
   "execution_count": 6,
   "metadata": {},
   "outputs": [
    {
     "name": "stdout",
     "output_type": "stream",
     "text": [
      "(1636, 40)\n"
     ]
    }
   ],
   "source": [
    "fires_df = pd.read_csv('Data/California_Fire_Incidents.csv')\n",
    "print(fires_df.shape)"
   ]
  },
  {
   "cell_type": "markdown",
   "metadata": {},
   "source": [
    "#### USA Shape File https://www.census.gov/geographies/mapping-files/time-series/geo/carto-boundary-file.html"
   ]
  },
  {
   "cell_type": "code",
   "execution_count": 7,
   "metadata": {},
   "outputs": [
    {
     "data": {
      "text/html": [
       "<div>\n",
       "<style scoped>\n",
       "    .dataframe tbody tr th:only-of-type {\n",
       "        vertical-align: middle;\n",
       "    }\n",
       "\n",
       "    .dataframe tbody tr th {\n",
       "        vertical-align: top;\n",
       "    }\n",
       "\n",
       "    .dataframe thead th {\n",
       "        text-align: right;\n",
       "    }\n",
       "</style>\n",
       "<table border=\"1\" class=\"dataframe\">\n",
       "  <thead>\n",
       "    <tr style=\"text-align: right;\">\n",
       "      <th></th>\n",
       "      <th>STATEFP</th>\n",
       "      <th>COUNTYFP</th>\n",
       "      <th>COUNTYNS</th>\n",
       "      <th>AFFGEOID</th>\n",
       "      <th>GEOID</th>\n",
       "      <th>NAME</th>\n",
       "      <th>LSAD</th>\n",
       "      <th>ALAND</th>\n",
       "      <th>AWATER</th>\n",
       "      <th>geometry</th>\n",
       "    </tr>\n",
       "  </thead>\n",
       "  <tbody>\n",
       "    <tr>\n",
       "      <th>0</th>\n",
       "      <td>21</td>\n",
       "      <td>007</td>\n",
       "      <td>00516850</td>\n",
       "      <td>0500000US21007</td>\n",
       "      <td>21007</td>\n",
       "      <td>Ballard</td>\n",
       "      <td>06</td>\n",
       "      <td>639387454</td>\n",
       "      <td>69473325</td>\n",
       "      <td>POLYGON ((-89.18137 37.04630, -89.17938 37.053...</td>\n",
       "    </tr>\n",
       "    <tr>\n",
       "      <th>1</th>\n",
       "      <td>21</td>\n",
       "      <td>017</td>\n",
       "      <td>00516855</td>\n",
       "      <td>0500000US21017</td>\n",
       "      <td>21017</td>\n",
       "      <td>Bourbon</td>\n",
       "      <td>06</td>\n",
       "      <td>750439351</td>\n",
       "      <td>4829777</td>\n",
       "      <td>POLYGON ((-84.44266 38.28324, -84.44114 38.283...</td>\n",
       "    </tr>\n",
       "    <tr>\n",
       "      <th>2</th>\n",
       "      <td>21</td>\n",
       "      <td>031</td>\n",
       "      <td>00516862</td>\n",
       "      <td>0500000US21031</td>\n",
       "      <td>21031</td>\n",
       "      <td>Butler</td>\n",
       "      <td>06</td>\n",
       "      <td>1103571974</td>\n",
       "      <td>13943044</td>\n",
       "      <td>POLYGON ((-86.94486 37.07341, -86.94346 37.074...</td>\n",
       "    </tr>\n",
       "    <tr>\n",
       "      <th>3</th>\n",
       "      <td>21</td>\n",
       "      <td>065</td>\n",
       "      <td>00516879</td>\n",
       "      <td>0500000US21065</td>\n",
       "      <td>21065</td>\n",
       "      <td>Estill</td>\n",
       "      <td>06</td>\n",
       "      <td>655509930</td>\n",
       "      <td>6516335</td>\n",
       "      <td>POLYGON ((-84.12662 37.64540, -84.12483 37.646...</td>\n",
       "    </tr>\n",
       "    <tr>\n",
       "      <th>4</th>\n",
       "      <td>21</td>\n",
       "      <td>069</td>\n",
       "      <td>00516881</td>\n",
       "      <td>0500000US21069</td>\n",
       "      <td>21069</td>\n",
       "      <td>Fleming</td>\n",
       "      <td>06</td>\n",
       "      <td>902727151</td>\n",
       "      <td>7182793</td>\n",
       "      <td>POLYGON ((-83.98428 38.44549, -83.98246 38.450...</td>\n",
       "    </tr>\n",
       "  </tbody>\n",
       "</table>\n",
       "</div>"
      ],
      "text/plain": [
       "  STATEFP COUNTYFP  COUNTYNS        AFFGEOID  GEOID     NAME LSAD       ALAND  \\\n",
       "0      21      007  00516850  0500000US21007  21007  Ballard   06   639387454   \n",
       "1      21      017  00516855  0500000US21017  21017  Bourbon   06   750439351   \n",
       "2      21      031  00516862  0500000US21031  21031   Butler   06  1103571974   \n",
       "3      21      065  00516879  0500000US21065  21065   Estill   06   655509930   \n",
       "4      21      069  00516881  0500000US21069  21069  Fleming   06   902727151   \n",
       "\n",
       "     AWATER                                           geometry  \n",
       "0  69473325  POLYGON ((-89.18137 37.04630, -89.17938 37.053...  \n",
       "1   4829777  POLYGON ((-84.44266 38.28324, -84.44114 38.283...  \n",
       "2  13943044  POLYGON ((-86.94486 37.07341, -86.94346 37.074...  \n",
       "3   6516335  POLYGON ((-84.12662 37.64540, -84.12483 37.646...  \n",
       "4   7182793  POLYGON ((-83.98428 38.44549, -83.98246 38.450...  "
      ]
     },
     "execution_count": 7,
     "metadata": {},
     "output_type": "execute_result"
    }
   ],
   "source": [
    "USA = gpd.read_file(\"Data/County/cb_2018_us_county_500k.shp\")\n",
    "USA.head()"
   ]
  },
  {
   "cell_type": "markdown",
   "metadata": {},
   "source": [
    "### Data Preliminary Analysis"
   ]
  },
  {
   "cell_type": "code",
   "execution_count": 8,
   "metadata": {},
   "outputs": [],
   "source": [
    "# check for missing value\n",
    "def percentMissing(df):\n",
    "    \n",
    "    df_numeric = df.select_dtypes(include=[np.number])\n",
    "    numeric_cols = df_numeric.columns.values\n",
    "    \n",
    "    # % of missing data\n",
    "    for col in df.columns:\n",
    "        # create missing indicator for features with missing data\n",
    "        missing = df[col].isnull()\n",
    "        pct_missing = np.mean(missing)*100\n",
    "        #if pct_missing >60:\n",
    "        print('{} - {}%'.format(col, round(pct_missing)))\n",
    "        num_missing = np.sum(missing)"
   ]
  },
  {
   "cell_type": "code",
   "execution_count": 9,
   "metadata": {},
   "outputs": [],
   "source": [
    "# Checking data type\n",
    "def Datatype(df):\n",
    "    # shape and data types of the data\n",
    "    print(\"There are {} rows and {} columns\".format(df.shape[0], df.shape[1]))\n",
    "    print(df.dtypes)\n",
    "\n",
    "    # select numeric columns\n",
    "    df_numeric = df.select_dtypes(include=[np.number])\n",
    "    numeric_cols = df_numeric.columns.values\n",
    "    print(numeric_cols)\n",
    "\n",
    "    # select non numeric columns\n",
    "    df_non_numeric = df.select_dtypes(exclude=[np.number])\n",
    "    non_numeric_cols = df_non_numeric.columns.values\n",
    "    print(non_numeric_cols)"
   ]
  },
  {
   "cell_type": "markdown",
   "metadata": {},
   "source": [
    "## Data Exploration: All California Fire Dataset"
   ]
  },
  {
   "cell_type": "markdown",
   "metadata": {},
   "source": [
    "### All Fire Incident Geopoint data to map fire with right date and time for the first discovery or reported fire incident"
   ]
  },
  {
   "cell_type": "code",
   "execution_count": 10,
   "metadata": {},
   "outputs": [],
   "source": [
    "fire_location = fire_location[(fire_location['InitialLatitude']<= 42) & (fire_location ['InitialLatitude'] >= 32)]\n",
    "fire_location = fire_location[(fire_location['InitialLongitude']<= -114) & (fire_location['InitialLongitude'] >= -126)]"
   ]
  },
  {
   "cell_type": "code",
   "execution_count": 11,
   "metadata": {},
   "outputs": [],
   "source": [
    "fire_location = fire_location[['InitialLatitude','InitialLongitude','FireDiscoveryDateTime','ContainmentDateTime',\n",
    "                               'ControlDateTime','FireOutDateTime','POOState','FireCause','GACC','IncidentName',\n",
    "                               'LocalIncidentIdentifier','UniqueFireIdentifier','WFDSSDecisionStatus','geometry']]"
   ]
  },
  {
   "cell_type": "code",
   "execution_count": 12,
   "metadata": {},
   "outputs": [],
   "source": [
    "import string\n",
    "import re\n",
    "def get_year(text):\n",
    "    pattern = r'[^A-Za-z ]'\n",
    "    if re.search(\"[^0-9]\", text):\n",
    "        year = text[0:4]\n",
    "    else:\n",
    "        None\n",
    "    return year"
   ]
  },
  {
   "cell_type": "code",
   "execution_count": 13,
   "metadata": {},
   "outputs": [],
   "source": [
    "fire_location['IncidentYear'] = fire_location['UniqueFireIdentifier'].apply(lambda x: get_year(x))"
   ]
  },
  {
   "cell_type": "code",
   "execution_count": 14,
   "metadata": {},
   "outputs": [],
   "source": [
    "fire_location['IncidentYear'] = fire_location['IncidentYear'].astype(int)"
   ]
  },
  {
   "cell_type": "code",
   "execution_count": 15,
   "metadata": {},
   "outputs": [],
   "source": [
    "fire_location = fire_location[(fire_location['IncidentYear'] >=2010) & (fire_location['POOState']=='US-CA')]\n",
    "fire_location = fire_location[fire_location['IncidentYear'] <=2020]"
   ]
  },
  {
   "cell_type": "code",
   "execution_count": 16,
   "metadata": {},
   "outputs": [],
   "source": [
    "fire_location = fire_location.drop(['ContainmentDateTime', 'ControlDateTime',\n",
    "                                    'FireOutDateTime', 'WFDSSDecisionStatus'], axis = 1)"
   ]
  },
  {
   "cell_type": "code",
   "execution_count": 17,
   "metadata": {},
   "outputs": [
    {
     "data": {
      "text/plain": [
       "<Geographic 2D CRS: EPSG:4326>\n",
       "Name: WGS 84\n",
       "Axis Info [ellipsoidal]:\n",
       "- Lat[north]: Geodetic latitude (degree)\n",
       "- Lon[east]: Geodetic longitude (degree)\n",
       "Area of Use:\n",
       "- name: World.\n",
       "- bounds: (-180.0, -90.0, 180.0, 90.0)\n",
       "Datum: World Geodetic System 1984 ensemble\n",
       "- Ellipsoid: WGS 84\n",
       "- Prime Meridian: Greenwich"
      ]
     },
     "execution_count": 17,
     "metadata": {},
     "output_type": "execute_result"
    }
   ],
   "source": [
    "fire_location.crs"
   ]
  },
  {
   "cell_type": "code",
   "execution_count": 18,
   "metadata": {},
   "outputs": [],
   "source": [
    "fire_location['DiscoveryDate'] = fire_location['FireDiscoveryDateTime'].astype('datetime64[ns]')\n",
    "fire_location['DiscoveryDate']= fire_location['DiscoveryDate'].dt.strftime('%Y-%m-%d')\n",
    "fire_location['DiscoveryDate'] = fire_location['DiscoveryDate'].astype('datetime64[ns]')\n",
    "fire_location['DiscoveryYear'] = fire_location['DiscoveryDate'].dt.year\n",
    "fire_location['DiscoveryMonth'] = fire_location['DiscoveryDate'].dt.month\n",
    "fire_location['DiscoveryDay'] = fire_location['DiscoveryDate'].dt.day"
   ]
  },
  {
   "cell_type": "code",
   "execution_count": 19,
   "metadata": {},
   "outputs": [],
   "source": [
    "fire_location = fire_location[['UniqueFireIdentifier', 'IncidentYear', 'IncidentName', 'DiscoveryDate', \n",
    "                               'DiscoveryYear','DiscoveryMonth', 'DiscoveryDay', 'geometry']]"
   ]
  },
  {
   "cell_type": "code",
   "execution_count": 22,
   "metadata": {},
   "outputs": [
    {
     "data": {
      "text/html": [
       "<div>\n",
       "<style scoped>\n",
       "    .dataframe tbody tr th:only-of-type {\n",
       "        vertical-align: middle;\n",
       "    }\n",
       "\n",
       "    .dataframe tbody tr th {\n",
       "        vertical-align: top;\n",
       "    }\n",
       "\n",
       "    .dataframe thead th {\n",
       "        text-align: right;\n",
       "    }\n",
       "</style>\n",
       "<table border=\"1\" class=\"dataframe\">\n",
       "  <thead>\n",
       "    <tr style=\"text-align: right;\">\n",
       "      <th></th>\n",
       "      <th>UniqueFireIdentifier</th>\n",
       "      <th>IncidentYear</th>\n",
       "      <th>IncidentName</th>\n",
       "      <th>DiscoveryDate</th>\n",
       "      <th>DiscoveryYear</th>\n",
       "      <th>DiscoveryMonth</th>\n",
       "      <th>DiscoveryDay</th>\n",
       "      <th>geometry</th>\n",
       "    </tr>\n",
       "  </thead>\n",
       "  <tbody>\n",
       "    <tr>\n",
       "      <th>79385</th>\n",
       "      <td>2011-NVCNC-000020</td>\n",
       "      <td>2011</td>\n",
       "      <td>Washoe</td>\n",
       "      <td>2011-01-26</td>\n",
       "      <td>2011</td>\n",
       "      <td>1</td>\n",
       "      <td>26</td>\n",
       "      <td>POINT (-120.07411 41.07760)</td>\n",
       "    </tr>\n",
       "    <tr>\n",
       "      <th>128205</th>\n",
       "      <td>2014-CALBOR-001660</td>\n",
       "      <td>2014</td>\n",
       "      <td>Casitas</td>\n",
       "      <td>2014-06-17</td>\n",
       "      <td>2014</td>\n",
       "      <td>6</td>\n",
       "      <td>17</td>\n",
       "      <td>POINT (-119.36411 34.40900)</td>\n",
       "    </tr>\n",
       "  </tbody>\n",
       "</table>\n",
       "</div>"
      ],
      "text/plain": [
       "       UniqueFireIdentifier  IncidentYear IncidentName DiscoveryDate  \\\n",
       "79385     2011-NVCNC-000020          2011       Washoe    2011-01-26   \n",
       "128205   2014-CALBOR-001660          2014      Casitas    2014-06-17   \n",
       "\n",
       "        DiscoveryYear  DiscoveryMonth  DiscoveryDay  \\\n",
       "79385            2011               1            26   \n",
       "128205           2014               6            17   \n",
       "\n",
       "                           geometry  \n",
       "79385   POINT (-120.07411 41.07760)  \n",
       "128205  POINT (-119.36411 34.40900)  "
      ]
     },
     "execution_count": 22,
     "metadata": {},
     "output_type": "execute_result"
    }
   ],
   "source": [
    "fire_location.head(2)"
   ]
  },
  {
   "cell_type": "code",
   "execution_count": 23,
   "metadata": {},
   "outputs": [],
   "source": [
    "fire_location = fire_location.sort_values(['DiscoveryDate'], ascending=True)"
   ]
  },
  {
   "cell_type": "code",
   "execution_count": 24,
   "metadata": {},
   "outputs": [
    {
     "name": "stdout",
     "output_type": "stream",
     "text": [
      "UniqueFireIdentifier - 0%\n",
      "IncidentYear - 0%\n",
      "IncidentName - 0%\n",
      "DiscoveryDate - 0%\n",
      "DiscoveryYear - 0%\n",
      "DiscoveryMonth - 0%\n",
      "DiscoveryDay - 0%\n",
      "geometry - 0%\n"
     ]
    }
   ],
   "source": [
    "percentMissing(fire_location)"
   ]
  },
  {
   "cell_type": "markdown",
   "metadata": {},
   "source": [
    "Check for Correct year for fire incidents and delete duplicates based on coordinates and date"
   ]
  },
  {
   "cell_type": "code",
   "execution_count": 25,
   "metadata": {},
   "outputs": [
    {
     "data": {
      "text/html": [
       "<div>\n",
       "<style scoped>\n",
       "    .dataframe tbody tr th:only-of-type {\n",
       "        vertical-align: middle;\n",
       "    }\n",
       "\n",
       "    .dataframe tbody tr th {\n",
       "        vertical-align: top;\n",
       "    }\n",
       "\n",
       "    .dataframe thead th {\n",
       "        text-align: right;\n",
       "    }\n",
       "</style>\n",
       "<table border=\"1\" class=\"dataframe\">\n",
       "  <thead>\n",
       "    <tr style=\"text-align: right;\">\n",
       "      <th></th>\n",
       "      <th>UniqueFireIdentifier</th>\n",
       "      <th>IncidentYear</th>\n",
       "      <th>IncidentName</th>\n",
       "      <th>DiscoveryDate</th>\n",
       "      <th>DiscoveryYear</th>\n",
       "      <th>DiscoveryMonth</th>\n",
       "      <th>DiscoveryDay</th>\n",
       "      <th>geometry</th>\n",
       "      <th>Disc_minus_ID</th>\n",
       "    </tr>\n",
       "  </thead>\n",
       "  <tbody>\n",
       "    <tr>\n",
       "      <th>53158</th>\n",
       "      <td>2016-CACNF-002667</td>\n",
       "      <td>2016</td>\n",
       "      <td>MUTUAL AID DE LUZ</td>\n",
       "      <td>2015-08-09</td>\n",
       "      <td>2015</td>\n",
       "      <td>8</td>\n",
       "      <td>9</td>\n",
       "      <td>POINT (-117.32601 33.45850)</td>\n",
       "      <td>1</td>\n",
       "    </tr>\n",
       "  </tbody>\n",
       "</table>\n",
       "</div>"
      ],
      "text/plain": [
       "      UniqueFireIdentifier  IncidentYear       IncidentName DiscoveryDate  \\\n",
       "53158    2016-CACNF-002667          2016  MUTUAL AID DE LUZ    2015-08-09   \n",
       "\n",
       "       DiscoveryYear  DiscoveryMonth  DiscoveryDay  \\\n",
       "53158           2015               8             9   \n",
       "\n",
       "                          geometry  Disc_minus_ID  \n",
       "53158  POINT (-117.32601 33.45850)              1  "
      ]
     },
     "execution_count": 25,
     "metadata": {},
     "output_type": "execute_result"
    }
   ],
   "source": [
    "fire_location[\"Disc_minus_ID\"] = fire_location[\"IncidentYear\"] - fire_location[\"DiscoveryYear\"]\n",
    "fire_location[fire_location[\"Disc_minus_ID\"]!=0]"
   ]
  },
  {
   "cell_type": "code",
   "execution_count": 26,
   "metadata": {},
   "outputs": [],
   "source": [
    "fire_location = fire_location.drop(['Disc_minus_ID'], axis = 1)"
   ]
  },
  {
   "cell_type": "code",
   "execution_count": 27,
   "metadata": {},
   "outputs": [],
   "source": [
    "fire_location= fire_location[~fire_location.duplicated(['geometry', 'DiscoveryDate'], keep='first')]"
   ]
  },
  {
   "cell_type": "code",
   "execution_count": 28,
   "metadata": {},
   "outputs": [
    {
     "data": {
      "text/plain": [
       "count    23849.000000\n",
       "mean      2018.729129\n",
       "std          1.439810\n",
       "min       2011.000000\n",
       "25%       2018.000000\n",
       "50%       2019.000000\n",
       "75%       2020.000000\n",
       "max       2020.000000\n",
       "Name: DiscoveryYear, dtype: float64"
      ]
     },
     "execution_count": 28,
     "metadata": {},
     "output_type": "execute_result"
    }
   ],
   "source": [
    "fire_location['DiscoveryYear'].describe()"
   ]
  },
  {
   "cell_type": "markdown",
   "metadata": {},
   "source": [
    "### All Geospatial data for fire area perimeter"
   ]
  },
  {
   "cell_type": "code",
   "execution_count": 29,
   "metadata": {},
   "outputs": [
    {
     "name": "stdout",
     "output_type": "stream",
     "text": [
      "There are 21318 rows and 19 columns\n",
      "OBJECTID           int64\n",
      "YEAR_             object\n",
      "STATE             object\n",
      "AGENCY            object\n",
      "UNIT_ID           object\n",
      "FIRE_NAME         object\n",
      "INC_NUM           object\n",
      "ALARM_DATE        object\n",
      "CONT_DATE         object\n",
      "CAUSE            float64\n",
      "COMMENTS          object\n",
      "REPORT_AC        float64\n",
      "GIS_ACRES        float64\n",
      "C_METHOD         float64\n",
      "OBJECTIVE        float64\n",
      "FIRE_NUM          object\n",
      "SHAPE_Length     float64\n",
      "SHAPE_Area       float64\n",
      "geometry        geometry\n",
      "dtype: object\n",
      "['OBJECTID' 'CAUSE' 'REPORT_AC' 'GIS_ACRES' 'C_METHOD' 'OBJECTIVE'\n",
      " 'SHAPE_Length' 'SHAPE_Area']\n",
      "['YEAR_' 'STATE' 'AGENCY' 'UNIT_ID' 'FIRE_NAME' 'INC_NUM' 'ALARM_DATE'\n",
      " 'CONT_DATE' 'COMMENTS' 'FIRE_NUM' 'geometry']\n"
     ]
    }
   ],
   "source": [
    "Datatype(ca_fires_df)"
   ]
  },
  {
   "cell_type": "code",
   "execution_count": 30,
   "metadata": {},
   "outputs": [],
   "source": [
    "ca_fires_df['ALARM_DATE'] = pd.to_datetime(ca_fires_df['ALARM_DATE'], errors = 'coerce')\n",
    "ca_fires_df['ALARM_DATE'] = ca_fires_df['ALARM_DATE'].astype('datetime64[ns]')\n",
    "ca_fires_df['FireDate']= ca_fires_df['ALARM_DATE'].dt.strftime('%Y-%m-%d')\n",
    "ca_fires_df['FireDate'] = ca_fires_df['FireDate'].astype('datetime64[ns]')\n",
    "ca_fires_df['FireYear'] = ca_fires_df['FireDate'].dt.year\n",
    "ca_fires_df['FireMonth'] = ca_fires_df['FireDate'].dt.month\n",
    "ca_fires_df['FireDay'] = ca_fires_df['FireDate'].dt.day\n",
    "\n",
    "ca_fires_df['CONT_DATE'] = pd.to_datetime(ca_fires_df['CONT_DATE'], errors = 'coerce')\n",
    "ca_fires_df['ContDate']= ca_fires_df['CONT_DATE'].dt.strftime('%Y-%m-%d')"
   ]
  },
  {
   "cell_type": "code",
   "execution_count": 31,
   "metadata": {},
   "outputs": [
    {
     "data": {
      "text/plain": [
       "(3677, 24)"
      ]
     },
     "execution_count": 31,
     "metadata": {},
     "output_type": "execute_result"
    }
   ],
   "source": [
    "ca_fires_df = ca_fires_df[(ca_fires_df['FireYear']>= 2011) & (ca_fires_df['STATE']== 'CA')]\n",
    "ca_fires_df.shape"
   ]
  },
  {
   "cell_type": "code",
   "execution_count": 32,
   "metadata": {},
   "outputs": [],
   "source": [
    "ca_fires_df = ca_fires_df.sort_values('FireDate')"
   ]
  },
  {
   "cell_type": "code",
   "execution_count": 33,
   "metadata": {},
   "outputs": [],
   "source": [
    "# These columns are unnecessary \n",
    "# information, agency who was incharge is not needed, \n",
    "# INC NUM is unique, C_method is how it was tracked.\n",
    "\n",
    "ca_fires_df = ca_fires_df.drop(['YEAR_', 'C_METHOD', 'AGENCY', 'INC_NUM', 'ALARM_DATE', \n",
    "                                'CONT_DATE','FIRE_NUM', 'COMMENTS', 'OBJECTIVE', 'SHAPE_Area',\n",
    "                                'SHAPE_Length', 'REPORT_AC'], axis = 1)"
   ]
  },
  {
   "cell_type": "code",
   "execution_count": 34,
   "metadata": {},
   "outputs": [],
   "source": [
    "ca_fires_df = ca_fires_df.rename(columns={'OBJECTID': 'ObjectID', 'CAUSE': 'FireCause',\n",
    "                                          'GIS_ACRES': 'TotalAcres','STATE':'State', 'UNIT_ID':'UnitID', \n",
    "                                          'FIRE_NAME':'Name', 'ContDate': 'ContainmentDate'})"
   ]
  },
  {
   "cell_type": "code",
   "execution_count": 35,
   "metadata": {},
   "outputs": [
    {
     "name": "stdout",
     "output_type": "stream",
     "text": [
      "ObjectID - 0%\n",
      "State - 0%\n",
      "UnitID - 1%\n",
      "Name - 0%\n",
      "FireCause - 1%\n",
      "TotalAcres - 0%\n",
      "geometry - 0%\n",
      "FireDate - 0%\n",
      "FireYear - 0%\n",
      "FireMonth - 0%\n",
      "FireDay - 0%\n",
      "ContainmentDate - 1%\n"
     ]
    }
   ],
   "source": [
    "percentMissing(ca_fires_df)"
   ]
  },
  {
   "cell_type": "markdown",
   "metadata": {},
   "source": [
    "Check for duplicate values based on geometry and date"
   ]
  },
  {
   "cell_type": "code",
   "execution_count": 36,
   "metadata": {},
   "outputs": [],
   "source": [
    "ca_fires_df = ca_fires_df.sort_values(['FireDate'], ascending=True)"
   ]
  },
  {
   "cell_type": "code",
   "execution_count": 37,
   "metadata": {},
   "outputs": [],
   "source": [
    "ca_fires_df = ca_fires_df[~ca_fires_df.duplicated(['geometry', 'FireDate'], keep='first')]"
   ]
  },
  {
   "cell_type": "code",
   "execution_count": 38,
   "metadata": {},
   "outputs": [],
   "source": [
    "ca_fires_df = ca_fires_df[~ca_fires_df.duplicated(['geometry', 'TotalAcres'], keep='first')]"
   ]
  },
  {
   "cell_type": "code",
   "execution_count": 39,
   "metadata": {},
   "outputs": [
    {
     "data": {
      "text/plain": [
       "(3673, 12)"
      ]
     },
     "execution_count": 39,
     "metadata": {},
     "output_type": "execute_result"
    }
   ],
   "source": [
    "ca_fires_df.shape"
   ]
  },
  {
   "cell_type": "markdown",
   "metadata": {},
   "source": [
    "### All California Incidents with name and coordinates. This data is used as supplement data to check for fire date inaccuracies"
   ]
  },
  {
   "cell_type": "code",
   "execution_count": 40,
   "metadata": {},
   "outputs": [],
   "source": [
    "fires_df['Started'] = fires_df['Started'].astype('datetime64[ns]')\n",
    "fires_df['CaDate']= fires_df['Started'].dt.strftime('%Y-%m-%d')\n",
    "fires_df['Extinguished'] = fires_df['Extinguished'].astype('datetime64[ns]')\n",
    "fires_df['ExitDate']= fires_df['Extinguished'].dt.strftime('%Y-%m-%d')"
   ]
  },
  {
   "cell_type": "code",
   "execution_count": 41,
   "metadata": {},
   "outputs": [],
   "source": [
    "fires_df = fires_df[(fires_df['Latitude']<= 42) & (fires_df['Latitude'] >= 32)]\n",
    "fires_df = fires_df[(fires_df['Longitude']<= -114) & (fires_df['Longitude'] >= -126)]"
   ]
  },
  {
   "cell_type": "code",
   "execution_count": 42,
   "metadata": {},
   "outputs": [],
   "source": [
    "fires_df['CaDate'] = fires_df['CaDate'].astype('datetime64[ns]')\n",
    "fires_df['CaYear'] = fires_df['CaDate'].dt.year\n",
    "fires_df['CaMonth'] = fires_df['CaDate'].dt.month\n",
    "fires_df['CaDay'] = fires_df['CaDate'].dt.day"
   ]
  },
  {
   "cell_type": "code",
   "execution_count": 43,
   "metadata": {},
   "outputs": [
    {
     "data": {
      "text/plain": [
       "(1465, 12)"
      ]
     },
     "execution_count": 43,
     "metadata": {},
     "output_type": "execute_result"
    }
   ],
   "source": [
    "fires_df = fires_df[['Name', 'Latitude', 'Longitude', 'CaDate','CaYear', 'CaMonth', 'CaDay', 'ExitDate', 'AcresBurned', \n",
    "                     'ArchiveYear', 'Counties', 'UniqueId']]\n",
    "fires_df.shape"
   ]
  },
  {
   "cell_type": "code",
   "execution_count": 44,
   "metadata": {},
   "outputs": [
    {
     "name": "stdout",
     "output_type": "stream",
     "text": [
      "Name - 0%\n",
      "Latitude - 0%\n",
      "Longitude - 0%\n",
      "CaDate - 0%\n",
      "CaYear - 0%\n",
      "CaMonth - 0%\n",
      "CaDay - 0%\n",
      "ExitDate - 4%\n",
      "AcresBurned - 0%\n",
      "ArchiveYear - 0%\n",
      "Counties - 0%\n",
      "UniqueId - 0%\n"
     ]
    }
   ],
   "source": [
    "percentMissing(fires_df)"
   ]
  },
  {
   "cell_type": "markdown",
   "metadata": {},
   "source": [
    "Check for Correct year for fire incidents and delete duplicates based on coordinates and date"
   ]
  },
  {
   "cell_type": "code",
   "execution_count": 45,
   "metadata": {},
   "outputs": [
    {
     "data": {
      "text/html": [
       "<div>\n",
       "<style scoped>\n",
       "    .dataframe tbody tr th:only-of-type {\n",
       "        vertical-align: middle;\n",
       "    }\n",
       "\n",
       "    .dataframe tbody tr th {\n",
       "        vertical-align: top;\n",
       "    }\n",
       "\n",
       "    .dataframe thead th {\n",
       "        text-align: right;\n",
       "    }\n",
       "</style>\n",
       "<table border=\"1\" class=\"dataframe\">\n",
       "  <thead>\n",
       "    <tr style=\"text-align: right;\">\n",
       "      <th></th>\n",
       "      <th>Name</th>\n",
       "      <th>Latitude</th>\n",
       "      <th>Longitude</th>\n",
       "      <th>CaDate</th>\n",
       "      <th>CaYear</th>\n",
       "      <th>CaMonth</th>\n",
       "      <th>CaDay</th>\n",
       "      <th>ExitDate</th>\n",
       "      <th>AcresBurned</th>\n",
       "      <th>ArchiveYear</th>\n",
       "      <th>Counties</th>\n",
       "      <th>UniqueId</th>\n",
       "      <th>Archive_minus_Year</th>\n",
       "    </tr>\n",
       "  </thead>\n",
       "  <tbody>\n",
       "    <tr>\n",
       "      <th>1019</th>\n",
       "      <td>Taglio Fire</td>\n",
       "      <td>37.21812</td>\n",
       "      <td>-121.07761</td>\n",
       "      <td>1969-12-31</td>\n",
       "      <td>1969</td>\n",
       "      <td>12</td>\n",
       "      <td>31</td>\n",
       "      <td>2018-01-09</td>\n",
       "      <td>12.0</td>\n",
       "      <td>2017</td>\n",
       "      <td>Merced</td>\n",
       "      <td>fcb8579e-7469-4c9e-9eac-527264e6f26b</td>\n",
       "      <td>48</td>\n",
       "    </tr>\n",
       "    <tr>\n",
       "      <th>1261</th>\n",
       "      <td>Bridge Fire</td>\n",
       "      <td>38.07135</td>\n",
       "      <td>-122.76751</td>\n",
       "      <td>1969-12-31</td>\n",
       "      <td>1969</td>\n",
       "      <td>12</td>\n",
       "      <td>31</td>\n",
       "      <td>2019-01-04</td>\n",
       "      <td>45.0</td>\n",
       "      <td>2018</td>\n",
       "      <td>Marin</td>\n",
       "      <td>49232e73-c3ba-4dc3-b673-b973a918fa7c</td>\n",
       "      <td>49</td>\n",
       "    </tr>\n",
       "  </tbody>\n",
       "</table>\n",
       "</div>"
      ],
      "text/plain": [
       "             Name  Latitude  Longitude     CaDate  CaYear  CaMonth  CaDay  \\\n",
       "1019  Taglio Fire  37.21812 -121.07761 1969-12-31    1969       12     31   \n",
       "1261  Bridge Fire  38.07135 -122.76751 1969-12-31    1969       12     31   \n",
       "\n",
       "        ExitDate  AcresBurned  ArchiveYear Counties  \\\n",
       "1019  2018-01-09         12.0         2017   Merced   \n",
       "1261  2019-01-04         45.0         2018    Marin   \n",
       "\n",
       "                                  UniqueId  Archive_minus_Year  \n",
       "1019  fcb8579e-7469-4c9e-9eac-527264e6f26b                  48  \n",
       "1261  49232e73-c3ba-4dc3-b673-b973a918fa7c                  49  "
      ]
     },
     "execution_count": 45,
     "metadata": {},
     "output_type": "execute_result"
    }
   ],
   "source": [
    "fires_df[\"Archive_minus_Year\"] = fires_df[\"ArchiveYear\"] - fires_df[\"CaYear\"]\n",
    "fires_df[fires_df[\"Archive_minus_Year\"]!=0]"
   ]
  },
  {
   "cell_type": "code",
   "execution_count": 46,
   "metadata": {},
   "outputs": [],
   "source": [
    "idx = fires_df[fires_df[\"Archive_minus_Year\"]!=0].index.tolist()\n",
    "\n",
    "# Taglio fire was in May 17, 2017\n",
    "fires_df.at[idx[0],'CaDate']= '2017-05-17'\n",
    "fires_df.at[idx[0],'ExitDate']= '2017-05-17'\n",
    "fires_df.at[idx[0],'CaYear']= 2017\n",
    "fires_df.at[idx[0],'CaMonth']= 5\n",
    "fires_df.at[idx[0],'CaDay']= 17\n",
    "\n",
    "\n",
    "# Taglio fire was in May 17, 2017\n",
    "fires_df.at[idx[1],'CaDate']= '2018-08-08'\n",
    "fires_df.at[idx[1],'ExitDate']= '2018-08-09'\n",
    "fires_df.at[idx[1],'CaYear']= 2018\n",
    "fires_df.at[idx[1],'CaMonth']= 8\n",
    "fires_df.at[idx[1],'CaDay']= 8"
   ]
  },
  {
   "cell_type": "code",
   "execution_count": 47,
   "metadata": {},
   "outputs": [
    {
     "data": {
      "text/html": [
       "<div>\n",
       "<style scoped>\n",
       "    .dataframe tbody tr th:only-of-type {\n",
       "        vertical-align: middle;\n",
       "    }\n",
       "\n",
       "    .dataframe tbody tr th {\n",
       "        vertical-align: top;\n",
       "    }\n",
       "\n",
       "    .dataframe thead th {\n",
       "        text-align: right;\n",
       "    }\n",
       "</style>\n",
       "<table border=\"1\" class=\"dataframe\">\n",
       "  <thead>\n",
       "    <tr style=\"text-align: right;\">\n",
       "      <th></th>\n",
       "      <th>Name</th>\n",
       "      <th>Latitude</th>\n",
       "      <th>Longitude</th>\n",
       "      <th>CaDate</th>\n",
       "      <th>CaYear</th>\n",
       "      <th>CaMonth</th>\n",
       "      <th>CaDay</th>\n",
       "      <th>ExitDate</th>\n",
       "      <th>AcresBurned</th>\n",
       "      <th>ArchiveYear</th>\n",
       "      <th>Counties</th>\n",
       "      <th>UniqueId</th>\n",
       "      <th>Archive_minus_Year</th>\n",
       "    </tr>\n",
       "  </thead>\n",
       "  <tbody>\n",
       "  </tbody>\n",
       "</table>\n",
       "</div>"
      ],
      "text/plain": [
       "Empty DataFrame\n",
       "Columns: [Name, Latitude, Longitude, CaDate, CaYear, CaMonth, CaDay, ExitDate, AcresBurned, ArchiveYear, Counties, UniqueId, Archive_minus_Year]\n",
       "Index: []"
      ]
     },
     "execution_count": 47,
     "metadata": {},
     "output_type": "execute_result"
    }
   ],
   "source": [
    "fires_df[\"Archive_minus_Year\"] = fires_df[\"ArchiveYear\"] - fires_df[\"CaYear\"]\n",
    "fires_df[fires_df[\"Archive_minus_Year\"]!=0]"
   ]
  },
  {
   "cell_type": "code",
   "execution_count": 48,
   "metadata": {},
   "outputs": [
    {
     "data": {
      "text/html": [
       "<div>\n",
       "<style scoped>\n",
       "    .dataframe tbody tr th:only-of-type {\n",
       "        vertical-align: middle;\n",
       "    }\n",
       "\n",
       "    .dataframe tbody tr th {\n",
       "        vertical-align: top;\n",
       "    }\n",
       "\n",
       "    .dataframe thead th {\n",
       "        text-align: right;\n",
       "    }\n",
       "</style>\n",
       "<table border=\"1\" class=\"dataframe\">\n",
       "  <thead>\n",
       "    <tr style=\"text-align: right;\">\n",
       "      <th></th>\n",
       "      <th>Name</th>\n",
       "      <th>Latitude</th>\n",
       "      <th>Longitude</th>\n",
       "      <th>CaDate</th>\n",
       "      <th>CaYear</th>\n",
       "      <th>CaMonth</th>\n",
       "      <th>CaDay</th>\n",
       "      <th>ExitDate</th>\n",
       "      <th>AcresBurned</th>\n",
       "      <th>ArchiveYear</th>\n",
       "      <th>Counties</th>\n",
       "      <th>UniqueId</th>\n",
       "      <th>Archive_minus_Year</th>\n",
       "      <th>geometry</th>\n",
       "    </tr>\n",
       "  </thead>\n",
       "  <tbody>\n",
       "    <tr>\n",
       "      <th>0</th>\n",
       "      <td>Rim Fire</td>\n",
       "      <td>37.857000</td>\n",
       "      <td>-120.086000</td>\n",
       "      <td>2013-08-17</td>\n",
       "      <td>2013</td>\n",
       "      <td>8</td>\n",
       "      <td>17</td>\n",
       "      <td>2013-09-06</td>\n",
       "      <td>257314.0</td>\n",
       "      <td>2013</td>\n",
       "      <td>Tuolumne</td>\n",
       "      <td>5fb18d4d-213f-4d83-a179-daaf11939e78</td>\n",
       "      <td>0</td>\n",
       "      <td>POINT (-120.08600 37.85700)</td>\n",
       "    </tr>\n",
       "    <tr>\n",
       "      <th>1</th>\n",
       "      <td>Powerhouse Fire</td>\n",
       "      <td>34.585595</td>\n",
       "      <td>-118.423176</td>\n",
       "      <td>2013-05-30</td>\n",
       "      <td>2013</td>\n",
       "      <td>5</td>\n",
       "      <td>30</td>\n",
       "      <td>2013-06-08</td>\n",
       "      <td>30274.0</td>\n",
       "      <td>2013</td>\n",
       "      <td>Los Angeles</td>\n",
       "      <td>bf37805e-1cc2-4208-9972-753e47874c87</td>\n",
       "      <td>0</td>\n",
       "      <td>POINT (-118.42318 34.58559)</td>\n",
       "    </tr>\n",
       "  </tbody>\n",
       "</table>\n",
       "</div>"
      ],
      "text/plain": [
       "              Name   Latitude   Longitude     CaDate  CaYear  CaMonth  CaDay  \\\n",
       "0         Rim Fire  37.857000 -120.086000 2013-08-17    2013        8     17   \n",
       "1  Powerhouse Fire  34.585595 -118.423176 2013-05-30    2013        5     30   \n",
       "\n",
       "     ExitDate  AcresBurned  ArchiveYear     Counties  \\\n",
       "0  2013-09-06     257314.0         2013     Tuolumne   \n",
       "1  2013-06-08      30274.0         2013  Los Angeles   \n",
       "\n",
       "                               UniqueId  Archive_minus_Year  \\\n",
       "0  5fb18d4d-213f-4d83-a179-daaf11939e78                   0   \n",
       "1  bf37805e-1cc2-4208-9972-753e47874c87                   0   \n",
       "\n",
       "                      geometry  \n",
       "0  POINT (-120.08600 37.85700)  \n",
       "1  POINT (-118.42318 34.58559)  "
      ]
     },
     "execution_count": 48,
     "metadata": {},
     "output_type": "execute_result"
    }
   ],
   "source": [
    "geometry = [Point(xy) for xy in zip(fires_df['Longitude'], fires_df['Latitude'])]\n",
    "geometry[:3]\n",
    "crs = {'init': \"EPSG:4326\"}\n",
    "fires_df1 = gpd.GeoDataFrame(fires_df, crs=crs, geometry=geometry)\n",
    "fires_df1.head(2)"
   ]
  },
  {
   "cell_type": "markdown",
   "metadata": {},
   "source": [
    "Check for duplicate values based on geometry and date"
   ]
  },
  {
   "cell_type": "code",
   "execution_count": 49,
   "metadata": {},
   "outputs": [],
   "source": [
    "fires_df1 = fires_df1.sort_values(['CaDate'], ascending=True)"
   ]
  },
  {
   "cell_type": "code",
   "execution_count": 50,
   "metadata": {},
   "outputs": [],
   "source": [
    "fires_df1 = fires_df1[~fires_df1.duplicated(['geometry', 'CaDate'], keep='first')]"
   ]
  },
  {
   "cell_type": "code",
   "execution_count": 51,
   "metadata": {},
   "outputs": [],
   "source": [
    "fires_df1 = fires_df1[~fires_df1.duplicated(['Name','geometry', 'AcresBurned'], keep='first')]"
   ]
  },
  {
   "cell_type": "code",
   "execution_count": 52,
   "metadata": {},
   "outputs": [],
   "source": [
    "fires_df1 = fires_df1.sort_values('CaDate')"
   ]
  },
  {
   "cell_type": "code",
   "execution_count": 53,
   "metadata": {},
   "outputs": [],
   "source": [
    "fires_df1 = fires_df1.drop([\"Archive_minus_Year\"], axis = 1)"
   ]
  },
  {
   "cell_type": "code",
   "execution_count": 54,
   "metadata": {
    "scrolled": true
   },
   "outputs": [
    {
     "data": {
      "text/plain": [
       "count    1436.000000\n",
       "mean     2016.804318\n",
       "std         1.800893\n",
       "min      2013.000000\n",
       "25%      2016.000000\n",
       "50%      2017.000000\n",
       "75%      2018.000000\n",
       "max      2019.000000\n",
       "Name: ArchiveYear, dtype: float64"
      ]
     },
     "execution_count": 54,
     "metadata": {},
     "output_type": "execute_result"
    }
   ],
   "source": [
    "fires_df1[\"ArchiveYear\"].describe()"
   ]
  },
  {
   "cell_type": "markdown",
   "metadata": {},
   "source": [
    "### Making Copies for the record"
   ]
  },
  {
   "cell_type": "code",
   "execution_count": 55,
   "metadata": {},
   "outputs": [],
   "source": [
    "FireLocation = fire_location.copy()\n",
    "FirePolygon = ca_fires_df.copy()\n",
    "FireList = fires_df1.copy()"
   ]
  },
  {
   "cell_type": "code",
   "execution_count": 56,
   "metadata": {},
   "outputs": [
    {
     "name": "stdout",
     "output_type": "stream",
     "text": [
      "epsg:4326\n",
      "epsg:4326\n",
      "+init=epsg:4326 +type=crs\n"
     ]
    }
   ],
   "source": [
    "print(FirePolygon.crs)\n",
    "print(FireLocation.crs)\n",
    "print(FireList.crs)"
   ]
  },
  {
   "cell_type": "code",
   "execution_count": 57,
   "metadata": {},
   "outputs": [
    {
     "data": {
      "text/plain": [
       "<Geographic 2D CRS: EPSG:4326>\n",
       "Name: WGS 84\n",
       "Axis Info [ellipsoidal]:\n",
       "- Lat[north]: Geodetic latitude (degree)\n",
       "- Lon[east]: Geodetic longitude (degree)\n",
       "Area of Use:\n",
       "- name: World.\n",
       "- bounds: (-180.0, -90.0, 180.0, 90.0)\n",
       "Datum: World Geodetic System 1984 ensemble\n",
       "- Ellipsoid: WGS 84\n",
       "- Prime Meridian: Greenwich"
      ]
     },
     "execution_count": 57,
     "metadata": {},
     "output_type": "execute_result"
    }
   ],
   "source": [
    "FireLocation.crs"
   ]
  },
  {
   "cell_type": "code",
   "execution_count": 58,
   "metadata": {},
   "outputs": [
    {
     "data": {
      "text/plain": [
       "<Geographic 2D CRS: +init=epsg:4326 +type=crs>\n",
       "Name: WGS 84\n",
       "Axis Info [ellipsoidal]:\n",
       "- lon[east]: Longitude (degree)\n",
       "- lat[north]: Latitude (degree)\n",
       "Area of Use:\n",
       "- name: World.\n",
       "- bounds: (-180.0, -90.0, 180.0, 90.0)\n",
       "Datum: World Geodetic System 1984 ensemble\n",
       "- Ellipsoid: WGS 84\n",
       "- Prime Meridian: Greenwich"
      ]
     },
     "execution_count": 58,
     "metadata": {},
     "output_type": "execute_result"
    }
   ],
   "source": [
    "FireList.crs"
   ]
  },
  {
   "cell_type": "markdown",
   "metadata": {},
   "source": [
    "## Merging Fire Perimeter with Fire Location by date."
   ]
  },
  {
   "cell_type": "markdown",
   "metadata": {},
   "source": [
    "Projecting the crs to from WGS84 to NAD83 so we can compute distances between points correctly in meters or kilometers."
   ]
  },
  {
   "cell_type": "code",
   "execution_count": 59,
   "metadata": {},
   "outputs": [],
   "source": [
    "FireLocation = FireLocation.to_crs({'init': \"EPSG:3310\"})\n",
    "FirePolygon = FirePolygon.to_crs({'init': \"EPSG:3310\"})\n",
    "FireList = FireList.to_crs({'init': \"EPSG:3310\"})"
   ]
  },
  {
   "cell_type": "code",
   "execution_count": 60,
   "metadata": {},
   "outputs": [],
   "source": [
    "FireLocation['Fire'] = 0\n",
    "FireList['Fire'] = 0"
   ]
  },
  {
   "cell_type": "code",
   "execution_count": 61,
   "metadata": {},
   "outputs": [],
   "source": [
    "def get_nearestpoints(df1, df1day, df2, df2day, dist):\n",
    "    \"\"\"\n",
    "        This Function merges dataframe for selected day by finding nearest points\n",
    "        for each day and creates mini dfs for each day of month\n",
    "    \"\"\"\n",
    "    days = list(range(1, 32))\n",
    "    dfs = []\n",
    "    for day in days:\n",
    "        df = df1[df1[df1day] == day]\n",
    "        df3 = df2 \n",
    "        m_df = gpd.sjoin_nearest(df, df3, how='left', max_distance = 10,distance_col=dist)\n",
    "        m_df[dist] = m_df[dist].apply(lambda x: x/1000)\n",
    "        d = pd.DataFrame(m_df)\n",
    "        dfs.append(d)\n",
    "    \n",
    "    dfs = pd.concat(dfs)\n",
    "    dfs = dfs.drop([\"Fire\"], axis = 1)\n",
    "    return dfs"
   ]
  },
  {
   "cell_type": "code",
   "execution_count": 62,
   "metadata": {},
   "outputs": [],
   "source": [
    "def merge_data(data1, df1year, df1month, df1day, data2, df2year, df2month,df2day, dist, year):\n",
    "    \"\"\"\n",
    "        This Function filters dataframe by year and months and calls for day dfs,\n",
    "        append it and then converts it into pandas df. \n",
    "    \"\"\"\n",
    "    months = list(range(1, 13))\n",
    "    dfs = []\n",
    "    for month in months:\n",
    "        df1 = data1[(data1[df1year] == year) & (data1[df1month] == month)]\n",
    "        df2 = data2[(data2[df2year] == year) & (data2[df2month] == month)]\n",
    "\n",
    "        if 'Fire' in df2.columns:\n",
    "            df = gpd.sjoin_nearest(df1, df2, how='left', distance_col=dist)\n",
    "            df[dist] = df[dist].apply(lambda x: x/1000)\n",
    "            d = pd.DataFrame(df)\n",
    "            dfs.append(d)\n",
    "        else:\n",
    "            df = get_nearestpoints(df1, df1day, df2, df2day, dist)\n",
    "            dfs.append(df)\n",
    "            \n",
    "    dfs = pd.concat(dfs)\n",
    "    return dfs  "
   ]
  },
  {
   "cell_type": "code",
   "execution_count": 63,
   "metadata": {},
   "outputs": [],
   "source": [
    "def get_data(df1, df1year, df1month, df1day, df2, df2year, df2month, df2day, dist):\n",
    "    \"\"\"\n",
    "        This calls_ for all dataframes and combine it and create one dataset for \n",
    "        fire data, so we can use the combined information to find the estimated dates\n",
    "    \"\"\"\n",
    "    years = list(range(2011, 2021))\n",
    "    dataframesList = []\n",
    "    for year in years:\n",
    "        data = merge_data(df1, df1year, df1month, df1day, df2, df2year, df2month, df2day, dist, year)\n",
    "        dataframesList.append(data)\n",
    "    \n",
    "    df = gpd.GeoDataFrame(pd.concat(dataframesList), crs=crs)\n",
    "    try:\n",
    "        df.drop('index_right', axis=1, inplace=True)\n",
    "    except ValueError:\n",
    "        # ignore if there are no index columns\n",
    "        pass\n",
    "    \n",
    "    print(df.shape)\n",
    "    \n",
    "    return df"
   ]
  },
  {
   "cell_type": "code",
   "execution_count": 64,
   "metadata": {},
   "outputs": [
    {
     "name": "stdout",
     "output_type": "stream",
     "text": [
      "(3838, 21)\n"
     ]
    }
   ],
   "source": [
    "nearestfire1 = get_data(FirePolygon, 'FireYear', 'FireMonth', 'FireDay', \n",
    "                       FireLocation, 'DiscoveryYear', 'DiscoveryMonth', 'DiscoveryDay', 'locationdist')"
   ]
  },
  {
   "cell_type": "markdown",
   "metadata": {},
   "source": [
    "### Handling Missing Values and Duplicates. Fixing Bad Data "
   ]
  },
  {
   "cell_type": "markdown",
   "metadata": {},
   "source": [
    "#### Analysis of Fire Start Dates Missing Values using Fire Location Data"
   ]
  },
  {
   "cell_type": "code",
   "execution_count": 65,
   "metadata": {},
   "outputs": [
    {
     "data": {
      "text/html": [
       "<div>\n",
       "<style scoped>\n",
       "    .dataframe tbody tr th:only-of-type {\n",
       "        vertical-align: middle;\n",
       "    }\n",
       "\n",
       "    .dataframe tbody tr th {\n",
       "        vertical-align: top;\n",
       "    }\n",
       "\n",
       "    .dataframe thead th {\n",
       "        text-align: right;\n",
       "    }\n",
       "</style>\n",
       "<table border=\"1\" class=\"dataframe\">\n",
       "  <thead>\n",
       "    <tr style=\"text-align: right;\">\n",
       "      <th></th>\n",
       "      <th>ObjectID</th>\n",
       "      <th>State</th>\n",
       "      <th>UnitID</th>\n",
       "      <th>Name</th>\n",
       "      <th>FireCause</th>\n",
       "      <th>TotalAcres</th>\n",
       "      <th>geometry</th>\n",
       "      <th>FireDate</th>\n",
       "      <th>FireYear</th>\n",
       "      <th>FireMonth</th>\n",
       "      <th>...</th>\n",
       "      <th>ContainmentDate</th>\n",
       "      <th>UniqueFireIdentifier</th>\n",
       "      <th>IncidentYear</th>\n",
       "      <th>IncidentName</th>\n",
       "      <th>DiscoveryDate</th>\n",
       "      <th>DiscoveryYear</th>\n",
       "      <th>DiscoveryMonth</th>\n",
       "      <th>DiscoveryDay</th>\n",
       "      <th>Fire</th>\n",
       "      <th>locationdist</th>\n",
       "    </tr>\n",
       "  </thead>\n",
       "  <tbody>\n",
       "    <tr>\n",
       "      <th>252</th>\n",
       "      <td>21694</td>\n",
       "      <td>CA</td>\n",
       "      <td>SHF</td>\n",
       "      <td>FLAT</td>\n",
       "      <td>10.0</td>\n",
       "      <td>62.040543</td>\n",
       "      <td>MULTIPOLYGON (((-289859.162 314145.109, -28986...</td>\n",
       "      <td>2020-06-30</td>\n",
       "      <td>2020.0</td>\n",
       "      <td>6.0</td>\n",
       "      <td>...</td>\n",
       "      <td>2020-08-22</td>\n",
       "      <td>2020-CASHF-000910</td>\n",
       "      <td>2020.0</td>\n",
       "      <td>FLAT</td>\n",
       "      <td>2020-06-30</td>\n",
       "      <td>2020.0</td>\n",
       "      <td>6.0</td>\n",
       "      <td>30.0</td>\n",
       "      <td>0.0</td>\n",
       "      <td>0.0</td>\n",
       "    </tr>\n",
       "    <tr>\n",
       "      <th>375</th>\n",
       "      <td>21819</td>\n",
       "      <td>CA</td>\n",
       "      <td>SKU</td>\n",
       "      <td>NOYES 1-14</td>\n",
       "      <td>1.0</td>\n",
       "      <td>8.120131</td>\n",
       "      <td>MULTIPOLYGON (((-224232.716 382534.303, -22423...</td>\n",
       "      <td>2020-07-28</td>\n",
       "      <td>2020.0</td>\n",
       "      <td>7.0</td>\n",
       "      <td>...</td>\n",
       "      <td>2020-07-28</td>\n",
       "      <td>2020-CASKU-005720</td>\n",
       "      <td>2020.0</td>\n",
       "      <td>NOYES 1-14</td>\n",
       "      <td>2020-07-28</td>\n",
       "      <td>2020.0</td>\n",
       "      <td>7.0</td>\n",
       "      <td>28.0</td>\n",
       "      <td>0.0</td>\n",
       "      <td>0.0</td>\n",
       "    </tr>\n",
       "  </tbody>\n",
       "</table>\n",
       "<p>2 rows × 21 columns</p>\n",
       "</div>"
      ],
      "text/plain": [
       "     ObjectID State UnitID        Name  FireCause  TotalAcres  \\\n",
       "252     21694    CA    SHF        FLAT       10.0   62.040543   \n",
       "375     21819    CA    SKU  NOYES 1-14        1.0    8.120131   \n",
       "\n",
       "                                              geometry   FireDate  FireYear  \\\n",
       "252  MULTIPOLYGON (((-289859.162 314145.109, -28986... 2020-06-30    2020.0   \n",
       "375  MULTIPOLYGON (((-224232.716 382534.303, -22423... 2020-07-28    2020.0   \n",
       "\n",
       "     FireMonth  ...  ContainmentDate UniqueFireIdentifier IncidentYear  \\\n",
       "252        6.0  ...       2020-08-22    2020-CASHF-000910       2020.0   \n",
       "375        7.0  ...       2020-07-28    2020-CASKU-005720       2020.0   \n",
       "\n",
       "     IncidentName DiscoveryDate DiscoveryYear  DiscoveryMonth  DiscoveryDay  \\\n",
       "252          FLAT    2020-06-30        2020.0             6.0          30.0   \n",
       "375    NOYES 1-14    2020-07-28        2020.0             7.0          28.0   \n",
       "\n",
       "     Fire  locationdist  \n",
       "252   0.0           0.0  \n",
       "375   0.0           0.0  \n",
       "\n",
       "[2 rows x 21 columns]"
      ]
     },
     "execution_count": 65,
     "metadata": {},
     "output_type": "execute_result"
    }
   ],
   "source": [
    "nearestfire1 = nearestfire1.sort_values('locationdist', ascending=True)\n",
    "nearestfire1.head(2)"
   ]
  },
  {
   "cell_type": "code",
   "execution_count": 66,
   "metadata": {},
   "outputs": [],
   "source": [
    "def get_duration(df):\n",
    "    df['LocDate_minus_FireDate'] = (df[\"DiscoveryDate\"] - df[\"FireDate\"]).dt.days\n",
    "    df = df.sort_values('LocDate_minus_FireDate', ascending=True)\n",
    "    return df"
   ]
  },
  {
   "cell_type": "code",
   "execution_count": 67,
   "metadata": {},
   "outputs": [],
   "source": [
    "nearestfire1 = get_duration(nearestfire1)"
   ]
  },
  {
   "cell_type": "code",
   "execution_count": 68,
   "metadata": {
    "scrolled": false
   },
   "outputs": [],
   "source": [
    "# dropping duplicates based on earliest discovery date and location distance == 0 for fires bigger than 100 acres\n",
    "nearestfire1 = nearestfire1[~((nearestfire1.index.duplicated(keep='first')) & \n",
    "                            (nearestfire1['LocDate_minus_FireDate']<=0) & \n",
    "                            (nearestfire1['TotalAcres']>100) & (nearestfire1['locationdist']==0))]\n",
    "\n",
    "# dropping duplicates based on earliest discovery date and location distance == 0 for fires less than 100 acres\n",
    "nearestfire1 = nearestfire1[~((nearestfire1.index.duplicated(keep='first')) & \n",
    "                              (nearestfire1['LocDate_minus_FireDate']<=0) & \n",
    "                              (nearestfire1['TotalAcres']<100) & (nearestfire1['locationdist']==0))]\n",
    "\n",
    "# dropping it because it is not mapped correctly\n",
    "nearestfire1 = nearestfire1[~((nearestfire1.index.duplicated(keep='first')) & \n",
    "                            (nearestfire1['LocDate_minus_FireDate']>=0) & \n",
    "                            (nearestfire1['TotalAcres']<100) & (nearestfire1['locationdist']==0))]\n",
    "\n",
    "nearestfire1 = nearestfire1[~((nearestfire1.index.duplicated(keep='first')) & \n",
    "                            (nearestfire1['LocDate_minus_FireDate']>=0) & \n",
    "                            (nearestfire1['TotalAcres']>100) & (nearestfire1['locationdist']==0))]"
   ]
  },
  {
   "cell_type": "code",
   "execution_count": 69,
   "metadata": {},
   "outputs": [],
   "source": [
    "nearestfire1 = get_duration(nearestfire1)\n",
    "nearestfire1 = nearestfire1.sort_values('locationdist', ascending=True)"
   ]
  },
  {
   "cell_type": "code",
   "execution_count": 70,
   "metadata": {},
   "outputs": [],
   "source": [
    "nearestfire1 = nearestfire1[~nearestfire1.index.duplicated(keep='first')]\n",
    "nearestfire1 = get_duration(nearestfire1)\n",
    "nearestfire1 = nearestfire1.sort_values('locationdist', ascending=True)"
   ]
  },
  {
   "cell_type": "code",
   "execution_count": 71,
   "metadata": {
    "scrolled": false
   },
   "outputs": [],
   "source": [
    "nearestfire1[(nearestfire1['LocDate_minus_FireDate'] <0) & \n",
    "             (nearestfire1['DiscoveryDate'].notnull()) & \n",
    "             (nearestfire1['locationdist'] ==0)]\n",
    "\n",
    "## replacing fire date with discovery date. \n",
    "nearestfire1.loc[(nearestfire1['LocDate_minus_FireDate'] <0) & \n",
    "                 (nearestfire1['DiscoveryDate'].notnull()) & \n",
    "                 (nearestfire1['locationdist'] ==0), 'FireDate'] = nearestfire1['DiscoveryDate']"
   ]
  },
  {
   "cell_type": "code",
   "execution_count": 72,
   "metadata": {},
   "outputs": [],
   "source": [
    "# replacing discovery dates for any fire which is less than kilometer away and starts earlier than reported fire date\n",
    "nearestfire1[(nearestfire1['LocDate_minus_FireDate'] <0) & \n",
    "             (nearestfire1['DiscoveryDate'].notnull()) & \n",
    "             (nearestfire1['locationdist'] >0) & \n",
    "             (nearestfire1['locationdist'] <1) & (nearestfire1['TotalAcres']>100)]\n",
    "\n",
    "nearestfire1.loc[(nearestfire1['LocDate_minus_FireDate'] <0) & \n",
    "                 (nearestfire1['DiscoveryDate'].notnull()) & \n",
    "                 (nearestfire1['locationdist'] >0) & \n",
    "                 (nearestfire1['locationdist'] <1) & (nearestfire1['TotalAcres']>100), 'FireDate'] = nearestfire1['DiscoveryDate']"
   ]
  },
  {
   "cell_type": "code",
   "execution_count": 73,
   "metadata": {
    "scrolled": false
   },
   "outputs": [],
   "source": [
    "# replacing discovery dates for any fire which is less than kilometer away and starts earlier than reported fire date\n",
    "nearestfire1[(nearestfire1['LocDate_minus_FireDate'] <0) & \n",
    "             (nearestfire1['DiscoveryDate'].notnull()) & \n",
    "             (nearestfire1['locationdist'] >0) & \n",
    "             (nearestfire1['locationdist'] <0.2) & (nearestfire1['TotalAcres']<100)]\n",
    "\n",
    "nearestfire1.loc[(nearestfire1['LocDate_minus_FireDate'] <0) & \n",
    "                 (nearestfire1['DiscoveryDate'].notnull()) & \n",
    "                 (nearestfire1['locationdist'] >0) & \n",
    "                 (nearestfire1['locationdist'] <0.2) & (nearestfire1['TotalAcres']<100), 'FireDate'] = nearestfire1['DiscoveryDate']"
   ]
  },
  {
   "cell_type": "code",
   "execution_count": 74,
   "metadata": {},
   "outputs": [],
   "source": [
    "nearestfire1 = get_duration(nearestfire1)\n",
    "nearestfire1 = nearestfire1.sort_values('locationdist', ascending=True)"
   ]
  },
  {
   "cell_type": "code",
   "execution_count": 75,
   "metadata": {},
   "outputs": [],
   "source": [
    "# replacing discovery dates for any fire which is less than kilometer away and starts earlier than reported fire date\n",
    "nearestfire1[(nearestfire1['LocDate_minus_FireDate'] <=-1) & \n",
    "             (nearestfire1['DiscoveryDate'].notnull()) & \n",
    "             (nearestfire1['LocDate_minus_FireDate'] >=-2) & \n",
    "             (nearestfire1['locationdist'] <0.5)]\n",
    "\n",
    "nearestfire1.loc[(nearestfire1['LocDate_minus_FireDate'] <=-1) & \n",
    "             (nearestfire1['DiscoveryDate'].notnull()) & \n",
    "             (nearestfire1['LocDate_minus_FireDate'] >=-2) & \n",
    "             (nearestfire1['locationdist'] <0.5), 'FireDate'] = nearestfire1['DiscoveryDate']"
   ]
  },
  {
   "cell_type": "code",
   "execution_count": 76,
   "metadata": {},
   "outputs": [],
   "source": [
    "nearestfire1 = get_duration(nearestfire1)\n",
    "nearestfire1 = nearestfire1.sort_values('locationdist', ascending=True)"
   ]
  },
  {
   "cell_type": "code",
   "execution_count": 77,
   "metadata": {},
   "outputs": [],
   "source": [
    "# replacing discovery dates for any fire which is less than kilometer away and starts earlier than reported fire date\n",
    "nearestfire1.loc[(nearestfire1['LocDate_minus_FireDate'] <=-1) & \n",
    "                 (nearestfire1['DiscoveryDate'].notnull()) & \n",
    "                 (nearestfire1['LocDate_minus_FireDate'] >=-2) & \n",
    "                 (nearestfire1['locationdist'] <1),'FireDate'] = nearestfire1['DiscoveryDate']"
   ]
  },
  {
   "cell_type": "code",
   "execution_count": 78,
   "metadata": {},
   "outputs": [],
   "source": [
    "nearestfire1 = get_duration(nearestfire1)\n",
    "nearestfire1 = nearestfire1.sort_values('locationdist', ascending=True)"
   ]
  },
  {
   "cell_type": "code",
   "execution_count": 79,
   "metadata": {
    "scrolled": false
   },
   "outputs": [],
   "source": [
    "# replacing discovery dates for any fire which is less than 2 kilometer away and \n",
    "# starts earlier than reported fire date, but shares the same name\n",
    "nearestfire1[(nearestfire1['LocDate_minus_FireDate'] <=-1) & \n",
    "             (nearestfire1['DiscoveryDate'].notnull()) & \n",
    "             (nearestfire1['LocDate_minus_FireDate'] >=-2) & \n",
    "             (nearestfire1['locationdist'] <2)]\n",
    "\n",
    "nearestfire1.loc[(nearestfire1['LocDate_minus_FireDate'] <=-1) & \n",
    "             (nearestfire1['DiscoveryDate'].notnull()) & \n",
    "             (nearestfire1['LocDate_minus_FireDate'] >=-2) & \n",
    "             (nearestfire1['locationdist'] <2),'FireDate'] = nearestfire1['DiscoveryDate']\n",
    "\n",
    "nearestfire1 = get_duration(nearestfire1)\n",
    "nearestfire1 = nearestfire1.sort_values('locationdist', ascending=True)"
   ]
  },
  {
   "cell_type": "code",
   "execution_count": 80,
   "metadata": {},
   "outputs": [],
   "source": [
    "# replacing discovery dates for any fire which is less than 3 kilometer away and \n",
    "# starts earlier than reported fire date, but shares the same name\n",
    "nearestfire1[(nearestfire1['LocDate_minus_FireDate'] <=-1) & \n",
    "             (nearestfire1['DiscoveryDate'].notnull()) & \n",
    "             (nearestfire1['LocDate_minus_FireDate'] >=-3) & \n",
    "             (nearestfire1['locationdist'] <=3)]\n",
    "\n",
    "nearestfire1.loc[(nearestfire1['LocDate_minus_FireDate'] <=-1) & \n",
    "             (nearestfire1['DiscoveryDate'].notnull()) & \n",
    "             (nearestfire1['LocDate_minus_FireDate'] >=-3) & \n",
    "             (nearestfire1['locationdist'] <3),'FireDate'] = nearestfire1['DiscoveryDate']\n",
    "\n",
    "nearestfire1 = get_duration(nearestfire1)\n",
    "nearestfire1 = nearestfire1.sort_values('locationdist', ascending=True)"
   ]
  },
  {
   "cell_type": "code",
   "execution_count": 81,
   "metadata": {},
   "outputs": [],
   "source": [
    "# replacing discovery dates for any fire which is less than 10 kilometer away and \n",
    "# starts earlier than reported fire date, but shares the same name and has higher totalacres\n",
    "nearestfire1[(nearestfire1['LocDate_minus_FireDate'] <=-1) & \n",
    "             (nearestfire1['DiscoveryDate'].notnull()) & \n",
    "             (nearestfire1['LocDate_minus_FireDate'] >=-10) & \n",
    "             (nearestfire1['locationdist'] <=3) & \n",
    "             (nearestfire1['TotalAcres']>=50)]\n",
    "\n",
    "nearestfire1.loc[(nearestfire1['LocDate_minus_FireDate'] <=-1) & \n",
    "             (nearestfire1['DiscoveryDate'].notnull()) & \n",
    "             (nearestfire1['LocDate_minus_FireDate'] >=-10) & \n",
    "             (nearestfire1['locationdist'] <=3) & \n",
    "             (nearestfire1['TotalAcres']>=50),'FireDate'] = nearestfire1['DiscoveryDate']\n",
    "\n",
    "nearestfire1 = get_duration(nearestfire1)\n",
    "nearestfire1 = nearestfire1.sort_values('locationdist', ascending=True)"
   ]
  },
  {
   "cell_type": "code",
   "execution_count": 82,
   "metadata": {},
   "outputs": [],
   "source": [
    "# replacing discovery dates for any fire which is less than 10 kilometer away and \n",
    "# starts earlier than reported fire date, but shares the same name and has 1000+ totalacres\n",
    "nearestfire1[(nearestfire1['LocDate_minus_FireDate'] <=-1) & \n",
    "             (nearestfire1['DiscoveryDate'].notnull()) & \n",
    "             (nearestfire1['LocDate_minus_FireDate'] >=-20) & \n",
    "             (nearestfire1['locationdist'] <=3) & \n",
    "             (nearestfire1['TotalAcres']>=1000)]\n",
    "\n",
    "nearestfire1.loc[(nearestfire1['LocDate_minus_FireDate'] <=-1) & \n",
    "             (nearestfire1['DiscoveryDate'].notnull()) & \n",
    "             (nearestfire1['LocDate_minus_FireDate'] >=-20) & \n",
    "             (nearestfire1['locationdist'] <=3) & \n",
    "             (nearestfire1['TotalAcres']>=1000),'FireDate'] = nearestfire1['DiscoveryDate']\n",
    "\n",
    "nearestfire1 = get_duration(nearestfire1)\n",
    "nearestfire1 = nearestfire1.sort_values('locationdist', ascending=True)"
   ]
  },
  {
   "cell_type": "code",
   "execution_count": 83,
   "metadata": {
    "scrolled": false
   },
   "outputs": [
    {
     "data": {
      "text/html": [
       "<div>\n",
       "<style scoped>\n",
       "    .dataframe tbody tr th:only-of-type {\n",
       "        vertical-align: middle;\n",
       "    }\n",
       "\n",
       "    .dataframe tbody tr th {\n",
       "        vertical-align: top;\n",
       "    }\n",
       "\n",
       "    .dataframe thead th {\n",
       "        text-align: right;\n",
       "    }\n",
       "</style>\n",
       "<table border=\"1\" class=\"dataframe\">\n",
       "  <thead>\n",
       "    <tr style=\"text-align: right;\">\n",
       "      <th></th>\n",
       "      <th>ObjectID</th>\n",
       "      <th>UnitID</th>\n",
       "      <th>FireCause</th>\n",
       "      <th>TotalAcres</th>\n",
       "      <th>geometry</th>\n",
       "      <th>FireDate</th>\n",
       "      <th>FireYear</th>\n",
       "      <th>FireMonth</th>\n",
       "      <th>FireDay</th>\n",
       "      <th>Name</th>\n",
       "    </tr>\n",
       "  </thead>\n",
       "  <tbody>\n",
       "  </tbody>\n",
       "</table>\n",
       "</div>"
      ],
      "text/plain": [
       "Empty GeoDataFrame\n",
       "Columns: [ObjectID, UnitID, FireCause, TotalAcres, geometry, FireDate, FireYear, FireMonth, FireDay, Name]\n",
       "Index: []"
      ]
     },
     "execution_count": 83,
     "metadata": {},
     "output_type": "execute_result"
    }
   ],
   "source": [
    "Fires_df1 = nearestfire1[['ObjectID', 'UnitID', 'FireCause', 'TotalAcres', 'geometry', 'FireDate', 'FireYear', \n",
    "                          'FireMonth', 'FireDay', 'Name']]\n",
    "\n",
    "Fires_df1[Fires_df1.duplicated(['geometry'], keep=False)]"
   ]
  },
  {
   "cell_type": "code",
   "execution_count": 84,
   "metadata": {},
   "outputs": [
    {
     "data": {
      "text/plain": [
       "(3670, 10)"
      ]
     },
     "execution_count": 84,
     "metadata": {},
     "output_type": "execute_result"
    }
   ],
   "source": [
    "Fires_df1.shape"
   ]
  },
  {
   "cell_type": "code",
   "execution_count": 85,
   "metadata": {},
   "outputs": [],
   "source": [
    "## get left over fire location data using UniqueIdentifier to later merge into fire data.\n",
    "UniqueFireIdentifier1 = nearestfire1[(nearestfire1['LocDate_minus_FireDate'] <=-10) & \n",
    "                              (nearestfire1['DiscoveryDate'].notnull()) &  \n",
    "                              (nearestfire1['locationdist'] >10)]\n",
    "UniqueFireIdentifier1 = UniqueFireIdentifier1[~UniqueFireIdentifier1.duplicated(['UniqueFireIdentifier'], keep='first')]\n",
    "UniqueFireIdentifier1 = UniqueFireIdentifier1[['UniqueFireIdentifier']]"
   ]
  },
  {
   "cell_type": "markdown",
   "metadata": {},
   "source": [
    "## Analysis of Fire Start Dates using State Fire List"
   ]
  },
  {
   "cell_type": "code",
   "execution_count": 86,
   "metadata": {},
   "outputs": [
    {
     "name": "stdout",
     "output_type": "stream",
     "text": [
      "(3675, 24)\n"
     ]
    }
   ],
   "source": [
    "nearestfire2 = get_data(Fires_df1, 'FireYear', 'FireMonth', 'FireDay', \n",
    "                        FireList, 'CaYear', 'CaMonth', 'CaDay', 'firedist')"
   ]
  },
  {
   "cell_type": "code",
   "execution_count": 87,
   "metadata": {},
   "outputs": [],
   "source": [
    "def get_duration(df):\n",
    "    df['CaDate_minus_FireDate'] = (df[\"CaDate\"] - df[\"FireDate\"]).dt.days\n",
    "    df['Area_diff'] = (df[\"AcresBurned\"] - df[\"TotalAcres\"])\n",
    "    df = df.sort_values('CaDate_minus_FireDate', ascending=True)\n",
    "    \n",
    "    return df"
   ]
  },
  {
   "cell_type": "code",
   "execution_count": 88,
   "metadata": {},
   "outputs": [],
   "source": [
    "nearestfire2 = get_duration(nearestfire2)\n",
    "nearestfire2 = nearestfire2.sort_values('firedist', ascending=True)"
   ]
  },
  {
   "cell_type": "code",
   "execution_count": 89,
   "metadata": {},
   "outputs": [],
   "source": [
    "# dropping duplicates based on earliest discovery date and location distance == 0 for fires bigger than 100 acres\n",
    "nearestfire2 = nearestfire2[~((nearestfire2.index.duplicated(keep='first')) & \n",
    "                             (nearestfire2['CaDate_minus_FireDate']<=0) & \n",
    "                             (nearestfire2['TotalAcres']<100))]"
   ]
  },
  {
   "cell_type": "code",
   "execution_count": 90,
   "metadata": {},
   "outputs": [],
   "source": [
    "nearestfire2 = get_duration(nearestfire2)\n",
    "nearestfire2 = nearestfire2.sort_values('firedist', ascending=True)"
   ]
  },
  {
   "cell_type": "code",
   "execution_count": 91,
   "metadata": {},
   "outputs": [],
   "source": [
    "# dropping it because it is not mapped correctly\n",
    "nearestfire2 = nearestfire2[~((nearestfire2.index.duplicated(keep='first')) & \n",
    "                             (nearestfire2['CaDate_minus_FireDate']>=0) & \n",
    "                             (nearestfire2['TotalAcres']>100))]\n",
    "\n",
    "nearestfire2 = get_duration(nearestfire2)\n",
    "nearestfire2 = nearestfire2.sort_values('firedist', ascending=True)"
   ]
  },
  {
   "cell_type": "code",
   "execution_count": 92,
   "metadata": {},
   "outputs": [
    {
     "data": {
      "text/html": [
       "<div>\n",
       "<style scoped>\n",
       "    .dataframe tbody tr th:only-of-type {\n",
       "        vertical-align: middle;\n",
       "    }\n",
       "\n",
       "    .dataframe tbody tr th {\n",
       "        vertical-align: top;\n",
       "    }\n",
       "\n",
       "    .dataframe thead th {\n",
       "        text-align: right;\n",
       "    }\n",
       "</style>\n",
       "<table border=\"1\" class=\"dataframe\">\n",
       "  <thead>\n",
       "    <tr style=\"text-align: right;\">\n",
       "      <th></th>\n",
       "      <th>ObjectID</th>\n",
       "      <th>UnitID</th>\n",
       "      <th>FireCause</th>\n",
       "      <th>TotalAcres</th>\n",
       "      <th>geometry</th>\n",
       "      <th>FireDate</th>\n",
       "      <th>FireYear</th>\n",
       "      <th>FireMonth</th>\n",
       "      <th>FireDay</th>\n",
       "      <th>Name_left</th>\n",
       "      <th>...</th>\n",
       "      <th>CaDay</th>\n",
       "      <th>ExitDate</th>\n",
       "      <th>AcresBurned</th>\n",
       "      <th>ArchiveYear</th>\n",
       "      <th>Counties</th>\n",
       "      <th>UniqueId</th>\n",
       "      <th>Fire</th>\n",
       "      <th>firedist</th>\n",
       "      <th>CaDate_minus_FireDate</th>\n",
       "      <th>Area_diff</th>\n",
       "    </tr>\n",
       "  </thead>\n",
       "  <tbody>\n",
       "  </tbody>\n",
       "</table>\n",
       "<p>0 rows × 26 columns</p>\n",
       "</div>"
      ],
      "text/plain": [
       "Empty GeoDataFrame\n",
       "Columns: [ObjectID, UnitID, FireCause, TotalAcres, geometry, FireDate, FireYear, FireMonth, FireDay, Name_left, Name_right, Latitude, Longitude, CaDate, CaYear, CaMonth, CaDay, ExitDate, AcresBurned, ArchiveYear, Counties, UniqueId, Fire, firedist, CaDate_minus_FireDate, Area_diff]\n",
       "Index: []\n",
       "\n",
       "[0 rows x 26 columns]"
      ]
     },
     "execution_count": 92,
     "metadata": {},
     "output_type": "execute_result"
    }
   ],
   "source": [
    "nearestfire2[nearestfire2.index.duplicated(keep=False)]"
   ]
  },
  {
   "cell_type": "code",
   "execution_count": 93,
   "metadata": {
    "scrolled": false
   },
   "outputs": [],
   "source": [
    "## No dates that are listed earlier for state fire list. We will use the original fire date.\n",
    "nearestfire2[(nearestfire2['CaDate_minus_FireDate'] >-10) &\n",
    "             (nearestfire2['CaDate_minus_FireDate'] <=-1) &\n",
    "             (nearestfire2['CaDate'].notnull()) & \n",
    "             (nearestfire2['firedist'] <3)].sort_values('CaDate_minus_FireDate', ascending=True)\n",
    "\n",
    "## No dates that are listed earlier for state fire list. We will use the original fire date.\n",
    "nearestfire2.loc[(nearestfire2['CaDate_minus_FireDate'] >-10) & \n",
    "                 (nearestfire2['CaDate_minus_FireDate'] <=-1) & \n",
    "                 (nearestfire2['CaDate'].notnull()) & \n",
    "                 (nearestfire2['firedist'] <3), 'FireDate'] = nearestfire2['CaDate']\n",
    "\n",
    "nearestfire2 = get_duration(nearestfire2)\n",
    "nearestfire2 = nearestfire2.sort_values('firedist', ascending=True)"
   ]
  },
  {
   "cell_type": "code",
   "execution_count": 94,
   "metadata": {},
   "outputs": [],
   "source": [
    "UniqueId =  nearestfire2[(nearestfire2['CaDate_minus_FireDate'] >-20) &\n",
    "                         (nearestfire2['CaDate_minus_FireDate'] <=-1) &\n",
    "                         (nearestfire2['CaDate'].notnull()) & \n",
    "                         (nearestfire2['firedist'] >2)].sort_values('firedist', ascending=True)\n",
    "UniqueId = UniqueId[~UniqueId.duplicated(['UniqueId'], keep='first')]\n",
    "UniqueId = UniqueId[['UniqueId']]"
   ]
  },
  {
   "cell_type": "code",
   "execution_count": 95,
   "metadata": {},
   "outputs": [
    {
     "data": {
      "text/plain": [
       "(3670, 26)"
      ]
     },
     "execution_count": 95,
     "metadata": {},
     "output_type": "execute_result"
    }
   ],
   "source": [
    "nearestfire2.shape"
   ]
  },
  {
   "cell_type": "code",
   "execution_count": 96,
   "metadata": {},
   "outputs": [
    {
     "data": {
      "text/html": [
       "<div>\n",
       "<style scoped>\n",
       "    .dataframe tbody tr th:only-of-type {\n",
       "        vertical-align: middle;\n",
       "    }\n",
       "\n",
       "    .dataframe tbody tr th {\n",
       "        vertical-align: top;\n",
       "    }\n",
       "\n",
       "    .dataframe thead th {\n",
       "        text-align: right;\n",
       "    }\n",
       "</style>\n",
       "<table border=\"1\" class=\"dataframe\">\n",
       "  <thead>\n",
       "    <tr style=\"text-align: right;\">\n",
       "      <th></th>\n",
       "      <th>ObjectID</th>\n",
       "      <th>UnitID</th>\n",
       "      <th>FireCause</th>\n",
       "      <th>TotalAcres</th>\n",
       "      <th>geometry</th>\n",
       "      <th>FireDate</th>\n",
       "      <th>FireYear</th>\n",
       "      <th>FireMonth</th>\n",
       "      <th>FireDay</th>\n",
       "      <th>Name_left</th>\n",
       "    </tr>\n",
       "  </thead>\n",
       "  <tbody>\n",
       "  </tbody>\n",
       "</table>\n",
       "</div>"
      ],
      "text/plain": [
       "Empty GeoDataFrame\n",
       "Columns: [ObjectID, UnitID, FireCause, TotalAcres, geometry, FireDate, FireYear, FireMonth, FireDay, Name_left]\n",
       "Index: []"
      ]
     },
     "execution_count": 96,
     "metadata": {},
     "output_type": "execute_result"
    }
   ],
   "source": [
    "Fires_df2 = nearestfire2[['ObjectID', 'UnitID', 'FireCause', 'TotalAcres', 'geometry', 'FireDate', 'FireYear', \n",
    "                             'FireMonth', 'FireDay', 'Name_left']]\n",
    "\n",
    "Fires_df2[Fires_df2.duplicated(['geometry'], keep=False)]"
   ]
  },
  {
   "cell_type": "code",
   "execution_count": 97,
   "metadata": {},
   "outputs": [],
   "source": [
    "UniqueFireIdentifier1 = UniqueFireIdentifier1['UniqueFireIdentifier'].tolist()\n",
    "UniqueId = UniqueId['UniqueId'].tolist()"
   ]
  },
  {
   "cell_type": "code",
   "execution_count": 98,
   "metadata": {},
   "outputs": [],
   "source": [
    "Fires_df4 = FireList[FireList['UniqueId'].isin(UniqueId)]\n",
    "Fires_df4 = Fires_df4[['geometry','CaDate', 'CaYear', 'CaMonth', 'CaDay', 'AcresBurned', 'Name', 'UniqueId']]"
   ]
  },
  {
   "cell_type": "code",
   "execution_count": 99,
   "metadata": {},
   "outputs": [
    {
     "data": {
      "text/plain": [
       "(334, 8)"
      ]
     },
     "execution_count": 99,
     "metadata": {},
     "output_type": "execute_result"
    }
   ],
   "source": [
    "Fires_df4.shape"
   ]
  },
  {
   "cell_type": "markdown",
   "metadata": {},
   "source": [
    "### What is the Top Cause for Wildfire?"
   ]
  },
  {
   "cell_type": "code",
   "execution_count": 100,
   "metadata": {},
   "outputs": [
    {
     "data": {
      "text/plain": [
       "count    3670.000000\n",
       "mean     2015.915804\n",
       "std         2.875493\n",
       "min      2011.000000\n",
       "25%      2013.000000\n",
       "50%      2016.000000\n",
       "75%      2018.000000\n",
       "max      2020.000000\n",
       "Name: FireYear, dtype: float64"
      ]
     },
     "execution_count": 100,
     "metadata": {},
     "output_type": "execute_result"
    }
   ],
   "source": [
    "Fires_df2['FireYear'].describe()"
   ]
  },
  {
   "cell_type": "code",
   "execution_count": 101,
   "metadata": {},
   "outputs": [],
   "source": [
    "Fires_df2 = Fires_df2[Fires_df2['FireYear'] <=2020]"
   ]
  },
  {
   "cell_type": "code",
   "execution_count": 102,
   "metadata": {},
   "outputs": [],
   "source": [
    "Fires_df2[\"FireCause\"].replace({1: \"Lightning\", 2: \"Equipment Use\", 3:\"Smoking\", \n",
    "                                4:\"Campfire\", 5:\"Debris\", 6:\"Railroad\", 7:\"Arson\", 8:\"Playing with Fire\", \n",
    "                                9:\"Miscellaneous\",10:\"Vehicle\", 11:\"Powerline\", 14:\"Unknown/ Unidentified\", \n",
    "                                15: 'Structure', 16: 'Aircraft', 18: 'Escaped Prescribed Burn', 19: \"Illegal Alien Campfire\"}, inplace=True)"
   ]
  },
  {
   "cell_type": "code",
   "execution_count": 103,
   "metadata": {},
   "outputs": [
    {
     "data": {
      "image/png": "[encoded data removed]",
      "text/plain": [
       "<Figure size 720x432 with 1 Axes>"
      ]
     },
     "metadata": {},
     "output_type": "display_data"
    }
   ],
   "source": [
    "plt.rcParams['figure.figsize'] = [10,6]\n",
    "sns.set(font_scale = 1.3)\n",
    "sns.set_style(\"white\")\n",
    "df2 = Fires_df2[Fires_df2['TotalAcres'] >99]\n",
    "ax = sns.countplot(y=df2['FireCause'],data=df2, palette=\"flare\", \n",
    "                   order=df2['FireCause'].value_counts().index)\n",
    "\n",
    "ax.set_title(\"Cause of Big Wildfires from 2011-2020\",fontsize = 15, loc='left')\n",
    "ax.set_xlabel(\"Count\")\n",
    "ax.set_ylabel(\"Fire Cause\")\n",
    "sns.despine()\n",
    "\n",
    "plt.show()"
   ]
  },
  {
   "cell_type": "code",
   "execution_count": 104,
   "metadata": {},
   "outputs": [],
   "source": [
    "Fires_df2 = Fires_df2.drop(['ObjectID', 'UnitID'], axis = 1)"
   ]
  },
  {
   "cell_type": "code",
   "execution_count": 105,
   "metadata": {},
   "outputs": [],
   "source": [
    "Fires_df2.rename(columns={\"Name_left\":\"Name\"}, inplace=True)\n",
    "Fires_df2['UniqueId'] = \"0B\""
   ]
  },
  {
   "cell_type": "code",
   "execution_count": 106,
   "metadata": {},
   "outputs": [],
   "source": [
    "Fires_df4.rename(columns={\"CaDate\":\"FireDate\", \"CaYear\":\"FireYear\", \n",
    "                          \"CaMonth\":\"FireMonth\", \"CaDay\":\"FireDay\", \"AcresBurned\":\"TotalAcres\"}, inplace=True)"
   ]
  },
  {
   "cell_type": "code",
   "execution_count": 107,
   "metadata": {},
   "outputs": [
    {
     "data": {
      "text/html": [
       "<div>\n",
       "<style scoped>\n",
       "    .dataframe tbody tr th:only-of-type {\n",
       "        vertical-align: middle;\n",
       "    }\n",
       "\n",
       "    .dataframe tbody tr th {\n",
       "        vertical-align: top;\n",
       "    }\n",
       "\n",
       "    .dataframe thead th {\n",
       "        text-align: right;\n",
       "    }\n",
       "</style>\n",
       "<table border=\"1\" class=\"dataframe\">\n",
       "  <thead>\n",
       "    <tr style=\"text-align: right;\">\n",
       "      <th></th>\n",
       "      <th>geometry</th>\n",
       "      <th>FireDate</th>\n",
       "      <th>FireYear</th>\n",
       "      <th>FireMonth</th>\n",
       "      <th>FireDay</th>\n",
       "      <th>TotalAcres</th>\n",
       "      <th>Name</th>\n",
       "      <th>UniqueId</th>\n",
       "    </tr>\n",
       "  </thead>\n",
       "  <tbody>\n",
       "  </tbody>\n",
       "</table>\n",
       "</div>"
      ],
      "text/plain": [
       "Empty GeoDataFrame\n",
       "Columns: [geometry, FireDate, FireYear, FireMonth, FireDay, TotalAcres, Name, UniqueId]\n",
       "Index: []"
      ]
     },
     "execution_count": 107,
     "metadata": {},
     "output_type": "execute_result"
    }
   ],
   "source": [
    "Fires_df4[Fires_df4.duplicated(['geometry'], keep=False)]"
   ]
  },
  {
   "cell_type": "code",
   "execution_count": 108,
   "metadata": {},
   "outputs": [],
   "source": [
    "Fires_df = Fires_df2.append(Fires_df4)"
   ]
  },
  {
   "cell_type": "code",
   "execution_count": 109,
   "metadata": {},
   "outputs": [],
   "source": [
    "Fires_df = Fires_df[~(Fires_df['TotalAcres'] == 0)]"
   ]
  },
  {
   "cell_type": "code",
   "execution_count": 110,
   "metadata": {},
   "outputs": [],
   "source": [
    "Fires_df = Fires_df.sort_index()"
   ]
  },
  {
   "cell_type": "code",
   "execution_count": 111,
   "metadata": {},
   "outputs": [
    {
     "data": {
      "text/plain": [
       "count    3995.000000\n",
       "mean     2015.954693\n",
       "std         2.810346\n",
       "min      2011.000000\n",
       "25%      2013.500000\n",
       "50%      2017.000000\n",
       "75%      2018.000000\n",
       "max      2020.000000\n",
       "Name: FireYear, dtype: float64"
      ]
     },
     "execution_count": 111,
     "metadata": {},
     "output_type": "execute_result"
    }
   ],
   "source": [
    "Fires_df['FireYear'].describe()"
   ]
  },
  {
   "cell_type": "code",
   "execution_count": 112,
   "metadata": {},
   "outputs": [],
   "source": [
    "Fires_df = Fires_df"
   ]
  },
  {
   "cell_type": "code",
   "execution_count": 113,
   "metadata": {},
   "outputs": [
    {
     "data": {
      "text/html": [
       "<div>\n",
       "<style scoped>\n",
       "    .dataframe tbody tr th:only-of-type {\n",
       "        vertical-align: middle;\n",
       "    }\n",
       "\n",
       "    .dataframe tbody tr th {\n",
       "        vertical-align: top;\n",
       "    }\n",
       "\n",
       "    .dataframe thead th {\n",
       "        text-align: right;\n",
       "    }\n",
       "</style>\n",
       "<table border=\"1\" class=\"dataframe\">\n",
       "  <thead>\n",
       "    <tr style=\"text-align: right;\">\n",
       "      <th></th>\n",
       "      <th>TotalAcres</th>\n",
       "    </tr>\n",
       "  </thead>\n",
       "  <tbody>\n",
       "    <tr>\n",
       "      <th>count</th>\n",
       "      <td>3.988000e+03</td>\n",
       "    </tr>\n",
       "    <tr>\n",
       "      <th>mean</th>\n",
       "      <td>2.983130e+03</td>\n",
       "    </tr>\n",
       "    <tr>\n",
       "      <th>std</th>\n",
       "      <td>2.536381e+04</td>\n",
       "    </tr>\n",
       "    <tr>\n",
       "      <th>min</th>\n",
       "      <td>1.356887e-03</td>\n",
       "    </tr>\n",
       "    <tr>\n",
       "      <th>25%</th>\n",
       "      <td>1.060945e+01</td>\n",
       "    </tr>\n",
       "    <tr>\n",
       "      <th>50%</th>\n",
       "      <td>3.700000e+01</td>\n",
       "    </tr>\n",
       "    <tr>\n",
       "      <th>75%</th>\n",
       "      <td>2.032367e+02</td>\n",
       "    </tr>\n",
       "    <tr>\n",
       "      <th>max</th>\n",
       "      <td>1.032699e+06</td>\n",
       "    </tr>\n",
       "  </tbody>\n",
       "</table>\n",
       "</div>"
      ],
      "text/plain": [
       "         TotalAcres\n",
       "count  3.988000e+03\n",
       "mean   2.983130e+03\n",
       "std    2.536381e+04\n",
       "min    1.356887e-03\n",
       "25%    1.060945e+01\n",
       "50%    3.700000e+01\n",
       "75%    2.032367e+02\n",
       "max    1.032699e+06"
      ]
     },
     "execution_count": 113,
     "metadata": {},
     "output_type": "execute_result"
    }
   ],
   "source": [
    "Fires_df[['TotalAcres']].describe()"
   ]
  },
  {
   "cell_type": "markdown",
   "metadata": {},
   "source": [
    "#### Check for duplicates by Name"
   ]
  },
  {
   "cell_type": "code",
   "execution_count": 114,
   "metadata": {},
   "outputs": [],
   "source": [
    "import string\n",
    "import re\n",
    "\n",
    "def text_w_punc(text):\n",
    "    pattern = r'[^A-Za-z ]'\n",
    "    if re.search(\"[^0-9]\", text):\n",
    "        pass\n",
    "    else:\n",
    "        regex = re.compile(pattern)\n",
    "        text = regex.sub(' ', text)\n",
    "    return text\n",
    "\n",
    "def no_whitespace(string):\n",
    "    string = string.replace('fire','')\n",
    "    return string.strip()\n",
    "\n",
    "def string_lower(df, col):\n",
    "    # converting all text to lowercase\n",
    "    df[col] = df[col].str.lower()      \n",
    "    return df"
   ]
  },
  {
   "cell_type": "code",
   "execution_count": 115,
   "metadata": {},
   "outputs": [],
   "source": [
    "Fires_df['Name'] = Fires_df['Name'].astype(str)\n",
    "Fires_df['Name'] = Fires_df['Name'].apply(no_whitespace)\n",
    "Fires_df['Name'] = Fires_df['Name'].apply(lambda x: \"\".join([i for i in x if i not in string.punctuation]))\n",
    "Fires_df['Name'] = Fires_df['Name'].apply(lambda x: text_w_punc(x))\n",
    "Fires_df = string_lower(Fires_df, \"Name\")\n",
    "Fires_df['Name'] = Fires_df['Name'].apply(no_whitespace)"
   ]
  },
  {
   "cell_type": "code",
   "execution_count": 116,
   "metadata": {},
   "outputs": [
    {
     "data": {
      "text/plain": [
       "(3995, 9)"
      ]
     },
     "execution_count": 116,
     "metadata": {},
     "output_type": "execute_result"
    }
   ],
   "source": [
    "Fires_df.shape"
   ]
  },
  {
   "cell_type": "code",
   "execution_count": 117,
   "metadata": {},
   "outputs": [
    {
     "name": "stdout",
     "output_type": "stream",
     "text": [
      "(415, 9)\n",
      "(3580, 9)\n"
     ]
    }
   ],
   "source": [
    "f = Fires_df[(Fires_df.duplicated(['Name', 'FireDate'], keep=False)) & \n",
    "             (Fires_df['Name']!=\"\")].sort_values(['Name','FireDate', 'TotalAcres'], ascending=False)\n",
    "print(f.shape)\n",
    "\n",
    "Fires_df = Fires_df[~((Fires_df.duplicated(['Name', 'FireDate'], keep=False)) & \n",
    "                      (Fires_df['Name']!=\"\"))]\n",
    "print(Fires_df.shape)"
   ]
  },
  {
   "cell_type": "code",
   "execution_count": 118,
   "metadata": {},
   "outputs": [],
   "source": [
    "multipolygon =f[f['UniqueId']==\"0B\"]\n",
    "f = f[~(f['UniqueId']==\"0B\")]"
   ]
  },
  {
   "cell_type": "code",
   "execution_count": 119,
   "metadata": {},
   "outputs": [],
   "source": [
    "Fires_df = Fires_df.append(multipolygon)"
   ]
  },
  {
   "cell_type": "code",
   "execution_count": 120,
   "metadata": {},
   "outputs": [
    {
     "data": {
      "text/plain": [
       "(3803, 9)"
      ]
     },
     "execution_count": 120,
     "metadata": {},
     "output_type": "execute_result"
    }
   ],
   "source": [
    "Fires_df.shape"
   ]
  },
  {
   "cell_type": "code",
   "execution_count": 121,
   "metadata": {},
   "outputs": [
    {
     "data": {
      "text/html": [
       "<div>\n",
       "<style scoped>\n",
       "    .dataframe tbody tr th:only-of-type {\n",
       "        vertical-align: middle;\n",
       "    }\n",
       "\n",
       "    .dataframe tbody tr th {\n",
       "        vertical-align: top;\n",
       "    }\n",
       "\n",
       "    .dataframe thead th {\n",
       "        text-align: right;\n",
       "    }\n",
       "</style>\n",
       "<table border=\"1\" class=\"dataframe\">\n",
       "  <thead>\n",
       "    <tr style=\"text-align: right;\">\n",
       "      <th></th>\n",
       "      <th>FireCause</th>\n",
       "      <th>TotalAcres</th>\n",
       "      <th>geometry</th>\n",
       "      <th>FireDate</th>\n",
       "      <th>FireYear</th>\n",
       "      <th>FireMonth</th>\n",
       "      <th>FireDay</th>\n",
       "      <th>Name</th>\n",
       "      <th>UniqueId</th>\n",
       "    </tr>\n",
       "  </thead>\n",
       "  <tbody>\n",
       "  </tbody>\n",
       "</table>\n",
       "</div>"
      ],
      "text/plain": [
       "Empty GeoDataFrame\n",
       "Columns: [FireCause, TotalAcres, geometry, FireDate, FireYear, FireMonth, FireDay, Name, UniqueId]\n",
       "Index: []"
      ]
     },
     "execution_count": 121,
     "metadata": {},
     "output_type": "execute_result"
    }
   ],
   "source": [
    "Fires_df[Fires_df.duplicated(['geometry'], keep=False)]"
   ]
  },
  {
   "cell_type": "markdown",
   "metadata": {},
   "source": [
    "### What fire class is more common?"
   ]
  },
  {
   "cell_type": "code",
   "execution_count": 122,
   "metadata": {},
   "outputs": [],
   "source": [
    "## Fire Class Binning\n",
    "# A=greater than 0 but less than or equal to 0.25 acres\n",
    "# B=0.26-9.9 acres, C=10.0-99.9 acres, D=100-299 acres\n",
    "# E=300 to 999 acres, F=1000 to 4999 acres, and G=5000+ acres)\n",
    "\n",
    "#binning method for confidence of fire.\n",
    "bins = [0,.25,9.9,99.9,299,999,4999,1032699.0]\n",
    "labels = ['A', 'B','C', 'D', 'E', 'F', 'G']\n",
    "Fires_df['FireSize'] = pd.cut(Fires_df['TotalAcres'], bins=bins, labels=labels)\n",
    "Fires_df['FireSize']= Fires_df['FireSize'].fillna('A')"
   ]
  },
  {
   "cell_type": "code",
   "execution_count": 123,
   "metadata": {},
   "outputs": [
    {
     "data": {
      "image/png": "[encoded data removed]",
      "text/plain": [
       "<Figure size 720x432 with 1 Axes>"
      ]
     },
     "metadata": {},
     "output_type": "display_data"
    }
   ],
   "source": [
    "## Fire Class Binning\n",
    "# A=greater than 0 but less than or equal to 0.25 acres\n",
    "# B=0.26-9.9 acres, C=10.0-99.9 acres, D=100-299 acres\n",
    "# E=300 to 999 acres, F=1000 to 4999 acres, and G=5000+ acres)\n",
    "\n",
    "plt.rcParams['figure.figsize'] = [10,6]\n",
    "colors = [\"#FF800D\", \"#E8540C\",\"#FF3000\", \"#C5140C\", \"#7A3000\", \"#6E1818\", \"#3B0D0D\"]\n",
    "sns.set_palette(sns.color_palette(colors))\n",
    "sns.set(font_scale = 1.3)\n",
    "sns.set_style(\"white\")\n",
    "\n",
    "\n",
    "ax = sns.countplot(x=Fires_df['FireSize'],data=Fires_df, palette=sns.color_palette(colors), \n",
    "                   order=Fires_df['FireSize'].value_counts().index)\n",
    "\n",
    "ax.set_title(\"Number of Wildfires by Sizes from 2011-2020\",fontsize = 15, loc='left')\n",
    "ax.set_xlabel(\"Fire Class\")\n",
    "ax.set_ylabel(\"Count\")\n",
    "sns.despine()\n",
    "\n",
    "plt.show()"
   ]
  },
  {
   "cell_type": "code",
   "execution_count": 124,
   "metadata": {},
   "outputs": [],
   "source": [
    "import textwrap\n",
    "def wrap_labels(ax, width, break_long_words=False):\n",
    "    labels = []\n",
    "    for label in ax.get_xticklabels():\n",
    "        text = label.get_text()\n",
    "        labels.append(textwrap.fill(text, width=width,\n",
    "                      break_long_words=break_long_words))\n",
    "    ax.set_xticklabels(labels, rotation=0)\n",
    "\n",
    "def plot_cause(df, title):\n",
    "    \n",
    "    \n",
    "    plt.rcParams['figure.figsize'] = [10,6]\n",
    "    sns.set(font_scale = 1.3)\n",
    "    sns.set_style(\"white\")\n",
    "    \n",
    "    ax = sns.countplot(x=df['FireCause'],data=df, palette=\"flare\",\n",
    "                       order=df['FireCause'].value_counts().iloc[:5].index)\n",
    "    ax.set_title(title,fontsize = 15, loc='left')\n",
    "    ax.set_xticklabels(ax.get_xticklabels(), rotation=90)\n",
    "    #ax.tick_params(axis='x', labelrotation=90)\n",
    "    wrap_labels(ax, 5)\n",
    "    ax.figure\n",
    "    ax.set_xlabel(\"Fire Cause\")\n",
    "    ax.set_ylabel(\"Count\")\n",
    "    sns.despine()\n",
    "\n",
    "    plt.show()"
   ]
  },
  {
   "cell_type": "markdown",
   "metadata": {},
   "source": [
    "### What are the Top Causes for Small Wildfires (less than 300 Acres)?"
   ]
  },
  {
   "cell_type": "code",
   "execution_count": 125,
   "metadata": {},
   "outputs": [
    {
     "data": {
      "image/png": "[encoded data removed]",
      "text/plain": [
       "<Figure size 720x432 with 1 Axes>"
      ]
     },
     "metadata": {},
     "output_type": "display_data"
    }
   ],
   "source": [
    "df = Fires_df[(Fires_df['TotalAcres'] <300)]\n",
    "plot_cause(df, \"Top Causes for Fires Less than 300 Acres\")"
   ]
  },
  {
   "cell_type": "code",
   "execution_count": 126,
   "metadata": {},
   "outputs": [
    {
     "name": "stdout",
     "output_type": "stream",
     "text": [
      "Number of Small fires: 3017\n"
     ]
    }
   ],
   "source": [
    "print(\"Number of Small fires: {}\".format(df.shape[0]))"
   ]
  },
  {
   "cell_type": "markdown",
   "metadata": {},
   "source": [
    "### What are the Top Causes for Large Wildfires (greater than or 300 Acres)?"
   ]
  },
  {
   "cell_type": "code",
   "execution_count": 127,
   "metadata": {},
   "outputs": [
    {
     "data": {
      "image/png": "[encoded data removed]",
      "text/plain": [
       "<Figure size 720x432 with 1 Axes>"
      ]
     },
     "metadata": {},
     "output_type": "display_data"
    }
   ],
   "source": [
    "df = Fires_df[(Fires_df['TotalAcres'] >=300)]\n",
    "plot_cause(df, \"Top Causes for Fires More than 300 Acres\")"
   ]
  },
  {
   "cell_type": "code",
   "execution_count": 128,
   "metadata": {},
   "outputs": [
    {
     "name": "stdout",
     "output_type": "stream",
     "text": [
      "Number of Large fires: 779\n"
     ]
    }
   ],
   "source": [
    "print(\"Number of Large fires: {}\".format(df.shape[0]))"
   ]
  },
  {
   "cell_type": "code",
   "execution_count": 129,
   "metadata": {},
   "outputs": [
    {
     "name": "stdout",
     "output_type": "stream",
     "text": [
      "There are 3803 rows and 10 columns\n",
      "FireCause             object\n",
      "TotalAcres           float64\n",
      "geometry            geometry\n",
      "FireDate      datetime64[ns]\n",
      "FireYear             float64\n",
      "FireMonth            float64\n",
      "FireDay              float64\n",
      "Name                  object\n",
      "UniqueId              object\n",
      "FireSize            category\n",
      "dtype: object\n",
      "['TotalAcres' 'FireYear' 'FireMonth' 'FireDay']\n",
      "['FireCause' 'geometry' 'FireDate' 'Name' 'UniqueId' 'FireSize']\n"
     ]
    }
   ],
   "source": [
    "Datatype(Fires_df)"
   ]
  },
  {
   "cell_type": "code",
   "execution_count": 130,
   "metadata": {},
   "outputs": [
    {
     "data": {
      "text/html": [
       "<div>\n",
       "<style scoped>\n",
       "    .dataframe tbody tr th:only-of-type {\n",
       "        vertical-align: middle;\n",
       "    }\n",
       "\n",
       "    .dataframe tbody tr th {\n",
       "        vertical-align: top;\n",
       "    }\n",
       "\n",
       "    .dataframe thead th {\n",
       "        text-align: right;\n",
       "    }\n",
       "</style>\n",
       "<table border=\"1\" class=\"dataframe\">\n",
       "  <thead>\n",
       "    <tr style=\"text-align: right;\">\n",
       "      <th></th>\n",
       "      <th>FireCause</th>\n",
       "      <th>TotalAcres</th>\n",
       "      <th>geometry</th>\n",
       "      <th>FireDate</th>\n",
       "      <th>FireYear</th>\n",
       "      <th>FireMonth</th>\n",
       "      <th>FireDay</th>\n",
       "      <th>Name</th>\n",
       "      <th>UniqueId</th>\n",
       "      <th>FireSize</th>\n",
       "    </tr>\n",
       "  </thead>\n",
       "  <tbody>\n",
       "  </tbody>\n",
       "</table>\n",
       "</div>"
      ],
      "text/plain": [
       "Empty GeoDataFrame\n",
       "Columns: [FireCause, TotalAcres, geometry, FireDate, FireYear, FireMonth, FireDay, Name, UniqueId, FireSize]\n",
       "Index: []"
      ]
     },
     "execution_count": 130,
     "metadata": {},
     "output_type": "execute_result"
    }
   ],
   "source": [
    "geo_fires_df = Fires_df\n",
    "geo_fires_df[geo_fires_df.duplicated(['geometry'], keep=False)]"
   ]
  },
  {
   "cell_type": "markdown",
   "metadata": {},
   "source": [
    "### 2017 had the highest number of wildfire"
   ]
  },
  {
   "cell_type": "code",
   "execution_count": 131,
   "metadata": {},
   "outputs": [
    {
     "data": {
      "image/png": "[encoded data removed]",
      "text/plain": [
       "<Figure size 720x432 with 1 Axes>"
      ]
     },
     "metadata": {},
     "output_type": "display_data"
    }
   ],
   "source": [
    "#ca_fires_df = ca_fires_df[ca_fires_df[\"ReportedAcres\"] >= .25]\n",
    "\n",
    "fire_count = pd.DataFrame(geo_fires_df['FireYear'].value_counts(sort=False))\n",
    "\n",
    "plt.rcParams['figure.figsize'] = [10,6]\n",
    "ax = sns.lineplot(data=fire_count, x=fire_count.index, y=\"FireYear\", color=\"#FF3000\", linewidth = 2)\n",
    "\n",
    "\n",
    "ax.set_title(\"Total Fires in California (2011-2020)\",fontsize = 15,loc='left')\n",
    "ax.set_xlabel(\"Year\")\n",
    "ax.set_ylabel(\"Count\")\n",
    "sns.despine()\n",
    "plt.show()\n"
   ]
  },
  {
   "cell_type": "markdown",
   "metadata": {},
   "source": [
    "### Which Month had the highest fire counts over time?"
   ]
  },
  {
   "cell_type": "code",
   "execution_count": 132,
   "metadata": {},
   "outputs": [
    {
     "data": {
      "image/png": "[encoded data removed]",
      "text/plain": [
       "<Figure size 720x432 with 1 Axes>"
      ]
     },
     "metadata": {},
     "output_type": "display_data"
    }
   ],
   "source": [
    "sns.set(font_scale = 1.3)\n",
    "sns.set_style(\"white\")\n",
    "df1 = geo_fires_df.replace({'FireMonth' : {1: 'Jan', 2 : 'Feb', 3 : 'Mar', 4: 'Apr', \n",
    "                                          5: 'May', 6: 'Jun', 7: 'Jul', 8: 'Aug', \n",
    "                                          9: 'Sep', 10: 'Oct', 11: 'Nov', 12: 'Dec'}})\n",
    "ax = sns.countplot(df1['FireMonth'],data=df1, color=\"#FF3000\", \n",
    "                   order=df1['FireMonth'].value_counts().index)\n",
    "\n",
    "ax.set_title(\"Total Fires for Each Month (2011-2020)\",fontsize = 15, loc='left')\n",
    "ax.set_xlabel(\"Month\")\n",
    "ax.set_ylabel(\"Count\")\n",
    "sns.despine()\n",
    "\n",
    "plt.show()"
   ]
  },
  {
   "cell_type": "code",
   "execution_count": 133,
   "metadata": {},
   "outputs": [],
   "source": [
    "plot_gf1 = geo_fires_df.to_crs({'init': \"EPSG:4326\"})"
   ]
  },
  {
   "cell_type": "markdown",
   "metadata": {},
   "source": [
    "### What area of California is more wildfire prone area?"
   ]
  },
  {
   "cell_type": "code",
   "execution_count": 134,
   "metadata": {},
   "outputs": [
    {
     "data": {
      "text/plain": [
       "<AxesSubplot:>"
      ]
     },
     "execution_count": 134,
     "metadata": {},
     "output_type": "execute_result"
    },
    {
     "data": {
      "image/png": "[encoded data removed]",
      "text/plain": [
       "<Figure size 720x720 with 1 Axes>"
      ]
     },
     "metadata": {},
     "output_type": "display_data"
    }
   ],
   "source": [
    "fig, ax = plt.subplots(figsize = (10,10))\n",
    "fig.suptitle('Mapped California Fire Data (2010-2020)', fontsize=15)\n",
    "plt.xticks([-124, -122, -120, -118, -116, -114])\n",
    "\n",
    "USA[USA.STATEFP == '06'].plot(ax = ax, edgecolor=\"darkgrey\", facecolor='lightgrey')\n",
    "plot_gf1.plot(ax=ax, color=\"#FF3000\")"
   ]
  },
  {
   "cell_type": "code",
   "execution_count": 135,
   "metadata": {},
   "outputs": [
    {
     "data": {
      "text/plain": [
       "<Derived Projected CRS: EPSG:3310>\n",
       "Name: NAD83 / California Albers\n",
       "Axis Info [cartesian]:\n",
       "- E[east]: Easting (metre)\n",
       "- N[north]: Northing (metre)\n",
       "Area of Use:\n",
       "- name: United States (USA) - California.\n",
       "- bounds: (-124.45, 32.53, -114.12, 42.01)\n",
       "Coordinate Operation:\n",
       "- name: California Albers\n",
       "- method: Albers Equal Area\n",
       "Datum: North American Datum 1983\n",
       "- Ellipsoid: GRS 1980\n",
       "- Prime Meridian: Greenwich"
      ]
     },
     "execution_count": 135,
     "metadata": {},
     "output_type": "execute_result"
    }
   ],
   "source": [
    "geo_fires_df.crs"
   ]
  },
  {
   "cell_type": "code",
   "execution_count": 136,
   "metadata": {},
   "outputs": [],
   "source": [
    "def add(date, num):\n",
    "    end_date = date + dt.timedelta(days=num)\n",
    "    return end_date\n",
    "\n",
    "def substract(date, num):\n",
    "    end_date = date - dt.timedelta(days=num)\n",
    "    return end_date"
   ]
  },
  {
   "cell_type": "code",
   "execution_count": 137,
   "metadata": {},
   "outputs": [],
   "source": [
    "Dates = geo_fires_df[['FireDate']]\n",
    "Dates = Dates.drop_duplicates()"
   ]
  },
  {
   "cell_type": "code",
   "execution_count": 138,
   "metadata": {},
   "outputs": [],
   "source": [
    "Dates = Dates['FireDate'].tolist()"
   ]
  },
  {
   "cell_type": "code",
   "execution_count": 139,
   "metadata": {},
   "outputs": [],
   "source": [
    "years = list(range(2010, 2021))\n",
    "months = list(range(1, 13))\n",
    "days = list(range(1, 32))"
   ]
  },
  {
   "cell_type": "code",
   "execution_count": 140,
   "metadata": {},
   "outputs": [],
   "source": [
    "fires_copy = geo_fires_df"
   ]
  },
  {
   "cell_type": "code",
   "execution_count": 142,
   "metadata": {},
   "outputs": [
    {
     "data": {
      "text/plain": [
       "(3803, 10)"
      ]
     },
     "execution_count": 142,
     "metadata": {},
     "output_type": "execute_result"
    }
   ],
   "source": [
    "fires_copy.shape"
   ]
  },
  {
   "cell_type": "code",
   "execution_count": null,
   "metadata": {},
   "outputs": [],
   "source": []
  }
 ],
 "metadata": {
  "kernelspec": {
   "display_name": "Python 3",
   "language": "python",
   "name": "python3"
  },
  "language_info": {
   "codemirror_mode": {
    "name": "ipython",
    "version": 3
   },
   "file_extension": ".py",
   "mimetype": "text/x-python",
   "name": "python",
   "nbconvert_exporter": "python",
   "pygments_lexer": "ipython3",
   "version": "3.6.13"
  }
 },
 "nbformat": 4,
 "nbformat_minor": 4
}
