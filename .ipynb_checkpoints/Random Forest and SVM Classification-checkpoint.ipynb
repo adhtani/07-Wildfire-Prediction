{
 "cells": [
  {
   "cell_type": "markdown",
   "metadata": {},
   "source": [
    "# Classification Modeling Random Forest and SVM"
   ]
  },
  {
   "cell_type": "code",
   "execution_count": 1,
   "metadata": {},
   "outputs": [
    {
     "name": "stderr",
     "output_type": "stream",
     "text": [
      "Using TensorFlow backend.\n"
     ]
    }
   ],
   "source": [
    "import datetime as dt\n",
    "from pathlib import Path\n",
    "import math\n",
    "import os\n",
    "import json\n",
    "\n",
    "import pandas as pd\n",
    "import numpy as np\n",
    "import seaborn as sns\n",
    "import matplotlib.pyplot as plt\n",
    "%matplotlib inline \n",
    "\n",
    "from sklearn.model_selection import train_test_split\n",
    "\n",
    "\n",
    "from sklearn import svm\n",
    "from sklearn.svm import SVC\n",
    "from sklearn.ensemble import RandomForestClassifier\n",
    "from sklearn.naive_bayes import GaussianNB\n",
    "from sklearn.metrics import accuracy_score, classification_report, confusion_matrix, precision_score, recall_score\n",
    "\n",
    "from sklearn.feature_selection import SelectKBest\n",
    "from sklearn.feature_selection import chi2, f_classif, mutual_info_classif\n",
    "from functools import partial\n",
    "\n",
    "from sklearn.model_selection import cross_val_score\n",
    "from sklearn.model_selection import RepeatedKFold\n",
    "from sklearn.metrics import mean_absolute_error, mean_squared_error, r2_score\n",
    "from scipy import stats\n",
    "from sklearn.preprocessing import StandardScaler\n",
    "\n",
    "# Import Keras\n",
    "from keras.models import Sequential\n",
    "from keras.layers import Dense, LSTM, BatchNormalization\n",
    "from keras.optimizers import Adam\n",
    "from keras.callbacks import ReduceLROnPlateau, EarlyStopping\n",
    "from keras.regularizers import l2\n",
    "from time import time\n",
    "import pickle\n",
    "\n",
    "import warnings\n",
    "warnings.filterwarnings('ignore')"
   ]
  },
  {
   "cell_type": "code",
   "execution_count": 2,
   "metadata": {},
   "outputs": [
    {
     "data": {
      "text/html": [
       "<div>\n",
       "<style scoped>\n",
       "    .dataframe tbody tr th:only-of-type {\n",
       "        vertical-align: middle;\n",
       "    }\n",
       "\n",
       "    .dataframe tbody tr th {\n",
       "        vertical-align: top;\n",
       "    }\n",
       "\n",
       "    .dataframe thead th {\n",
       "        text-align: right;\n",
       "    }\n",
       "</style>\n",
       "<table border=\"1\" class=\"dataframe\">\n",
       "  <thead>\n",
       "    <tr style=\"text-align: right;\">\n",
       "      <th></th>\n",
       "      <th>NasaLatitude</th>\n",
       "      <th>NasaLongitude</th>\n",
       "      <th>Brightness</th>\n",
       "      <th>Scan</th>\n",
       "      <th>Track</th>\n",
       "      <th>ActiveDate</th>\n",
       "      <th>Confidence</th>\n",
       "      <th>BrightT31</th>\n",
       "      <th>Frp</th>\n",
       "      <th>DayNight</th>\n",
       "      <th>...</th>\n",
       "      <th>SQ2</th>\n",
       "      <th>SQ3</th>\n",
       "      <th>SQ4</th>\n",
       "      <th>Drought_dist</th>\n",
       "      <th>FireCause</th>\n",
       "      <th>TotalAcres</th>\n",
       "      <th>FireDay</th>\n",
       "      <th>FireSize</th>\n",
       "      <th>fire_dist</th>\n",
       "      <th>Target</th>\n",
       "    </tr>\n",
       "  </thead>\n",
       "  <tbody>\n",
       "    <tr>\n",
       "      <th>0</th>\n",
       "      <td>36.8878</td>\n",
       "      <td>-118.2121</td>\n",
       "      <td>315.9</td>\n",
       "      <td>1.3</td>\n",
       "      <td>1.1</td>\n",
       "      <td>2011-03-02</td>\n",
       "      <td>74</td>\n",
       "      <td>280.6</td>\n",
       "      <td>22.2</td>\n",
       "      <td>1</td>\n",
       "      <td>...</td>\n",
       "      <td>1</td>\n",
       "      <td>1</td>\n",
       "      <td>1</td>\n",
       "      <td>201.810651</td>\n",
       "      <td>Escaped Prescribed Burn</td>\n",
       "      <td>908.44952</td>\n",
       "      <td>2.0</td>\n",
       "      <td>E</td>\n",
       "      <td>0.000000</td>\n",
       "      <td>1</td>\n",
       "    </tr>\n",
       "    <tr>\n",
       "      <th>1</th>\n",
       "      <td>36.8816</td>\n",
       "      <td>-118.2201</td>\n",
       "      <td>305.3</td>\n",
       "      <td>1.5</td>\n",
       "      <td>1.2</td>\n",
       "      <td>2011-03-02</td>\n",
       "      <td>50</td>\n",
       "      <td>291.6</td>\n",
       "      <td>6.2</td>\n",
       "      <td>1</td>\n",
       "      <td>...</td>\n",
       "      <td>1</td>\n",
       "      <td>1</td>\n",
       "      <td>1</td>\n",
       "      <td>201.693111</td>\n",
       "      <td>Escaped Prescribed Burn</td>\n",
       "      <td>908.44952</td>\n",
       "      <td>2.0</td>\n",
       "      <td>E</td>\n",
       "      <td>0.867453</td>\n",
       "      <td>1</td>\n",
       "    </tr>\n",
       "  </tbody>\n",
       "</table>\n",
       "<p>2 rows × 58 columns</p>\n",
       "</div>"
      ],
      "text/plain": [
       "   NasaLatitude  NasaLongitude  Brightness  Scan  Track  ActiveDate  \\\n",
       "0       36.8878      -118.2121       315.9   1.3    1.1  2011-03-02   \n",
       "1       36.8816      -118.2201       305.3   1.5    1.2  2011-03-02   \n",
       "\n",
       "   Confidence  BrightT31   Frp  DayNight  ...  SQ2  SQ3  SQ4  Drought_dist  \\\n",
       "0          74      280.6  22.2         1  ...    1    1    1    201.810651   \n",
       "1          50      291.6   6.2         1  ...    1    1    1    201.693111   \n",
       "\n",
       "                 FireCause TotalAcres  FireDay  FireSize  fire_dist  Target  \n",
       "0  Escaped Prescribed Burn  908.44952      2.0         E   0.000000       1  \n",
       "1  Escaped Prescribed Burn  908.44952      2.0         E   0.867453       1  \n",
       "\n",
       "[2 rows x 58 columns]"
      ]
     },
     "execution_count": 2,
     "metadata": {},
     "output_type": "execute_result"
    }
   ],
   "source": [
    "fires_data = pd.read_csv(\"Data/clean_dataset_preliminary.csv\")\n",
    "fires_data.drop(columns=fires_data.columns[0], axis=1, inplace=True)\n",
    "fires_data.head(2)"
   ]
  },
  {
   "cell_type": "code",
   "execution_count": 4,
   "metadata": {},
   "outputs": [
    {
     "data": {
      "text/plain": [
       "(114599, 42)"
      ]
     },
     "execution_count": 4,
     "metadata": {},
     "output_type": "execute_result"
    }
   ],
   "source": [
    "features = fires_data.drop(['ActiveYear', 'ActiveMonth', 'ActiveDay','Station_dist', 'FireCause',\n",
    "                           'lat','lon','Drought_dist', 'FireDay', 'fire_dist', 'Target',\n",
    "                           'ActiveDate', 'ConfidenceBinned', 'geometry', 'FireSize', 'TotalAcres'], axis = 1)\n",
    "features.shape"
   ]
  },
  {
   "cell_type": "code",
   "execution_count": 5,
   "metadata": {},
   "outputs": [
    {
     "data": {
      "text/plain": [
       "(114599,)"
      ]
     },
     "execution_count": 5,
     "metadata": {},
     "output_type": "execute_result"
    }
   ],
   "source": [
    "target = fires_data['Target']\n",
    "target.shape"
   ]
  },
  {
   "cell_type": "code",
   "execution_count": 6,
   "metadata": {},
   "outputs": [],
   "source": [
    "# Checking data type\n",
    "def Datatype(df):\n",
    "    # shape and data types of the data\n",
    "    print(\"There are {} rows and {} columns\".format(df.shape[0], df.shape[1]))\n",
    "    print(df.dtypes)\n",
    "\n",
    "    # select numeric columns\n",
    "    df_numeric = df.select_dtypes(include=[np.number])\n",
    "    numeric_cols = df_numeric.columns.values\n",
    "    print(numeric_cols)\n",
    "\n",
    "    # select non numeric columns\n",
    "    df_non_numeric = df.select_dtypes(exclude=[np.number])\n",
    "    non_numeric_cols = df_non_numeric.columns.values\n",
    "    print(non_numeric_cols)"
   ]
  },
  {
   "cell_type": "code",
   "execution_count": 7,
   "metadata": {},
   "outputs": [
    {
     "name": "stdout",
     "output_type": "stream",
     "text": [
      "['Track', 'Avg_Temp', 'elevation', 'slope2', 'slope3', 'slope6', 'slope8', 'aspectN', 'aspectE', 'aspectS', 'aspectW', 'NVG_LAND', 'FOR_LAND', 'CULTRF_LAND', 'CULTIR_LAND', 'SQ2', 'SQ3']\n"
     ]
    }
   ],
   "source": [
    "cor_matrix = features.corr().abs()\n",
    "upper_tri = cor_matrix.where(np.triu(np.ones(cor_matrix.shape),k=1).astype(np.bool))\n",
    "\n",
    "to_drop = [column for column in upper_tri.columns if any(upper_tri[column] > 0.74)]\n",
    "print(to_drop)"
   ]
  },
  {
   "cell_type": "code",
   "execution_count": 8,
   "metadata": {},
   "outputs": [],
   "source": [
    "features = features.drop(to_drop, axis = 1)"
   ]
  },
  {
   "cell_type": "code",
   "execution_count": 10,
   "metadata": {},
   "outputs": [
    {
     "name": "stdout",
     "output_type": "stream",
     "text": [
      "There are 114599 rows and 25 columns\n",
      "NasaLatitude     float64\n",
      "NasaLongitude    float64\n",
      "Brightness       float64\n",
      "Scan             float64\n",
      "Confidence         int64\n",
      "BrightT31        float64\n",
      "Frp              float64\n",
      "DayNight           int64\n",
      "HotSpotType      float64\n",
      "Elevation        float64\n",
      "Precip           float64\n",
      "Max_Temp         float64\n",
      "Min_Temp         float64\n",
      "PRECTOT          float64\n",
      "PS               float64\n",
      "T2M_RANGE        float64\n",
      "TS               float64\n",
      "WS10M            float64\n",
      "WS10M_RANGE      float64\n",
      "slope1           float64\n",
      "slope4           float64\n",
      "WAT_LAND         float64\n",
      "URB_LAND         float64\n",
      "GRS_LAND         float64\n",
      "SQ4                int64\n",
      "dtype: object\n",
      "['NasaLatitude' 'NasaLongitude' 'Brightness' 'Scan' 'Confidence'\n",
      " 'BrightT31' 'Frp' 'DayNight' 'HotSpotType' 'Elevation' 'Precip'\n",
      " 'Max_Temp' 'Min_Temp' 'PRECTOT' 'PS' 'T2M_RANGE' 'TS' 'WS10M'\n",
      " 'WS10M_RANGE' 'slope1' 'slope4' 'WAT_LAND' 'URB_LAND' 'GRS_LAND' 'SQ4']\n",
      "[]\n"
     ]
    }
   ],
   "source": [
    "Datatype(features)"
   ]
  },
  {
   "cell_type": "markdown",
   "metadata": {},
   "source": [
    "### Preliminary Modeling"
   ]
  },
  {
   "cell_type": "code",
   "execution_count": 11,
   "metadata": {},
   "outputs": [],
   "source": [
    "def results(classifier, x_train, y_train, x_test, y_test):\n",
    "    \n",
    "    model = classifier.fit(x_train, y_train)\n",
    "    \n",
    "    y_pred = classifier.predict(x_test)\n",
    "    \n",
    "    #Checking the accuracy\n",
    "    accuracy = round(accuracy_score(y_test, y_pred)*100,2)\n",
    "    print(\"Accuracy score: {}{}\".format(round(accuracy, 2), '%'))\n",
    "    \n",
    "    cv_accuracy_score = cross_val_score(model, x_test, y_test, cv=5, scoring=\"accuracy\").mean()\n",
    "    print(\"Cross validation Accuracy score: {}{}\".format(round(cv_accuracy_score*100, 2), \"%\"))\n",
    "\n",
    "    cv_precision_score = cross_val_score(model, x_test, y_test, cv=5, scoring=\"precision\").mean()\n",
    "    print(\"Cross validation Precision score: {}{}\".format(round(cv_precision_score*100, 2), \"%\"))\n",
    "\n",
    "    cv_recall_score = cross_val_score(model, x_test, y_test, cv=5, scoring=\"recall\").mean()\n",
    "    print(\"Cross validation Recall score: {}{}\".format(round(cv_recall_score*100, 2), \"%\"))\n",
    "\n",
    "    cv_f1_score = cross_val_score(model, x_test, y_test, cv=5, scoring=\"f1\").mean()\n",
    "    print(\"Cross validation F1 score: {}{}\".format(round(cv_f1_score*100, 2), \"%\"))\n",
    "    \n",
    "    cf_matrix = confusion_matrix(y_test, y_pred)\n",
    "    \n",
    "    fig, ax = plt.subplots(figsize = (10,8))\n",
    "    ax = sns.heatmap(cf_matrix/np.sum(cf_matrix), annot=True, fmt='.2%', cmap='Blues')\n",
    "\n",
    "    ax.set_title('Confusion Matrix with labels\\n\\n', loc='left')\n",
    "    ax.set_xlabel('\\nPredicted Values')\n",
    "    ax.set_ylabel('Actual Values ')\n",
    "    ax.xaxis.set_ticklabels(['False','True'])\n",
    "    ax.yaxis.set_ticklabels(['False','True'])\n",
    "    plt.show()\n",
    "    \n",
    "    return model\n",
    "    "
   ]
  },
  {
   "cell_type": "markdown",
   "metadata": {},
   "source": [
    "#### Model 1 Random Forest Classification"
   ]
  },
  {
   "cell_type": "code",
   "execution_count": 13,
   "metadata": {},
   "outputs": [],
   "source": [
    "# split the data\n",
    "x_train, x_test, y_train, y_test = train_test_split(features, target, \n",
    "                                                test_size =0.30, random_state =42, shuffle = True, stratify = target)"
   ]
  },
  {
   "cell_type": "code",
   "execution_count": 14,
   "metadata": {},
   "outputs": [
    {
     "name": "stdout",
     "output_type": "stream",
     "text": [
      "Accuracy score: 99.23%\n",
      "Cross validation Accuracy score: 98.81%\n",
      "Cross validation Precision score: 92.69%\n",
      "Cross validation Recall score: 37.87%\n",
      "Cross validation F1 score: 53.74%\n"
     ]
    },
    {
     "data": {
      "image/png": "[encoded data removed]",
      "text/plain": [
       "<Figure size 720x576 with 2 Axes>"
      ]
     },
     "metadata": {
      "needs_background": "light"
     },
     "output_type": "display_data"
    }
   ],
   "source": [
    "rfm = RandomForestClassifier()\n",
    "model1 = results(rfm, x_train, y_train, x_test, y_test)"
   ]
  },
  {
   "cell_type": "markdown",
   "metadata": {},
   "source": [
    "#### Model 2 Support Vector Machines: RBF Kernel"
   ]
  },
  {
   "cell_type": "code",
   "execution_count": 17,
   "metadata": {},
   "outputs": [],
   "source": [
    "one_hot_encoded_data = pd.get_dummies(features, columns = ['DayNight', 'HotSpotType', 'slope1', 'slope4', \n",
    "                                                           'WAT_LAND', 'URB_LAND', 'GRS_LAND'])"
   ]
  },
  {
   "cell_type": "code",
   "execution_count": 18,
   "metadata": {},
   "outputs": [],
   "source": [
    "# scaling the features\n",
    "sc = StandardScaler()\n",
    "x_train_std = sc.fit_transform(x_train)\n",
    "x_test_std = sc.transform(x_test)"
   ]
  },
  {
   "cell_type": "code",
   "execution_count": 19,
   "metadata": {},
   "outputs": [
    {
     "name": "stdout",
     "output_type": "stream",
     "text": [
      "Accuracy score: 98.3%\n",
      "Cross validation Accuracy score: 98.26%\n",
      "Cross validation Precision score: 86.29%\n",
      "Cross validation Recall score: 5.43%\n",
      "Cross validation F1 score: 10.18%\n"
     ]
    },
    {
     "data": {
      "image/png": "[encoded data removed]",
      "text/plain": [
       "<Figure size 720x576 with 2 Axes>"
      ]
     },
     "metadata": {
      "needs_background": "light"
     },
     "output_type": "display_data"
    }
   ],
   "source": [
    "rbf = svm.SVC(kernel='rbf', C=1.0)\n",
    "model2 = results(rbf, x_train_std, y_train, x_test_std, y_test)"
   ]
  },
  {
   "cell_type": "markdown",
   "metadata": {},
   "source": [
    "### Feature Selection"
   ]
  },
  {
   "cell_type": "code",
   "execution_count": 23,
   "metadata": {},
   "outputs": [],
   "source": [
    "# load libraries\n",
    "from sklearn.feature_selection import SelectKBest\n",
    "from sklearn.feature_selection import chi2, f_classif, mutual_info_classif\n",
    "from functools import partial\n",
    "\n",
    "from sklearn.preprocessing import StandardScaler\n",
    "from sklearn.decomposition import PCA"
   ]
  },
  {
   "cell_type": "code",
   "execution_count": 24,
   "metadata": {},
   "outputs": [],
   "source": [
    "def FeatureSelector(df, y, score_func, k):\n",
    "    \n",
    "    # apply SelectKBest class to extract top features from categorical variables only \n",
    "    feature_selector = SelectKBest(score_func=score_func, k=k)\n",
    "    features_kbest = feature_selector.fit(df,y)\n",
    "\n",
    "    dfscores = pd.DataFrame(features_kbest.scores_)\n",
    "    dfcolumns = pd.DataFrame(df.columns)\n",
    "\n",
    "    #concat two dataframes for better visualization \n",
    "    featureScores = pd.concat([dfcolumns,dfscores],axis=1)\n",
    "    featureScores.columns = ['Features','Score']  #naming the dataframe columns\n",
    "    top_feature = featureScores.nlargest(k,'Score')  # best features\n",
    "    return top_feature"
   ]
  },
  {
   "cell_type": "code",
   "execution_count": 28,
   "metadata": {},
   "outputs": [],
   "source": [
    "top = FeatureSelector(features, target, f_classif, 10)"
   ]
  },
  {
   "cell_type": "code",
   "execution_count": 29,
   "metadata": {},
   "outputs": [
    {
     "data": {
      "text/html": [
       "<div>\n",
       "<style scoped>\n",
       "    .dataframe tbody tr th:only-of-type {\n",
       "        vertical-align: middle;\n",
       "    }\n",
       "\n",
       "    .dataframe tbody tr th {\n",
       "        vertical-align: top;\n",
       "    }\n",
       "\n",
       "    .dataframe thead th {\n",
       "        text-align: right;\n",
       "    }\n",
       "</style>\n",
       "<table border=\"1\" class=\"dataframe\">\n",
       "  <thead>\n",
       "    <tr style=\"text-align: right;\">\n",
       "      <th></th>\n",
       "      <th>Features</th>\n",
       "      <th>Score</th>\n",
       "    </tr>\n",
       "  </thead>\n",
       "  <tbody>\n",
       "    <tr>\n",
       "      <th>5</th>\n",
       "      <td>BrightT31</td>\n",
       "      <td>1318.795391</td>\n",
       "    </tr>\n",
       "    <tr>\n",
       "      <th>2</th>\n",
       "      <td>Brightness</td>\n",
       "      <td>1026.954937</td>\n",
       "    </tr>\n",
       "    <tr>\n",
       "      <th>0</th>\n",
       "      <td>NasaLatitude</td>\n",
       "      <td>776.390461</td>\n",
       "    </tr>\n",
       "    <tr>\n",
       "      <th>7</th>\n",
       "      <td>DayNight</td>\n",
       "      <td>736.894874</td>\n",
       "    </tr>\n",
       "    <tr>\n",
       "      <th>17</th>\n",
       "      <td>WS10M</td>\n",
       "      <td>478.665266</td>\n",
       "    </tr>\n",
       "    <tr>\n",
       "      <th>6</th>\n",
       "      <td>Frp</td>\n",
       "      <td>365.725146</td>\n",
       "    </tr>\n",
       "    <tr>\n",
       "      <th>8</th>\n",
       "      <td>HotSpotType</td>\n",
       "      <td>351.405982</td>\n",
       "    </tr>\n",
       "    <tr>\n",
       "      <th>14</th>\n",
       "      <td>PS</td>\n",
       "      <td>327.752551</td>\n",
       "    </tr>\n",
       "    <tr>\n",
       "      <th>4</th>\n",
       "      <td>Confidence</td>\n",
       "      <td>275.585417</td>\n",
       "    </tr>\n",
       "    <tr>\n",
       "      <th>19</th>\n",
       "      <td>slope1</td>\n",
       "      <td>272.074526</td>\n",
       "    </tr>\n",
       "  </tbody>\n",
       "</table>\n",
       "</div>"
      ],
      "text/plain": [
       "        Features        Score\n",
       "5      BrightT31  1318.795391\n",
       "2     Brightness  1026.954937\n",
       "0   NasaLatitude   776.390461\n",
       "7       DayNight   736.894874\n",
       "17         WS10M   478.665266\n",
       "6            Frp   365.725146\n",
       "8    HotSpotType   351.405982\n",
       "14            PS   327.752551\n",
       "4     Confidence   275.585417\n",
       "19        slope1   272.074526"
      ]
     },
     "execution_count": 29,
     "metadata": {},
     "output_type": "execute_result"
    }
   ],
   "source": [
    "top"
   ]
  },
  {
   "cell_type": "code",
   "execution_count": 30,
   "metadata": {},
   "outputs": [],
   "source": [
    "f_list = top['Features'].tolist()\n",
    "inputs = features[f_list]"
   ]
  },
  {
   "cell_type": "code",
   "execution_count": 31,
   "metadata": {},
   "outputs": [],
   "source": [
    "# split the data\n",
    "x_train, x_test, y_train, y_test = train_test_split(inputs, target, \n",
    "                                                test_size =0.30, random_state =42, shuffle = True, stratify = target)"
   ]
  },
  {
   "cell_type": "code",
   "execution_count": 32,
   "metadata": {},
   "outputs": [
    {
     "name": "stdout",
     "output_type": "stream",
     "text": [
      "Accuracy score: 98.8%\n",
      "Cross validation Accuracy score: 98.5%\n",
      "Cross validation Precision score: 91.6%\n",
      "Cross validation Recall score: 19.33%\n",
      "Cross validation F1 score: 32.68%\n"
     ]
    },
    {
     "data": {
      "image/png": "[encoded data removed]",
      "text/plain": [
       "<Figure size 720x576 with 2 Axes>"
      ]
     },
     "metadata": {
      "needs_background": "light"
     },
     "output_type": "display_data"
    }
   ],
   "source": [
    "rfm2 = RandomForestClassifier()\n",
    "model3 = results(rfm2, x_train, y_train, x_test, y_test)"
   ]
  },
  {
   "cell_type": "code",
   "execution_count": null,
   "metadata": {},
   "outputs": [],
   "source": []
  }
 ],
 "metadata": {
  "kernelspec": {
   "display_name": "Python 3",
   "language": "python",
   "name": "python3"
  },
  "language_info": {
   "codemirror_mode": {
    "name": "ipython",
    "version": 3
   },
   "file_extension": ".py",
   "mimetype": "text/x-python",
   "name": "python",
   "nbconvert_exporter": "python",
   "pygments_lexer": "ipython3",
   "version": "3.6.13"
  }
 },
 "nbformat": 4,
 "nbformat_minor": 5
}
