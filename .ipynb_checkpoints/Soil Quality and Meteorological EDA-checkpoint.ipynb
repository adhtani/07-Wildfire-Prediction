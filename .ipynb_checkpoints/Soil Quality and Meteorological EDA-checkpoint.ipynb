{
 "cells": [
  {
   "cell_type": "markdown",
   "metadata": {},
   "source": [
    "# Soil and Metereological Data Preparation"
   ]
  },
  {
   "cell_type": "code",
   "execution_count": 1,
   "metadata": {},
   "outputs": [],
   "source": [
    "import datetime as dt\n",
    "from pathlib import Path\n",
    "import math\n",
    "import os\n",
    "import sqlite3\n",
    "import json\n",
    "import geopandas as gpd\n",
    "import pygeos\n",
    "import pyproj    \n",
    "import shapely\n",
    "import shapely.ops as ops\n",
    "from shapely.geometry import Point, Polygon\n",
    "from shapely.geometry.polygon import Polygon\n",
    "from functools import partial\n",
    "\n",
    "import pandas as pd\n",
    "import numpy as np\n",
    "import seaborn as sns\n",
    "import matplotlib.pyplot as plt\n",
    "%matplotlib inline \n",
    "\n",
    "from sklearn.model_selection import train_test_split\n",
    "\n",
    "\n",
    "from sklearn import svm\n",
    "from sklearn.svm import SVC\n",
    "from sklearn.ensemble import RandomForestClassifier\n",
    "from sklearn.naive_bayes import GaussianNB\n",
    "from sklearn.metrics import accuracy_score, classification_report, confusion_matrix\n",
    "\n",
    "from sklearn.feature_selection import SelectKBest\n",
    "from sklearn.feature_selection import chi2, f_classif, mutual_info_classif\n",
    "from functools import partial\n",
    "\n",
    "\n",
    "from sklearn.preprocessing import StandardScaler\n",
    "\n",
    "import warnings\n",
    "warnings.filterwarnings('ignore')"
   ]
  },
  {
   "cell_type": "markdown",
   "metadata": {},
   "source": [
    "### Data Collection"
   ]
  },
  {
   "cell_type": "code",
   "execution_count": 2,
   "metadata": {},
   "outputs": [],
   "source": [
    "Drought1 = pd.read_csv('Data/DroughtData2010-2011.csv') # archive data \n",
    "Drought2 = pd.read_csv('Data/DroughtData2012-2020.csv') # new data DroughtData2000\n",
    "Drought3 = pd.read_csv('Data/DroughtData2000.csv')"
   ]
  },
  {
   "cell_type": "code",
   "execution_count": 3,
   "metadata": {},
   "outputs": [],
   "source": [
    "soil_df = pd.read_csv('Data/soil_data.csv') # new data "
   ]
  },
  {
   "cell_type": "code",
   "execution_count": 4,
   "metadata": {},
   "outputs": [],
   "source": [
    "# Checking data type\n",
    "def Datatype(df):\n",
    "    # shape and data types of the data\n",
    "    print(\"There are {} rows and {} columns\".format(df.shape[0], df.shape[1]))\n",
    "    print(df.dtypes)\n",
    "\n",
    "    # select numeric columns\n",
    "    df_numeric = df.select_dtypes(include=[np.number])\n",
    "    numeric_cols = df_numeric.columns.values\n",
    "    print(numeric_cols)\n",
    "\n",
    "    # select non numeric columns\n",
    "    df_non_numeric = df.select_dtypes(exclude=[np.number])\n",
    "    non_numeric_cols = df_non_numeric.columns.values\n",
    "    print(non_numeric_cols)"
   ]
  },
  {
   "cell_type": "markdown",
   "metadata": {},
   "source": [
    "### 1c. Data Preliminary Analysis: Drought Data (2010-2020)"
   ]
  },
  {
   "cell_type": "code",
   "execution_count": 5,
   "metadata": {},
   "outputs": [],
   "source": [
    "# Adding new month and day variables\n",
    "Drought3['date'] = pd.to_datetime(Drought3['date'])\n",
    "Drought3.rename(columns={\"date\":\"DroughtDate\"}, inplace=True)\n",
    "\n",
    "Drought3['DroughtYear'] = Drought3['DroughtDate'].dt.year\n",
    "Drought3['DroughtMonth'] = Drought3['DroughtDate'].dt.month\n",
    "Drought3['DroughtDay'] = Drought3['DroughtDate'].dt.day"
   ]
  },
  {
   "cell_type": "code",
   "execution_count": 6,
   "metadata": {},
   "outputs": [],
   "source": [
    "df1 = Drought3[Drought3['DroughtYear'] >=2011]"
   ]
  },
  {
   "cell_type": "code",
   "execution_count": 7,
   "metadata": {},
   "outputs": [],
   "source": [
    "df1['DroughtYear'] = df1['DroughtYear'].astype(int)\n",
    "df1['DroughtMonth'] = df1['DroughtMonth'].astype(int)\n",
    "df1['DroughtDay'] = df1['DroughtDay'].astype(int)"
   ]
  },
  {
   "cell_type": "code",
   "execution_count": 8,
   "metadata": {},
   "outputs": [
    {
     "name": "stdout",
     "output_type": "stream",
     "text": [
      "(4540788, 21)\n"
     ]
    },
    {
     "data": {
      "text/html": [
       "<div>\n",
       "<style scoped>\n",
       "    .dataframe tbody tr th:only-of-type {\n",
       "        vertical-align: middle;\n",
       "    }\n",
       "\n",
       "    .dataframe tbody tr th {\n",
       "        vertical-align: top;\n",
       "    }\n",
       "\n",
       "    .dataframe thead th {\n",
       "        text-align: right;\n",
       "    }\n",
       "</style>\n",
       "<table border=\"1\" class=\"dataframe\">\n",
       "  <thead>\n",
       "    <tr style=\"text-align: right;\">\n",
       "      <th></th>\n",
       "      <th>fips</th>\n",
       "      <th>date</th>\n",
       "      <th>PRECTOT</th>\n",
       "      <th>PS</th>\n",
       "      <th>QV2M</th>\n",
       "      <th>T2M</th>\n",
       "      <th>T2MDEW</th>\n",
       "      <th>T2MWET</th>\n",
       "      <th>T2M_MAX</th>\n",
       "      <th>T2M_MIN</th>\n",
       "      <th>...</th>\n",
       "      <th>TS</th>\n",
       "      <th>WS10M</th>\n",
       "      <th>WS10M_MAX</th>\n",
       "      <th>WS10M_MIN</th>\n",
       "      <th>WS10M_RANGE</th>\n",
       "      <th>WS50M</th>\n",
       "      <th>WS50M_MAX</th>\n",
       "      <th>WS50M_MIN</th>\n",
       "      <th>WS50M_RANGE</th>\n",
       "      <th>score</th>\n",
       "    </tr>\n",
       "  </thead>\n",
       "  <tbody>\n",
       "    <tr>\n",
       "      <th>2271944</th>\n",
       "      <td>56043</td>\n",
       "      <td>2020-12-28</td>\n",
       "      <td>0.00</td>\n",
       "      <td>83.04</td>\n",
       "      <td>1.82</td>\n",
       "      <td>-7.31</td>\n",
       "      <td>-12.06</td>\n",
       "      <td>-9.68</td>\n",
       "      <td>-1.48</td>\n",
       "      <td>-11.51</td>\n",
       "      <td>...</td>\n",
       "      <td>-10.61</td>\n",
       "      <td>1.83</td>\n",
       "      <td>2.81</td>\n",
       "      <td>0.10</td>\n",
       "      <td>2.72</td>\n",
       "      <td>2.52</td>\n",
       "      <td>3.69</td>\n",
       "      <td>0.14</td>\n",
       "      <td>3.56</td>\n",
       "      <td>NaN</td>\n",
       "    </tr>\n",
       "    <tr>\n",
       "      <th>2271945</th>\n",
       "      <td>56043</td>\n",
       "      <td>2020-12-29</td>\n",
       "      <td>0.00</td>\n",
       "      <td>82.78</td>\n",
       "      <td>1.87</td>\n",
       "      <td>-7.38</td>\n",
       "      <td>-11.79</td>\n",
       "      <td>-9.59</td>\n",
       "      <td>-0.88</td>\n",
       "      <td>-11.39</td>\n",
       "      <td>...</td>\n",
       "      <td>-10.81</td>\n",
       "      <td>2.70</td>\n",
       "      <td>6.22</td>\n",
       "      <td>0.18</td>\n",
       "      <td>6.04</td>\n",
       "      <td>3.84</td>\n",
       "      <td>7.66</td>\n",
       "      <td>0.29</td>\n",
       "      <td>7.37</td>\n",
       "      <td>3.5182</td>\n",
       "    </tr>\n",
       "    <tr>\n",
       "      <th>2271946</th>\n",
       "      <td>56043</td>\n",
       "      <td>2020-12-30</td>\n",
       "      <td>0.01</td>\n",
       "      <td>82.87</td>\n",
       "      <td>1.57</td>\n",
       "      <td>-6.40</td>\n",
       "      <td>-13.94</td>\n",
       "      <td>-10.17</td>\n",
       "      <td>1.33</td>\n",
       "      <td>-12.16</td>\n",
       "      <td>...</td>\n",
       "      <td>-8.74</td>\n",
       "      <td>2.93</td>\n",
       "      <td>4.10</td>\n",
       "      <td>1.62</td>\n",
       "      <td>2.48</td>\n",
       "      <td>4.42</td>\n",
       "      <td>6.05</td>\n",
       "      <td>2.79</td>\n",
       "      <td>3.26</td>\n",
       "      <td>NaN</td>\n",
       "    </tr>\n",
       "    <tr>\n",
       "      <th>2271947</th>\n",
       "      <td>56043</td>\n",
       "      <td>2020-12-31</td>\n",
       "      <td>0.00</td>\n",
       "      <td>82.82</td>\n",
       "      <td>2.13</td>\n",
       "      <td>-3.83</td>\n",
       "      <td>-10.12</td>\n",
       "      <td>-6.98</td>\n",
       "      <td>2.16</td>\n",
       "      <td>-8.57</td>\n",
       "      <td>...</td>\n",
       "      <td>-6.61</td>\n",
       "      <td>2.16</td>\n",
       "      <td>3.72</td>\n",
       "      <td>0.31</td>\n",
       "      <td>3.41</td>\n",
       "      <td>3.39</td>\n",
       "      <td>6.46</td>\n",
       "      <td>0.41</td>\n",
       "      <td>6.06</td>\n",
       "      <td>NaN</td>\n",
       "    </tr>\n",
       "  </tbody>\n",
       "</table>\n",
       "<p>4 rows × 21 columns</p>\n",
       "</div>"
      ],
      "text/plain": [
       "          fips        date  PRECTOT     PS  QV2M   T2M  T2MDEW  T2MWET  \\\n",
       "2271944  56043  2020-12-28     0.00  83.04  1.82 -7.31  -12.06   -9.68   \n",
       "2271945  56043  2020-12-29     0.00  82.78  1.87 -7.38  -11.79   -9.59   \n",
       "2271946  56043  2020-12-30     0.01  82.87  1.57 -6.40  -13.94  -10.17   \n",
       "2271947  56043  2020-12-31     0.00  82.82  2.13 -3.83  -10.12   -6.98   \n",
       "\n",
       "         T2M_MAX  T2M_MIN  ...     TS  WS10M  WS10M_MAX  WS10M_MIN  \\\n",
       "2271944    -1.48   -11.51  ... -10.61   1.83       2.81       0.10   \n",
       "2271945    -0.88   -11.39  ... -10.81   2.70       6.22       0.18   \n",
       "2271946     1.33   -12.16  ...  -8.74   2.93       4.10       1.62   \n",
       "2271947     2.16    -8.57  ...  -6.61   2.16       3.72       0.31   \n",
       "\n",
       "         WS10M_RANGE  WS50M  WS50M_MAX  WS50M_MIN  WS50M_RANGE   score  \n",
       "2271944         2.72   2.52       3.69       0.14         3.56     NaN  \n",
       "2271945         6.04   3.84       7.66       0.29         7.37  3.5182  \n",
       "2271946         2.48   4.42       6.05       2.79         3.26     NaN  \n",
       "2271947         3.41   3.39       6.46       0.41         6.06     NaN  \n",
       "\n",
       "[4 rows x 21 columns]"
      ]
     },
     "execution_count": 8,
     "metadata": {},
     "output_type": "execute_result"
    }
   ],
   "source": [
    "drought_df = pd.concat([Drought1, Drought2]) #concatenate old and new data\n",
    "print(drought_df.shape)\n",
    "drought_df.tail(4)"
   ]
  },
  {
   "cell_type": "code",
   "execution_count": 9,
   "metadata": {},
   "outputs": [],
   "source": [
    "# Adding new month and day variables\n",
    "drought_df['date'] = pd.to_datetime(drought_df['date'])\n",
    "drought_df.rename(columns={\"date\":\"DroughtDate\"}, inplace=True)\n",
    "\n",
    "drought_df['DroughtYear'] = drought_df['DroughtDate'].dt.year\n",
    "drought_df['DroughtMonth'] = drought_df['DroughtDate'].dt.month\n",
    "drought_df['DroughtDay'] = drought_df['DroughtDate'].dt.day"
   ]
  },
  {
   "cell_type": "code",
   "execution_count": 10,
   "metadata": {},
   "outputs": [],
   "source": [
    "drought_df['DroughtYear'] = drought_df['DroughtYear'].astype(int)\n",
    "drought_df['DroughtMonth'] = drought_df['DroughtMonth'].astype(int)\n",
    "drought_df['DroughtDay'] = drought_df['DroughtDay'].astype(int)"
   ]
  },
  {
   "cell_type": "code",
   "execution_count": 11,
   "metadata": {},
   "outputs": [
    {
     "name": "stdout",
     "output_type": "stream",
     "text": [
      "(11353524, 24)\n"
     ]
    },
    {
     "data": {
      "text/html": [
       "<div>\n",
       "<style scoped>\n",
       "    .dataframe tbody tr th:only-of-type {\n",
       "        vertical-align: middle;\n",
       "    }\n",
       "\n",
       "    .dataframe tbody tr th {\n",
       "        vertical-align: top;\n",
       "    }\n",
       "\n",
       "    .dataframe thead th {\n",
       "        text-align: right;\n",
       "    }\n",
       "</style>\n",
       "<table border=\"1\" class=\"dataframe\">\n",
       "  <thead>\n",
       "    <tr style=\"text-align: right;\">\n",
       "      <th></th>\n",
       "      <th>fips</th>\n",
       "      <th>DroughtDate</th>\n",
       "      <th>PRECTOT</th>\n",
       "      <th>PS</th>\n",
       "      <th>QV2M</th>\n",
       "      <th>T2M</th>\n",
       "      <th>T2MDEW</th>\n",
       "      <th>T2MWET</th>\n",
       "      <th>T2M_MAX</th>\n",
       "      <th>T2M_MIN</th>\n",
       "      <th>...</th>\n",
       "      <th>WS10M_MIN</th>\n",
       "      <th>WS10M_RANGE</th>\n",
       "      <th>WS50M</th>\n",
       "      <th>WS50M_MAX</th>\n",
       "      <th>WS50M_MIN</th>\n",
       "      <th>WS50M_RANGE</th>\n",
       "      <th>score</th>\n",
       "      <th>DroughtYear</th>\n",
       "      <th>DroughtMonth</th>\n",
       "      <th>DroughtDay</th>\n",
       "    </tr>\n",
       "  </thead>\n",
       "  <tbody>\n",
       "    <tr>\n",
       "      <th>19300676</th>\n",
       "      <td>56043</td>\n",
       "      <td>2016-12-28</td>\n",
       "      <td>0.02</td>\n",
       "      <td>83.33</td>\n",
       "      <td>1.41</td>\n",
       "      <td>-8.71</td>\n",
       "      <td>-14.10</td>\n",
       "      <td>-13.84</td>\n",
       "      <td>-2.49</td>\n",
       "      <td>-13.56</td>\n",
       "      <td>...</td>\n",
       "      <td>4.11</td>\n",
       "      <td>7.32</td>\n",
       "      <td>9.92</td>\n",
       "      <td>14.49</td>\n",
       "      <td>7.26</td>\n",
       "      <td>7.22</td>\n",
       "      <td>NaN</td>\n",
       "      <td>2016</td>\n",
       "      <td>12</td>\n",
       "      <td>28</td>\n",
       "    </tr>\n",
       "    <tr>\n",
       "      <th>19300677</th>\n",
       "      <td>56043</td>\n",
       "      <td>2016-12-29</td>\n",
       "      <td>0.00</td>\n",
       "      <td>83.75</td>\n",
       "      <td>1.59</td>\n",
       "      <td>-7.96</td>\n",
       "      <td>-13.30</td>\n",
       "      <td>-13.03</td>\n",
       "      <td>0.42</td>\n",
       "      <td>-14.51</td>\n",
       "      <td>...</td>\n",
       "      <td>2.03</td>\n",
       "      <td>4.22</td>\n",
       "      <td>6.56</td>\n",
       "      <td>10.07</td>\n",
       "      <td>3.20</td>\n",
       "      <td>6.87</td>\n",
       "      <td>NaN</td>\n",
       "      <td>2016</td>\n",
       "      <td>12</td>\n",
       "      <td>29</td>\n",
       "    </tr>\n",
       "    <tr>\n",
       "      <th>19300678</th>\n",
       "      <td>56043</td>\n",
       "      <td>2016-12-30</td>\n",
       "      <td>1.22</td>\n",
       "      <td>82.49</td>\n",
       "      <td>2.63</td>\n",
       "      <td>-2.94</td>\n",
       "      <td>-7.40</td>\n",
       "      <td>-7.33</td>\n",
       "      <td>3.76</td>\n",
       "      <td>-6.86</td>\n",
       "      <td>...</td>\n",
       "      <td>1.99</td>\n",
       "      <td>5.35</td>\n",
       "      <td>7.28</td>\n",
       "      <td>10.12</td>\n",
       "      <td>3.24</td>\n",
       "      <td>6.89</td>\n",
       "      <td>NaN</td>\n",
       "      <td>2016</td>\n",
       "      <td>12</td>\n",
       "      <td>30</td>\n",
       "    </tr>\n",
       "    <tr>\n",
       "      <th>19300679</th>\n",
       "      <td>56043</td>\n",
       "      <td>2016-12-31</td>\n",
       "      <td>0.44</td>\n",
       "      <td>82.19</td>\n",
       "      <td>1.75</td>\n",
       "      <td>-7.56</td>\n",
       "      <td>-11.98</td>\n",
       "      <td>-11.82</td>\n",
       "      <td>-0.95</td>\n",
       "      <td>-11.61</td>\n",
       "      <td>...</td>\n",
       "      <td>0.41</td>\n",
       "      <td>3.06</td>\n",
       "      <td>3.37</td>\n",
       "      <td>5.26</td>\n",
       "      <td>0.66</td>\n",
       "      <td>4.60</td>\n",
       "      <td>NaN</td>\n",
       "      <td>2016</td>\n",
       "      <td>12</td>\n",
       "      <td>31</td>\n",
       "    </tr>\n",
       "  </tbody>\n",
       "</table>\n",
       "<p>4 rows × 24 columns</p>\n",
       "</div>"
      ],
      "text/plain": [
       "           fips DroughtDate  PRECTOT     PS  QV2M   T2M  T2MDEW  T2MWET  \\\n",
       "19300676  56043  2016-12-28     0.02  83.33  1.41 -8.71  -14.10  -13.84   \n",
       "19300677  56043  2016-12-29     0.00  83.75  1.59 -7.96  -13.30  -13.03   \n",
       "19300678  56043  2016-12-30     1.22  82.49  2.63 -2.94   -7.40   -7.33   \n",
       "19300679  56043  2016-12-31     0.44  82.19  1.75 -7.56  -11.98  -11.82   \n",
       "\n",
       "          T2M_MAX  T2M_MIN  ...  WS10M_MIN  WS10M_RANGE  WS50M  WS50M_MAX  \\\n",
       "19300676    -2.49   -13.56  ...       4.11         7.32   9.92      14.49   \n",
       "19300677     0.42   -14.51  ...       2.03         4.22   6.56      10.07   \n",
       "19300678     3.76    -6.86  ...       1.99         5.35   7.28      10.12   \n",
       "19300679    -0.95   -11.61  ...       0.41         3.06   3.37       5.26   \n",
       "\n",
       "          WS50M_MIN  WS50M_RANGE  score  DroughtYear  DroughtMonth  DroughtDay  \n",
       "19300676       7.26         7.22    NaN         2016            12          28  \n",
       "19300677       3.20         6.87    NaN         2016            12          29  \n",
       "19300678       3.24         6.89    NaN         2016            12          30  \n",
       "19300679       0.66         4.60    NaN         2016            12          31  \n",
       "\n",
       "[4 rows x 24 columns]"
      ]
     },
     "execution_count": 11,
     "metadata": {},
     "output_type": "execute_result"
    }
   ],
   "source": [
    "df = pd.concat([drought_df, df1]) #concatenate old and new data\n",
    "print(df.shape)\n",
    "df.tail(4)"
   ]
  },
  {
   "cell_type": "code",
   "execution_count": 28,
   "metadata": {},
   "outputs": [],
   "source": [
    "df1 = df.drop(['T2MDEW', 'T2M_MAX', 'T2MWET', 'T2M_MIN', 'WS10M_MAX','WS10M_MIN', 'WS50M_MAX', 'WS50M_MIN', \n",
    "               'WS50M', 'WS50M_RANGE', 'QV2M', 'T2M'], axis = 1)"
   ]
  },
  {
   "cell_type": "code",
   "execution_count": 29,
   "metadata": {},
   "outputs": [
    {
     "data": {
      "text/plain": [
       "<AxesSubplot:>"
      ]
     },
     "execution_count": 29,
     "metadata": {},
     "output_type": "execute_result"
    },
    {
     "data": {
      "image/png": "[encoded data removed]",
      "text/plain": [
       "<Figure size 1440x1440 with 2 Axes>"
      ]
     },
     "metadata": {
      "needs_background": "light"
     },
     "output_type": "display_data"
    }
   ],
   "source": [
    "plt.figure(figsize=(20,20))\n",
    "corr = df1.corr()\n",
    "kot = corr[corr>=.75]\n",
    "sns.heatmap(kot, cmap=\"Reds\")"
   ]
  },
  {
   "cell_type": "code",
   "execution_count": 12,
   "metadata": {},
   "outputs": [
    {
     "data": {
      "text/html": [
       "<div>\n",
       "<style scoped>\n",
       "    .dataframe tbody tr th:only-of-type {\n",
       "        vertical-align: middle;\n",
       "    }\n",
       "\n",
       "    .dataframe tbody tr th {\n",
       "        vertical-align: top;\n",
       "    }\n",
       "\n",
       "    .dataframe thead th {\n",
       "        text-align: right;\n",
       "    }\n",
       "</style>\n",
       "<table border=\"1\" class=\"dataframe\">\n",
       "  <thead>\n",
       "    <tr style=\"text-align: right;\">\n",
       "      <th></th>\n",
       "      <th>fips</th>\n",
       "      <th>lat</th>\n",
       "      <th>lon</th>\n",
       "      <th>elevation</th>\n",
       "      <th>slope1</th>\n",
       "      <th>slope2</th>\n",
       "      <th>slope3</th>\n",
       "      <th>slope4</th>\n",
       "      <th>slope5</th>\n",
       "      <th>slope6</th>\n",
       "      <th>...</th>\n",
       "      <th>CULTRF_LAND</th>\n",
       "      <th>CULTIR_LAND</th>\n",
       "      <th>CULT_LAND</th>\n",
       "      <th>SQ1</th>\n",
       "      <th>SQ2</th>\n",
       "      <th>SQ3</th>\n",
       "      <th>SQ4</th>\n",
       "      <th>SQ5</th>\n",
       "      <th>SQ6</th>\n",
       "      <th>SQ7</th>\n",
       "    </tr>\n",
       "  </thead>\n",
       "  <tbody>\n",
       "    <tr>\n",
       "      <th>0</th>\n",
       "      <td>1001</td>\n",
       "      <td>32.536382</td>\n",
       "      <td>-86.644490</td>\n",
       "      <td>63</td>\n",
       "      <td>0.0419</td>\n",
       "      <td>0.2788</td>\n",
       "      <td>0.2984</td>\n",
       "      <td>0.2497</td>\n",
       "      <td>0.1142</td>\n",
       "      <td>0.0170</td>\n",
       "      <td>...</td>\n",
       "      <td>56.293411</td>\n",
       "      <td>1.014811</td>\n",
       "      <td>57.308224</td>\n",
       "      <td>1</td>\n",
       "      <td>1</td>\n",
       "      <td>1</td>\n",
       "      <td>1</td>\n",
       "      <td>1</td>\n",
       "      <td>1</td>\n",
       "      <td>2</td>\n",
       "    </tr>\n",
       "    <tr>\n",
       "      <th>1</th>\n",
       "      <td>1005</td>\n",
       "      <td>31.870670</td>\n",
       "      <td>-85.405456</td>\n",
       "      <td>146</td>\n",
       "      <td>0.0158</td>\n",
       "      <td>0.1868</td>\n",
       "      <td>0.5441</td>\n",
       "      <td>0.2424</td>\n",
       "      <td>0.0106</td>\n",
       "      <td>0.0003</td>\n",
       "      <td>...</td>\n",
       "      <td>72.578804</td>\n",
       "      <td>1.828159</td>\n",
       "      <td>74.406960</td>\n",
       "      <td>3</td>\n",
       "      <td>2</td>\n",
       "      <td>1</td>\n",
       "      <td>1</td>\n",
       "      <td>1</td>\n",
       "      <td>1</td>\n",
       "      <td>1</td>\n",
       "    </tr>\n",
       "  </tbody>\n",
       "</table>\n",
       "<p>2 rows × 32 columns</p>\n",
       "</div>"
      ],
      "text/plain": [
       "   fips        lat        lon  elevation  slope1  slope2  slope3  slope4  \\\n",
       "0  1001  32.536382 -86.644490         63  0.0419  0.2788  0.2984  0.2497   \n",
       "1  1005  31.870670 -85.405456        146  0.0158  0.1868  0.5441  0.2424   \n",
       "\n",
       "   slope5  slope6  ...  CULTRF_LAND  CULTIR_LAND  CULT_LAND  SQ1  SQ2  SQ3  \\\n",
       "0  0.1142  0.0170  ...    56.293411     1.014811  57.308224    1    1    1   \n",
       "1  0.0106  0.0003  ...    72.578804     1.828159  74.406960    3    2    1   \n",
       "\n",
       "   SQ4  SQ5  SQ6  SQ7  \n",
       "0    1    1    1    2  \n",
       "1    1    1    1    1  \n",
       "\n",
       "[2 rows x 32 columns]"
      ]
     },
     "execution_count": 12,
     "metadata": {},
     "output_type": "execute_result"
    }
   ],
   "source": [
    "soil_df.head(2)"
   ]
  },
  {
   "cell_type": "code",
   "execution_count": 15,
   "metadata": {},
   "outputs": [
    {
     "data": {
      "text/plain": [
       "<AxesSubplot:>"
      ]
     },
     "execution_count": 15,
     "metadata": {},
     "output_type": "execute_result"
    },
    {
     "data": {
      "image/png": "[encoded data removed]",
      "text/plain": [
       "<Figure size 1440x1440 with 2 Axes>"
      ]
     },
     "metadata": {
      "needs_background": "light"
     },
     "output_type": "display_data"
    }
   ],
   "source": [
    "plt.figure(figsize=(20,20))\n",
    "corr = soil_df.corr()\n",
    "kot = corr[corr>=.8]\n",
    "sns.heatmap(kot, cmap=\"Reds\")\n"
   ]
  },
  {
   "cell_type": "code",
   "execution_count": 20,
   "metadata": {},
   "outputs": [],
   "source": [
    "df2 = soil_df.drop(['aspectUnknown', 'CULT_LAND', 'SQ1', 'SQ5', 'SQ6', 'SQ7', 'slope5', 'slope7'], axis = 1)"
   ]
  },
  {
   "cell_type": "code",
   "execution_count": 21,
   "metadata": {},
   "outputs": [
    {
     "data": {
      "text/plain": [
       "<AxesSubplot:>"
      ]
     },
     "execution_count": 21,
     "metadata": {},
     "output_type": "execute_result"
    },
    {
     "data": {
      "image/png": "[encoded data removed]",
      "text/plain": [
       "<Figure size 1440x1440 with 2 Axes>"
      ]
     },
     "metadata": {
      "needs_background": "light"
     },
     "output_type": "display_data"
    }
   ],
   "source": [
    "plt.figure(figsize=(20,20))\n",
    "corr = df2.corr()\n",
    "kot = corr[corr>=.75]\n",
    "sns.heatmap(kot, cmap=\"Reds\")"
   ]
  },
  {
   "cell_type": "code",
   "execution_count": 30,
   "metadata": {},
   "outputs": [],
   "source": [
    "drought_soil = pd.merge(df1, df2, how='left', on=['fips'])"
   ]
  },
  {
   "cell_type": "code",
   "execution_count": 31,
   "metadata": {},
   "outputs": [],
   "source": [
    "drought_soil = drought_soil[(drought_soil['lat']<= 42) & (drought_soil['lat'] >= 32)]\n",
    "drought_soil = drought_soil[(drought_soil['lon']<= -114) & (drought_soil['lon'] >= -126)]"
   ]
  },
  {
   "cell_type": "code",
   "execution_count": 32,
   "metadata": {},
   "outputs": [],
   "source": [
    "drought_soil = drought_soil[(drought_soil['DroughtYear'] >=2011) & drought_soil['DroughtYear'] <2021]"
   ]
  },
  {
   "cell_type": "code",
   "execution_count": 33,
   "metadata": {},
   "outputs": [
    {
     "data": {
      "text/plain": [
       "count    277628.000000\n",
       "mean       2015.500411\n",
       "std           2.872668\n",
       "min        2011.000000\n",
       "25%        2013.000000\n",
       "50%        2016.000000\n",
       "75%        2018.000000\n",
       "max        2020.000000\n",
       "Name: DroughtYear, dtype: float64"
      ]
     },
     "execution_count": 33,
     "metadata": {},
     "output_type": "execute_result"
    }
   ],
   "source": [
    "drought_soil['DroughtYear'].describe()"
   ]
  },
  {
   "cell_type": "code",
   "execution_count": 34,
   "metadata": {},
   "outputs": [],
   "source": [
    "drought_soil.to_csv('Data/Drought_Soil.csv')  "
   ]
  },
  {
   "cell_type": "code",
   "execution_count": null,
   "metadata": {},
   "outputs": [],
   "source": []
  }
 ],
 "metadata": {
  "kernelspec": {
   "display_name": "Python 3",
   "language": "python",
   "name": "python3"
  },
  "language_info": {
   "codemirror_mode": {
    "name": "ipython",
    "version": 3
   },
   "file_extension": ".py",
   "mimetype": "text/x-python",
   "name": "python",
   "nbconvert_exporter": "python",
   "pygments_lexer": "ipython3",
   "version": "3.6.13"
  }
 },
 "nbformat": 4,
 "nbformat_minor": 4
}
